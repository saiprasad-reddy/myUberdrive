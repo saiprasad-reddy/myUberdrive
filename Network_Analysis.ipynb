{
 "cells": [
  {
   "cell_type": "code",
   "execution_count": 1,
   "metadata": {},
   "outputs": [],
   "source": [
    "# importing libraries\n",
    "\n",
    "import pandas as pd                              # for manipulating the dataframe\n",
    "import plotly.graph_objects as go                # for plotting\n",
    "import networkx as nx                            # for network analysis"
   ]
  },
  {
   "cell_type": "markdown",
   "metadata": {},
   "source": [
    "# Network Analysis"
   ]
  },
  {
   "cell_type": "markdown",
   "metadata": {},
   "source": [
    "Networks comprise graphical representations of the relationships between different variables. Network analysis allows one to estimate complex patterns of relationships to reveal core features of the network.\n",
    "\n",
    "![Network](https://blog.perceptyx.com/hs-fs/hubfs/Images/Blog/organizational-network-analysis-perceptyx.jpg?width=1907&name=organizational-network-analysis-perceptyx.jpg)"
   ]
  },
  {
   "cell_type": "markdown",
   "metadata": {},
   "source": [
    "Networks or Graphs are a set of objects (called nodes) having some relationship with each other (called edges). \n",
    "\n",
    "In the Uber Drives dataset, the information of the trips between different locations is given. Hence, the travel pattern of the rider, which places are travelled to or from most often and which trips take place frequently can be inspected using a network. \n",
    "\n",
    "The Python library that will help create a network is the networkx library."
   ]
  },
  {
   "cell_type": "markdown",
   "metadata": {},
   "source": [
    "# Reading the Dataset"
   ]
  },
  {
   "cell_type": "code",
   "execution_count": 2,
   "metadata": {},
   "outputs": [],
   "source": [
    "# loading the dataset\n",
    "df = pd.read_csv(\"Uber_Drives_Clean.csv\")"
   ]
  },
  {
   "cell_type": "markdown",
   "metadata": {},
   "source": [
    "Since there is an inherent direction present in this dataset, i.e., a trip starts from a start location and finishes at an end location, a directed graph is made to signify the direction of movement in a trip. \n",
    "\n",
    "Here, nodes are the different locations and an edge between two nodes is a trip between the two locations. \n",
    "\n",
    "The same source (start location) and target (end location) nodes will not lead to a proper edge, hence, only those datapoints are considered for which the start location and the stop location are different."
   ]
  },
  {
   "cell_type": "code",
   "execution_count": 3,
   "metadata": {},
   "outputs": [
    {
     "data": {
      "text/html": [
       "<div>\n",
       "<style scoped>\n",
       "    .dataframe tbody tr th:only-of-type {\n",
       "        vertical-align: middle;\n",
       "    }\n",
       "\n",
       "    .dataframe tbody tr th {\n",
       "        vertical-align: top;\n",
       "    }\n",
       "\n",
       "    .dataframe thead th {\n",
       "        text-align: right;\n",
       "    }\n",
       "</style>\n",
       "<table border=\"1\" class=\"dataframe\">\n",
       "  <thead>\n",
       "    <tr style=\"text-align: right;\">\n",
       "      <th></th>\n",
       "      <th>CATEGORY*</th>\n",
       "      <th>START*</th>\n",
       "      <th>STOP*</th>\n",
       "      <th>MILES*</th>\n",
       "      <th>PURPOSE*</th>\n",
       "      <th>Start Date</th>\n",
       "      <th>Start Time</th>\n",
       "      <th>End Date</th>\n",
       "      <th>End Time</th>\n",
       "      <th>Weekday</th>\n",
       "      <th>Duration</th>\n",
       "    </tr>\n",
       "  </thead>\n",
       "  <tbody>\n",
       "    <tr>\n",
       "      <th>4</th>\n",
       "      <td>Business</td>\n",
       "      <td>Fort Pierce</td>\n",
       "      <td>West Palm Beach</td>\n",
       "      <td>63.7</td>\n",
       "      <td>Customer Visit</td>\n",
       "      <td>2016-01-06</td>\n",
       "      <td>14:42:00</td>\n",
       "      <td>2016-01-06</td>\n",
       "      <td>15:49:00</td>\n",
       "      <td>2</td>\n",
       "      <td>67.0</td>\n",
       "    </tr>\n",
       "    <tr>\n",
       "      <th>6</th>\n",
       "      <td>Business</td>\n",
       "      <td>West Palm Beach</td>\n",
       "      <td>Palm Beach</td>\n",
       "      <td>7.1</td>\n",
       "      <td>Meeting</td>\n",
       "      <td>2016-01-06</td>\n",
       "      <td>17:30:00</td>\n",
       "      <td>2016-01-06</td>\n",
       "      <td>17:35:00</td>\n",
       "      <td>2</td>\n",
       "      <td>5.0</td>\n",
       "    </tr>\n",
       "    <tr>\n",
       "      <th>8</th>\n",
       "      <td>Business</td>\n",
       "      <td>Cary</td>\n",
       "      <td>Morrisville</td>\n",
       "      <td>8.3</td>\n",
       "      <td>Meeting</td>\n",
       "      <td>2016-01-10</td>\n",
       "      <td>08:05:00</td>\n",
       "      <td>2016-01-10</td>\n",
       "      <td>08:25:00</td>\n",
       "      <td>6</td>\n",
       "      <td>20.0</td>\n",
       "    </tr>\n",
       "    <tr>\n",
       "      <th>9</th>\n",
       "      <td>Business</td>\n",
       "      <td>Jamaica</td>\n",
       "      <td>New York</td>\n",
       "      <td>16.5</td>\n",
       "      <td>Customer Visit</td>\n",
       "      <td>2016-01-10</td>\n",
       "      <td>12:17:00</td>\n",
       "      <td>2016-01-10</td>\n",
       "      <td>12:44:00</td>\n",
       "      <td>6</td>\n",
       "      <td>27.0</td>\n",
       "    </tr>\n",
       "    <tr>\n",
       "      <th>10</th>\n",
       "      <td>Business</td>\n",
       "      <td>New York</td>\n",
       "      <td>Queens</td>\n",
       "      <td>10.8</td>\n",
       "      <td>Meeting</td>\n",
       "      <td>2016-01-10</td>\n",
       "      <td>15:08:00</td>\n",
       "      <td>2016-01-10</td>\n",
       "      <td>15:51:00</td>\n",
       "      <td>6</td>\n",
       "      <td>43.0</td>\n",
       "    </tr>\n",
       "  </tbody>\n",
       "</table>\n",
       "</div>"
      ],
      "text/plain": [
       "   CATEGORY*           START*            STOP*  MILES*        PURPOSE*  \\\n",
       "4   Business      Fort Pierce  West Palm Beach    63.7  Customer Visit   \n",
       "6   Business  West Palm Beach       Palm Beach     7.1         Meeting   \n",
       "8   Business             Cary      Morrisville     8.3         Meeting   \n",
       "9   Business          Jamaica         New York    16.5  Customer Visit   \n",
       "10  Business         New York           Queens    10.8         Meeting   \n",
       "\n",
       "    Start Date Start Time    End Date  End Time  Weekday  Duration  \n",
       "4   2016-01-06   14:42:00  2016-01-06  15:49:00        2      67.0  \n",
       "6   2016-01-06   17:30:00  2016-01-06  17:35:00        2       5.0  \n",
       "8   2016-01-10   08:05:00  2016-01-10  08:25:00        6      20.0  \n",
       "9   2016-01-10   12:17:00  2016-01-10  12:44:00        6      27.0  \n",
       "10  2016-01-10   15:08:00  2016-01-10  15:51:00        6      43.0  "
      ]
     },
     "execution_count": 3,
     "metadata": {},
     "output_type": "execute_result"
    }
   ],
   "source": [
    "# filtering the dataframe\n",
    "df_diff_area = df[df['START*']!=df['STOP*']]\n",
    "\n",
    "df_diff_area.head()"
   ]
  },
  {
   "cell_type": "markdown",
   "metadata": {},
   "source": [
    "# Making the Network"
   ]
  },
  {
   "cell_type": "markdown",
   "metadata": {},
   "source": [
    "A directed graph is made using the filtered dataframe."
   ]
  },
  {
   "cell_type": "code",
   "execution_count": 4,
   "metadata": {},
   "outputs": [],
   "source": [
    "# making the graph/network\n",
    "G = nx.from_pandas_edgelist(df_diff_area, source='START*', target='STOP*', \n",
    "                            create_using=nx.DiGraph())"
   ]
  },
  {
   "cell_type": "code",
   "execution_count": 5,
   "metadata": {},
   "outputs": [
    {
     "data": {
      "text/plain": [
       "<networkx.classes.digraph.DiGraph at 0xc44f550>"
      ]
     },
     "execution_count": 5,
     "metadata": {},
     "output_type": "execute_result"
    }
   ],
   "source": [
    "G"
   ]
  },
  {
   "cell_type": "code",
   "execution_count": 6,
   "metadata": {
    "scrolled": true
   },
   "outputs": [
    {
     "data": {
      "text/plain": [
       "NodeView(('Fort Pierce', 'West Palm Beach', 'Palm Beach', 'Cary', 'Morrisville', 'Jamaica', 'New York', 'Queens', 'Elmhurst', 'Midtown', 'East Harlem', 'NoMad', 'Flatiron District', 'Midtown East', 'Hudson Square', 'Lower Manhattan', \"Hell's Kitchen\", 'Queens County', 'Downtown', 'Gulfton', 'Eagan Park', 'Jamestown Court', 'Durham', 'Farmington Woods', 'Whitebridge', 'Lake Wellingborough', 'Raleigh', 'Fayetteville Street', 'Umstead', 'Hazelwood', 'Westpark Place', 'Fairmont', 'Meredith Townes', 'Leesville Hollow', 'Apex', 'Chapel Hill', 'Northwoods', 'Williamsburg Manor', 'Macgregor Downs', 'Edgehill Farms', 'Tanglewood', 'Preston', 'Eastgate', 'Walnut Terrace', 'East Elmhurst', 'Jackson Heights', 'Midtown West', 'Long Island City', 'Heritage Pines', 'Waverly Place', 'Wayne Ridge', 'Depot Historic District', 'East Austin', 'West University', 'South Congress', 'Arts District', 'The Drag', 'Congress Ave District', 'Red River District', 'Convention Center District', 'North Austin', 'Georgian Acres', 'Coxville', 'Austin', 'Katy', 'Houston', 'Alief', 'Sharpstown', 'Sugar Land', 'Galveston', 'Port Bolivar', 'Washington Avenue', 'Briar Meadow', 'Greater Greenspoint', 'Latta', 'Jacksonville', 'Kissimmee', 'Couples Glen', 'Isles of Buena Vista', 'Orlando', 'Vista East', 'Sand Lake Commons', 'Sky Lake', 'Daytona Beach', 'Ridgeland', 'Florence', 'Meredith', 'Cedar Hill', 'Holly Springs', 'Harden Place', 'Burtrose', 'Parkway', 'Mcvan', 'Capitol One', 'University District', 'Seattle', 'Redmond', 'Bellevue', 'San Francisco', 'Palo Alto', 'Sunnyvale', 'Newark', 'Menlo Park', 'Old City', 'Parkway Museums', 'Hog Island', 'Savon Height', 'Kildaire Farms', 'Kilarney Woods', 'Townes at Everett Crossing', 'Chessington', 'Huntington Woods', 'Weston', 'Seaport', 'Gramercy-Flatiron', 'Medical Centre', 'Tudor City', 'Rose Hill', 'Soho', 'Tribeca', 'Financial District', 'Kips Bay', 'Oakland', 'Emeryville', 'Berkeley', 'Unknown Location', 'Bay Farm Island', 'Kenner', 'New Orleans', 'CBD', 'Lower Garden District', 'Lakeview', 'Storyville', 'Faubourg Marigny', 'Metairie', 'Bywater', 'Chalmette', 'Arabi', 'Marigny', 'Covington', 'Mandeville', 'Summerwinds', 'Pontchartrain Beach', 'St Thomas', 'Banner Elk', 'Elk Park', 'Newland', 'Boone', 'Stonewater', 'Lexington Park at Amberly', 'Arlington Park at Amberly', 'Arlington', 'Washington', 'Kalorama Triangle', 'K Street', 'West End', 'Northwest Rectangle', 'Connecticut Avenue', 'Columbia Heights', 'Wake Forest', 'SOMISSPO', 'French Quarter', 'West Berkeley', 'North Berkeley Hills', 'Southside', 'San Jose', 'Eagle Rock', 'Winston Salem', 'Asheville', 'Topton', 'Hayesville', 'Bryson City', 'Almond', 'Mebane', 'Santa Clara', 'Agnew', 'Cory', 'Renaissance', 'Central', 'NOMA', 'Sunnyside', 'Ingleside', 'Potrero Flats', 'Tenderloin', 'College Avenue', 'South', 'Southwest Berkeley', 'South Berkeley', 'Mountain View', 'El Cerrito', 'Krendle Woods', 'Wake Co.', 'Fuquay-Varina'))"
      ]
     },
     "execution_count": 6,
     "metadata": {},
     "output_type": "execute_result"
    }
   ],
   "source": [
    "# displaying the nodes\n",
    "#G.nodes()"
   ]
  },
  {
   "cell_type": "code",
   "execution_count": 7,
   "metadata": {
    "scrolled": true
   },
   "outputs": [
    {
     "data": {
      "text/plain": [
       "OutEdgeView([('Fort Pierce', 'West Palm Beach'), ('West Palm Beach', 'Palm Beach'), ('Cary', 'Morrisville'), ('Cary', 'Durham'), ('Cary', 'Raleigh'), ('Cary', 'Apex'), ('Cary', 'Chapel Hill'), ('Cary', 'Latta'), ('Cary', 'Holly Springs'), ('Cary', 'Wake Forest'), ('Cary', 'Winston Salem'), ('Cary', 'Unknown Location'), ('Cary', 'Wake Co.'), ('Cary', 'Fuquay-Varina'), ('Morrisville', 'Cary'), ('Morrisville', 'Raleigh'), ('Morrisville', 'Banner Elk'), ('Jamaica', 'New York'), ('New York', 'Queens'), ('New York', 'Queens County'), ('New York', 'Long Island City'), ('New York', 'Jamaica'), ('Elmhurst', 'New York'), ('Midtown', 'East Harlem'), ('Midtown', 'Midtown East'), ('Midtown', 'Hudson Square'), ('Midtown', 'Midtown West'), ('Midtown', 'Alief'), ('Midtown', 'Sharpstown'), ('Midtown', 'Washington Avenue'), ('Midtown', 'Downtown'), ('Midtown', 'Greater Greenspoint'), ('East Harlem', 'NoMad'), ('Flatiron District', 'Midtown'), ('Midtown East', 'Midtown'), ('Hudson Square', 'Lower Manhattan'), ('Hudson Square', \"Hell's Kitchen\"), ('Lower Manhattan', 'Hudson Square'), (\"Hell's Kitchen\", 'Midtown'), ('Downtown', 'Gulfton'), ('Downtown', 'Red River District'), ('Downtown', 'The Drag'), ('Downtown', 'Midtown'), ('Downtown', 'Bay Farm Island'), ('Downtown', 'West Berkeley'), ('Downtown', 'Sunnyside'), ('Downtown', 'Central'), ('Gulfton', 'Downtown'), ('Eagan Park', 'Jamestown Court'), ('Durham', 'Cary'), ('Durham', 'Morrisville'), ('Durham', 'Apex'), ('Farmington Woods', 'Whitebridge'), ('Farmington Woods', 'Edgehill Farms'), ('Whitebridge', 'Lake Wellingborough'), ('Whitebridge', 'Hazelwood'), ('Whitebridge', 'Westpark Place'), ('Whitebridge', 'Williamsburg Manor'), ('Whitebridge', 'Macgregor Downs'), ('Whitebridge', 'Edgehill Farms'), ('Whitebridge', 'Northwoods'), ('Whitebridge', 'Preston'), ('Whitebridge', 'Heritage Pines'), ('Whitebridge', 'Tanglewood'), ('Whitebridge', 'Waverly Place'), ('Whitebridge', 'Wayne Ridge'), ('Whitebridge', 'Burtrose'), ('Whitebridge', 'Savon Height'), ('Whitebridge', 'Kildaire Farms'), ('Whitebridge', 'Summerwinds'), ('Whitebridge', 'Stonewater'), ('Whitebridge', 'Chessington'), ('Whitebridge', 'Parkway'), ('Whitebridge', 'Arlington Park at Amberly'), ('Whitebridge', 'Farmington Woods'), ('Lake Wellingborough', 'Whitebridge'), ('Raleigh', 'Cary'), ('Raleigh', 'Morrisville'), ('Fayetteville Street', 'Umstead'), ('Fayetteville Street', 'Depot Historic District'), ('Fayetteville Street', 'Meredith Townes'), ('Hazelwood', 'Whitebridge'), ('Hazelwood', 'Weston'), ('Hazelwood', 'Lexington Park at Amberly'), ('Westpark Place', 'Whitebridge'), ('Westpark Place', 'Hazelwood'), ('Fairmont', 'Meredith Townes'), ('Meredith Townes', 'Leesville Hollow'), ('Meredith Townes', 'Harden Place'), ('Apex', 'Cary'), ('Apex', 'Eagle Rock'), ('Apex', 'Holly Springs'), ('Chapel Hill', 'Cary'), ('Chapel Hill', 'Morrisville'), ('Northwoods', 'Whitebridge'), ('Northwoods', 'Tanglewood'), ('Northwoods', 'Preston'), ('Edgehill Farms', 'Whitebridge'), ('Edgehill Farms', 'Preston'), ('Edgehill Farms', 'Burtrose'), ('Tanglewood', 'Preston'), ('Tanglewood', 'Whitebridge'), ('Tanglewood', 'Parkway'), ('Preston', 'Whitebridge'), ('Preston', 'Westpark Place'), ('Eastgate', 'Walnut Terrace'), ('East Elmhurst', 'Jackson Heights'), ('East Elmhurst', 'New York'), ('Jackson Heights', 'East Elmhurst'), ('Long Island City', 'Jamaica'), ('Heritage Pines', 'Whitebridge'), ('Heritage Pines', 'Edgehill Farms'), ('Waverly Place', 'Whitebridge'), ('Waverly Place', 'Macgregor Downs'), ('Wayne Ridge', 'Whitebridge'), ('East Austin', 'West University'), ('West University', 'South Congress'), ('West University', 'Congress Ave District'), ('South Congress', 'Arts District'), ('South Congress', 'The Drag'), ('South Congress', 'North Austin'), ('The Drag', 'Congress Ave District'), ('The Drag', 'South Congress'), ('The Drag', 'Convention Center District'), ('The Drag', 'North Austin'), ('Congress Ave District', 'Downtown'), ('Red River District', 'Downtown'), ('Convention Center District', 'West University'), ('North Austin', 'Coxville'), ('Georgian Acres', 'The Drag'), ('Coxville', 'The Drag'), ('Austin', 'Katy'), ('Katy', 'Houston'), ('Houston', 'Sugar Land'), ('Houston', 'Galveston'), ('Sharpstown', 'Midtown'), ('Sharpstown', 'Briar Meadow'), ('Sugar Land', 'Houston'), ('Galveston', 'Port Bolivar'), ('Galveston', 'Houston'), ('Port Bolivar', 'Galveston'), ('Washington Avenue', 'Midtown'), ('Briar Meadow', 'Midtown'), ('Latta', 'Jacksonville'), ('Jacksonville', 'Kissimmee'), ('Jacksonville', 'Ridgeland'), ('Kissimmee', 'Orlando'), ('Kissimmee', 'Daytona Beach'), ('Couples Glen', 'Isles of Buena Vista'), ('Couples Glen', 'Vista East'), ('Orlando', 'Kissimmee'), ('Sand Lake Commons', 'Sky Lake'), ('Sky Lake', 'Sand Lake Commons'), ('Daytona Beach', 'Jacksonville'), ('Ridgeland', 'Florence'), ('Florence', 'Cary'), ('Meredith', 'Cedar Hill'), ('Holly Springs', 'Cary'), ('Burtrose', 'Whitebridge'), ('Parkway', 'Whitebridge'), ('Mcvan', 'Capitol One'), ('Capitol One', 'University District'), ('Capitol One', 'Mcvan'), ('University District', 'Capitol One'), ('Seattle', 'Redmond'), ('Redmond', 'Bellevue'), ('Bellevue', 'Seattle'), ('San Francisco', 'Palo Alto'), ('San Francisco', 'Emeryville'), ('San Francisco', 'Berkeley'), ('San Francisco', 'Oakland'), ('Palo Alto', 'Sunnyvale'), ('Palo Alto', 'Menlo Park'), ('Sunnyvale', 'Newark'), ('Newark', 'Menlo Park'), ('Newark', 'San Francisco'), ('Menlo Park', 'Newark'), ('Menlo Park', 'Palo Alto'), ('Menlo Park', 'Berkeley'), ('Old City', 'Parkway Museums'), ('Old City', 'Hog Island'), ('Savon Height', 'Whitebridge'), ('Savon Height', 'Kilarney Woods'), ('Savon Height', 'Parkway'), ('Kilarney Woods', 'Kildaire Farms'), ('Kilarney Woods', 'Whitebridge'), ('Townes at Everett Crossing', 'Chessington'), ('Chessington', 'Whitebridge'), ('Huntington Woods', 'Weston'), ('Seaport', 'Gramercy-Flatiron'), ('Medical Centre', 'Tudor City'), ('Rose Hill', 'Soho'), ('Soho', 'Tribeca'), ('Tribeca', 'Financial District'), ('Financial District', 'Kips Bay'), ('Oakland', 'Emeryville'), ('Oakland', 'Unknown Location'), ('Oakland', 'San Francisco'), ('Oakland', 'Berkeley'), ('Emeryville', 'Berkeley'), ('Emeryville', 'San Francisco'), ('Emeryville', 'Oakland'), ('Berkeley', 'Oakland'), ('Berkeley', 'Emeryville'), ('Berkeley', 'San Jose'), ('Berkeley', 'San Francisco'), ('Berkeley', 'Menlo Park'), ('Berkeley', 'Mountain View'), ('Berkeley', 'El Cerrito'), ('Unknown Location', 'Morrisville'), ('Kenner', 'New Orleans'), ('Kenner', 'Metairie'), ('New Orleans', 'Metairie'), ('New Orleans', 'Kenner'), ('New Orleans', 'Chalmette'), ('New Orleans', 'Covington'), ('CBD', 'Lower Garden District'), ('CBD', 'Bywater'), ('CBD', 'Pontchartrain Beach'), ('CBD', 'St Thomas'), ('Lower Garden District', 'Lakeview'), ('Lakeview', 'Storyville'), ('Storyville', 'Faubourg Marigny'), ('Storyville', 'Marigny'), ('Metairie', 'Kenner'), ('Metairie', 'New Orleans'), ('Chalmette', 'Arabi'), ('Arabi', 'Metairie'), ('Marigny', 'Storyville'), ('Covington', 'Mandeville'), ('Mandeville', 'Metairie'), ('Summerwinds', 'Whitebridge'), ('Pontchartrain Beach', 'CBD'), ('St Thomas', 'CBD'), ('Banner Elk', 'Elk Park'), ('Banner Elk', 'Newland'), ('Banner Elk', 'Boone'), ('Elk Park', 'Banner Elk'), ('Newland', 'Boone'), ('Boone', 'Banner Elk'), ('Boone', 'Cary'), ('Stonewater', 'Lexington Park at Amberly'), ('Lexington Park at Amberly', 'Whitebridge'), ('Lexington Park at Amberly', 'Westpark Place'), ('Arlington Park at Amberly', 'Lexington Park at Amberly'), ('Arlington', 'Washington'), ('Washington', 'Arlington'), ('Kalorama Triangle', 'K Street'), ('Kalorama Triangle', 'Downtown'), ('Kalorama Triangle', 'Columbia Heights'), ('K Street', 'Kalorama Triangle'), ('West End', 'Northwest Rectangle'), ('Connecticut Avenue', 'Kalorama Triangle'), ('Columbia Heights', 'Kalorama Triangle'), ('Wake Forest', 'Cary'), ('SOMISSPO', 'French Quarter'), ('SOMISSPO', 'Tenderloin'), ('West Berkeley', 'North Berkeley Hills'), ('West Berkeley', 'Central'), ('West Berkeley', 'South'), ('West Berkeley', 'Southside'), ('North Berkeley Hills', 'Southside'), ('Southside', 'West Berkeley'), ('Southside', 'South Berkeley'), ('Southside', 'Central'), ('San Jose', 'Emeryville'), ('San Jose', 'Santa Clara'), ('Eagle Rock', 'Cary'), ('Winston Salem', 'Asheville'), ('Asheville', 'Topton'), ('Asheville', 'Mebane'), ('Topton', 'Hayesville'), ('Topton', 'Bryson City'), ('Hayesville', 'Topton'), ('Bryson City', 'Almond'), ('Bryson City', 'Asheville'), ('Almond', 'Bryson City'), ('Mebane', 'Cary'), ('Santa Clara', 'Berkeley'), ('Agnew', 'Cory'), ('Agnew', 'Renaissance'), ('Cory', 'Agnew'), ('Renaissance', 'Agnew'), ('Central', 'College Avenue'), ('Central', 'South'), ('Central', 'West Berkeley'), ('Central', 'Southside'), ('NOMA', 'Downtown'), ('Sunnyside', 'Ingleside'), ('Ingleside', 'Potrero Flats'), ('Tenderloin', 'SOMISSPO'), ('College Avenue', 'Central'), ('South', 'Downtown'), ('South', 'Southwest Berkeley'), ('South Berkeley', 'Southside'), ('Mountain View', 'Berkeley'), ('El Cerrito', 'Berkeley'), ('Krendle Woods', 'Whitebridge'), ('Wake Co.', 'Morrisville'), ('Fuquay-Varina', 'Cary')])"
      ]
     },
     "execution_count": 7,
     "metadata": {},
     "output_type": "execute_result"
    }
   ],
   "source": [
    "# displaying the edges\n",
    "#G.edges()"
   ]
  },
  {
   "cell_type": "markdown",
   "metadata": {},
   "source": [
    "### An edge attribute equal to the no. of trips between the two locations needs to be added. \n",
    "\n",
    "For that purpose the dataframe is grouped by the start and stop locations and the entries are counted."
   ]
  },
  {
   "cell_type": "code",
   "execution_count": 8,
   "metadata": {},
   "outputs": [
    {
     "name": "stdout",
     "output_type": "stream",
     "text": [
      "{}\n",
      "{}\n",
      "{}\n"
     ]
    }
   ],
   "source": [
    "#print(G.edges()[('Fort Pierce', 'West Palm Beach')])\n",
    "#print(G.edges()[('Cary', 'Apex')])\n",
    "#print(G.edges()[('Whitebridge', 'Hazelwood')])"
   ]
  },
  {
   "cell_type": "code",
   "execution_count": 9,
   "metadata": {},
   "outputs": [
    {
     "data": {
      "text/html": [
       "<div>\n",
       "<style scoped>\n",
       "    .dataframe tbody tr th:only-of-type {\n",
       "        vertical-align: middle;\n",
       "    }\n",
       "\n",
       "    .dataframe tbody tr th {\n",
       "        vertical-align: top;\n",
       "    }\n",
       "\n",
       "    .dataframe thead th {\n",
       "        text-align: right;\n",
       "    }\n",
       "</style>\n",
       "<table border=\"1\" class=\"dataframe\">\n",
       "  <thead>\n",
       "    <tr style=\"text-align: right;\">\n",
       "      <th></th>\n",
       "      <th>START*</th>\n",
       "      <th>STOP*</th>\n",
       "      <th>MILES*</th>\n",
       "    </tr>\n",
       "  </thead>\n",
       "  <tbody>\n",
       "    <tr>\n",
       "      <th>0</th>\n",
       "      <td>Agnew</td>\n",
       "      <td>Cory</td>\n",
       "      <td>1</td>\n",
       "    </tr>\n",
       "    <tr>\n",
       "      <th>1</th>\n",
       "      <td>Agnew</td>\n",
       "      <td>Renaissance</td>\n",
       "      <td>2</td>\n",
       "    </tr>\n",
       "    <tr>\n",
       "      <th>2</th>\n",
       "      <td>Almond</td>\n",
       "      <td>Bryson City</td>\n",
       "      <td>1</td>\n",
       "    </tr>\n",
       "    <tr>\n",
       "      <th>3</th>\n",
       "      <td>Apex</td>\n",
       "      <td>Cary</td>\n",
       "      <td>13</td>\n",
       "    </tr>\n",
       "    <tr>\n",
       "      <th>4</th>\n",
       "      <td>Apex</td>\n",
       "      <td>Eagle Rock</td>\n",
       "      <td>1</td>\n",
       "    </tr>\n",
       "  </tbody>\n",
       "</table>\n",
       "</div>"
      ],
      "text/plain": [
       "   START*        STOP*  MILES*\n",
       "0   Agnew         Cory       1\n",
       "1   Agnew  Renaissance       2\n",
       "2  Almond  Bryson City       1\n",
       "3    Apex         Cary      13\n",
       "4    Apex   Eagle Rock       1"
      ]
     },
     "execution_count": 9,
     "metadata": {},
     "output_type": "execute_result"
    }
   ],
   "source": [
    "# making the edge attributes dataframe\n",
    "df_edge = df_diff_area.groupby(['START*', 'STOP*'], as_index=False)['MILES*'].count()\n",
    "\n",
    "df_edge.head()"
   ]
  },
  {
   "cell_type": "markdown",
   "metadata": {},
   "source": [
    "Another column 'trip_loc' is added which stores the start and stop locations in the form that it is stored in the network as edges, i.e., (start_location, stop_location)."
   ]
  },
  {
   "cell_type": "code",
   "execution_count": 10,
   "metadata": {},
   "outputs": [],
   "source": [
    "# adding the trip_loc column\n",
    "trip_loc = [tuple([df_edge.loc[i]['START*'], df_edge.loc[i]['STOP*']]) for i in range(len(df_edge))]\n",
    "\n",
    "df_edge['trip_loc'] = trip_loc"
   ]
  },
  {
   "cell_type": "code",
   "execution_count": 11,
   "metadata": {},
   "outputs": [],
   "source": [
    "# adding the trip_loc column\n",
    "trip_loc = list(zip(df_edge['START*'], df_edge['STOP*']))\n",
    "\n",
    "df_edge['trip_loc'] = trip_loc"
   ]
  },
  {
   "cell_type": "code",
   "execution_count": 12,
   "metadata": {},
   "outputs": [
    {
     "data": {
      "text/html": [
       "<div>\n",
       "<style scoped>\n",
       "    .dataframe tbody tr th:only-of-type {\n",
       "        vertical-align: middle;\n",
       "    }\n",
       "\n",
       "    .dataframe tbody tr th {\n",
       "        vertical-align: top;\n",
       "    }\n",
       "\n",
       "    .dataframe thead th {\n",
       "        text-align: right;\n",
       "    }\n",
       "</style>\n",
       "<table border=\"1\" class=\"dataframe\">\n",
       "  <thead>\n",
       "    <tr style=\"text-align: right;\">\n",
       "      <th></th>\n",
       "      <th>START*</th>\n",
       "      <th>STOP*</th>\n",
       "      <th>MILES*</th>\n",
       "      <th>trip_loc</th>\n",
       "    </tr>\n",
       "  </thead>\n",
       "  <tbody>\n",
       "    <tr>\n",
       "      <th>0</th>\n",
       "      <td>Agnew</td>\n",
       "      <td>Cory</td>\n",
       "      <td>1</td>\n",
       "      <td>(Agnew, Cory)</td>\n",
       "    </tr>\n",
       "    <tr>\n",
       "      <th>1</th>\n",
       "      <td>Agnew</td>\n",
       "      <td>Renaissance</td>\n",
       "      <td>2</td>\n",
       "      <td>(Agnew, Renaissance)</td>\n",
       "    </tr>\n",
       "    <tr>\n",
       "      <th>2</th>\n",
       "      <td>Almond</td>\n",
       "      <td>Bryson City</td>\n",
       "      <td>1</td>\n",
       "      <td>(Almond, Bryson City)</td>\n",
       "    </tr>\n",
       "    <tr>\n",
       "      <th>3</th>\n",
       "      <td>Apex</td>\n",
       "      <td>Cary</td>\n",
       "      <td>13</td>\n",
       "      <td>(Apex, Cary)</td>\n",
       "    </tr>\n",
       "    <tr>\n",
       "      <th>4</th>\n",
       "      <td>Apex</td>\n",
       "      <td>Eagle Rock</td>\n",
       "      <td>1</td>\n",
       "      <td>(Apex, Eagle Rock)</td>\n",
       "    </tr>\n",
       "  </tbody>\n",
       "</table>\n",
       "</div>"
      ],
      "text/plain": [
       "   START*        STOP*  MILES*               trip_loc\n",
       "0   Agnew         Cory       1          (Agnew, Cory)\n",
       "1   Agnew  Renaissance       2   (Agnew, Renaissance)\n",
       "2  Almond  Bryson City       1  (Almond, Bryson City)\n",
       "3    Apex         Cary      13           (Apex, Cary)\n",
       "4    Apex   Eagle Rock       1     (Apex, Eagle Rock)"
      ]
     },
     "execution_count": 12,
     "metadata": {},
     "output_type": "execute_result"
    }
   ],
   "source": [
    "df_edge.head()"
   ]
  },
  {
   "cell_type": "markdown",
   "metadata": {},
   "source": [
    "Now the network is updated with the edge attributes."
   ]
  },
  {
   "cell_type": "code",
   "execution_count": 13,
   "metadata": {},
   "outputs": [],
   "source": [
    "# loop to iterate over the edges\n",
    "for i in range(len(df_edge)):\n",
    "    \n",
    "    edge = df_edge.iloc[i]['trip_loc']           # extracting the edge\n",
    "    d = {'Trips':df_edge.iloc[i]['MILES*']}      # dictionary to store the count of trips for that edge\n",
    "    G.edges()[edge].update(d)                    # adding the attribute\n",
    "        \n",
    "        "
   ]
  },
  {
   "cell_type": "markdown",
   "metadata": {},
   "source": [
    "Every edge stores the no. of trips made for that start and end locations/nodes. "
   ]
  },
  {
   "cell_type": "code",
   "execution_count": 14,
   "metadata": {},
   "outputs": [
    {
     "name": "stdout",
     "output_type": "stream",
     "text": [
      "{'Trips': 1}\n",
      "{'Trips': 14}\n",
      "{'Trips': 4}\n"
     ]
    }
   ],
   "source": [
    "#print(G.edges()[('Fort Pierce', 'West Palm Beach')])\n",
    "#print(G.edges()[('Cary', 'Apex')])\n",
    "#print(G.edges()[('Whitebridge', 'Hazelwood')])"
   ]
  },
  {
   "cell_type": "markdown",
   "metadata": {},
   "source": [
    "One needs to define the location of the nodes on the graph. The spring_layout is used in this case which finds the position of the nodes using Fruchterman-Reingold force-directed algorithm. \n",
    "\n",
    "Other available layouts are random_layout, circular_layout, etc. "
   ]
  },
  {
   "cell_type": "code",
   "execution_count": 15,
   "metadata": {},
   "outputs": [],
   "source": [
    "# defining the position of the nodes\n",
    "pos = nx.spring_layout(G)\n",
    "\n",
    "# adding the position in the form of a dictionary to the nodes\n",
    "for node in G.nodes:\n",
    "    G.nodes[node]['pos'] = list(pos[node])"
   ]
  },
  {
   "cell_type": "markdown",
   "metadata": {},
   "source": [
    "The position is simply the x and y coordinates that the node will be plotted on in a graph."
   ]
  },
  {
   "cell_type": "code",
   "execution_count": 16,
   "metadata": {},
   "outputs": [
    {
     "name": "stdout",
     "output_type": "stream",
     "text": [
      "[0.08843740576110388, 0.7901051618828822]\n",
      "[-0.04908019149873204, 0.16270756298709113]\n",
      "[0.13497842458488654, -0.41824588307947747]\n"
     ]
    }
   ],
   "source": [
    "#print(G.nodes['Fort Pierce']['pos'])\n",
    "#print(G.nodes['Cary']['pos'])\n",
    "#print(G.nodes['New York']['pos'])"
   ]
  },
  {
   "cell_type": "markdown",
   "metadata": {},
   "source": [
    "Now the network is ready for plotting."
   ]
  },
  {
   "cell_type": "markdown",
   "metadata": {},
   "source": [
    "# Plotting the network"
   ]
  },
  {
   "cell_type": "markdown",
   "metadata": {},
   "source": [
    "Plotly graph objects will be used for creating the plot. \n",
    "\n",
    "The first step is to make a trace which will add all the nodes of the network to the plot.\n",
    "\n",
    "The nodes also need to be colored according to the no. of unique locations that are travelled to or from them. Suppose if trips to 5 different locations are made from a location A, then node A will have a different color on the plot compared to a location B from where trips are made to 10 different locations. The adjacency() function of a network will be used here. "
   ]
  },
  {
   "cell_type": "code",
   "execution_count": 17,
   "metadata": {},
   "outputs": [
    {
     "name": "stdout",
     "output_type": "stream",
     "text": [
      "0\n",
      "('Fort Pierce', {'West Palm Beach': {'Trips': 1}})\n",
      "1\n",
      "('West Palm Beach', {'Palm Beach': {'Trips': 1}})\n",
      "2\n",
      "('Palm Beach', {})\n",
      "3\n",
      "('Cary', {'Morrisville': {'Trips': 67}, 'Durham': {'Trips': 36}, 'Raleigh': {'Trips': 23}, 'Apex': {'Trips': 14}, 'Chapel Hill': {'Trips': 1}, 'Latta': {'Trips': 1}, 'Holly Springs': {'Trips': 1}, 'Wake Forest': {'Trips': 1}, 'Winston Salem': {'Trips': 1}, 'Unknown Location': {'Trips': 1}, 'Wake Co.': {'Trips': 1}, 'Fuquay-Varina': {'Trips': 1}})\n",
      "4\n",
      "('Morrisville', {'Cary': {'Trips': 75}, 'Raleigh': {'Trips': 4}, 'Banner Elk': {'Trips': 1}})\n",
      "5\n",
      "('Jamaica', {'New York': {'Trips': 2}})\n",
      "6\n",
      "('New York', {'Queens': {'Trips': 1}, 'Queens County': {'Trips': 1}, 'Long Island City': {'Trips': 1}, 'Jamaica': {'Trips': 1}})\n",
      "7\n",
      "('Queens', {})\n",
      "8\n",
      "('Elmhurst', {'New York': {'Trips': 1}})\n",
      "9\n",
      "('Midtown', {'East Harlem': {'Trips': 1}, 'Midtown East': {'Trips': 1}, 'Hudson Square': {'Trips': 1}, 'Midtown West': {'Trips': 1}, 'Alief': {'Trips': 1}, 'Sharpstown': {'Trips': 4}, 'Washington Avenue': {'Trips': 1}, 'Downtown': {'Trips': 1}, 'Greater Greenspoint': {'Trips': 1}})\n",
      "10\n",
      "('East Harlem', {'NoMad': {'Trips': 1}})\n",
      "11\n",
      "('NoMad', {})\n",
      "12\n",
      "('Flatiron District', {'Midtown': {'Trips': 1}})\n",
      "13\n",
      "('Midtown East', {'Midtown': {'Trips': 1}})\n",
      "14\n",
      "('Hudson Square', {'Lower Manhattan': {'Trips': 1}, \"Hell's Kitchen\": {'Trips': 1}})\n",
      "15\n",
      "('Lower Manhattan', {'Hudson Square': {'Trips': 1}})\n",
      "16\n",
      "(\"Hell's Kitchen\", {'Midtown': {'Trips': 1}})\n",
      "17\n",
      "('Queens County', {})\n",
      "18\n",
      "('Downtown', {'Gulfton': {'Trips': 1}, 'Red River District': {'Trips': 1}, 'The Drag': {'Trips': 2}, 'Midtown': {'Trips': 1}, 'Bay Farm Island': {'Trips': 1}, 'West Berkeley': {'Trips': 1}, 'Sunnyside': {'Trips': 1}, 'Central': {'Trips': 1}})\n",
      "19\n",
      "('Gulfton', {'Downtown': {'Trips': 1}})\n",
      "20\n",
      "('Eagan Park', {'Jamestown Court': {'Trips': 1}})\n",
      "21\n",
      "('Jamestown Court', {})\n",
      "22\n",
      "('Durham', {'Cary': {'Trips': 32}, 'Morrisville': {'Trips': 4}, 'Apex': {'Trips': 1}})\n",
      "23\n",
      "('Farmington Woods', {'Whitebridge': {'Trips': 1}, 'Edgehill Farms': {'Trips': 1}})\n",
      "24\n",
      "('Whitebridge', {'Lake Wellingborough': {'Trips': 1}, 'Hazelwood': {'Trips': 4}, 'Westpark Place': {'Trips': 14}, 'Williamsburg Manor': {'Trips': 1}, 'Macgregor Downs': {'Trips': 1}, 'Edgehill Farms': {'Trips': 8}, 'Northwoods': {'Trips': 2}, 'Preston': {'Trips': 3}, 'Heritage Pines': {'Trips': 2}, 'Tanglewood': {'Trips': 3}, 'Waverly Place': {'Trips': 5}, 'Wayne Ridge': {'Trips': 4}, 'Burtrose': {'Trips': 1}, 'Savon Height': {'Trips': 3}, 'Kildaire Farms': {'Trips': 1}, 'Summerwinds': {'Trips': 1}, 'Stonewater': {'Trips': 1}, 'Chessington': {'Trips': 1}, 'Parkway': {'Trips': 3}, 'Arlington Park at Amberly': {'Trips': 1}, 'Farmington Woods': {'Trips': 1}})\n",
      "25\n",
      "('Lake Wellingborough', {'Whitebridge': {'Trips': 1}})\n",
      "26\n",
      "('Raleigh', {'Cary': {'Trips': 21}, 'Morrisville': {'Trips': 5}})\n",
      "27\n",
      "('Fayetteville Street', {'Umstead': {'Trips': 1}, 'Depot Historic District': {'Trips': 1}, 'Meredith Townes': {'Trips': 1}})\n",
      "28\n",
      "('Umstead', {})\n",
      "29\n",
      "('Hazelwood', {'Whitebridge': {'Trips': 5}, 'Weston': {'Trips': 1}, 'Lexington Park at Amberly': {'Trips': 1}})\n",
      "30\n",
      "('Westpark Place', {'Whitebridge': {'Trips': 16}, 'Hazelwood': {'Trips': 1}})\n",
      "31\n",
      "('Fairmont', {'Meredith Townes': {'Trips': 1}})\n",
      "32\n",
      "('Meredith Townes', {'Leesville Hollow': {'Trips': 2}, 'Harden Place': {'Trips': 1}})\n",
      "33\n",
      "('Leesville Hollow', {})\n",
      "34\n",
      "('Apex', {'Cary': {'Trips': 13}, 'Eagle Rock': {'Trips': 1}, 'Holly Springs': {'Trips': 1}})\n",
      "35\n",
      "('Chapel Hill', {'Cary': {'Trips': 1}, 'Morrisville': {'Trips': 1}})\n",
      "36\n",
      "('Northwoods', {'Whitebridge': {'Trips': 1}, 'Tanglewood': {'Trips': 1}, 'Preston': {'Trips': 1}})\n",
      "37\n",
      "('Williamsburg Manor', {})\n",
      "38\n",
      "('Macgregor Downs', {})\n",
      "39\n",
      "('Edgehill Farms', {'Whitebridge': {'Trips': 6}, 'Preston': {'Trips': 1}, 'Burtrose': {'Trips': 1}})\n",
      "40\n",
      "('Tanglewood', {'Preston': {'Trips': 1}, 'Whitebridge': {'Trips': 2}, 'Parkway': {'Trips': 1}})\n",
      "41\n",
      "('Preston', {'Whitebridge': {'Trips': 5}, 'Westpark Place': {'Trips': 1}})\n",
      "42\n",
      "('Eastgate', {'Walnut Terrace': {'Trips': 1}})\n",
      "43\n",
      "('Walnut Terrace', {})\n",
      "44\n",
      "('East Elmhurst', {'Jackson Heights': {'Trips': 1}, 'New York': {'Trips': 1}})\n",
      "45\n",
      "('Jackson Heights', {'East Elmhurst': {'Trips': 1}})\n",
      "46\n",
      "('Midtown West', {})\n",
      "47\n",
      "('Long Island City', {'Jamaica': {'Trips': 1}})\n",
      "48\n",
      "('Heritage Pines', {'Whitebridge': {'Trips': 1}, 'Edgehill Farms': {'Trips': 1}})\n",
      "49\n",
      "('Waverly Place', {'Whitebridge': {'Trips': 3}, 'Macgregor Downs': {'Trips': 1}})\n",
      "50\n",
      "('Wayne Ridge', {'Whitebridge': {'Trips': 4}})\n",
      "51\n",
      "('Depot Historic District', {})\n",
      "52\n",
      "('East Austin', {'West University': {'Trips': 1}})\n",
      "53\n",
      "('West University', {'South Congress': {'Trips': 1}, 'Congress Ave District': {'Trips': 1}})\n",
      "54\n",
      "('South Congress', {'Arts District': {'Trips': 1}, 'The Drag': {'Trips': 3}, 'North Austin': {'Trips': 1}})\n",
      "55\n",
      "('Arts District', {})\n",
      "56\n",
      "('The Drag', {'Congress Ave District': {'Trips': 2}, 'South Congress': {'Trips': 2}, 'Convention Center District': {'Trips': 2}, 'North Austin': {'Trips': 1}})\n",
      "57\n",
      "('Congress Ave District', {'Downtown': {'Trips': 1}})\n",
      "58\n",
      "('Red River District', {'Downtown': {'Trips': 1}})\n",
      "59\n",
      "('Convention Center District', {'West University': {'Trips': 1}})\n",
      "60\n",
      "('North Austin', {'Coxville': {'Trips': 1}})\n",
      "61\n",
      "('Georgian Acres', {'The Drag': {'Trips': 1}})\n",
      "62\n",
      "('Coxville', {'The Drag': {'Trips': 1}})\n",
      "63\n",
      "('Austin', {'Katy': {'Trips': 1}})\n",
      "64\n",
      "('Katy', {'Houston': {'Trips': 1}})\n",
      "65\n",
      "('Houston', {'Sugar Land': {'Trips': 1}, 'Galveston': {'Trips': 1}})\n",
      "66\n",
      "('Alief', {})\n",
      "67\n",
      "('Sharpstown', {'Midtown': {'Trips': 3}, 'Briar Meadow': {'Trips': 1}})\n",
      "68\n",
      "('Sugar Land', {'Houston': {'Trips': 1}})\n",
      "69\n",
      "('Galveston', {'Port Bolivar': {'Trips': 1}, 'Houston': {'Trips': 1}})\n",
      "70\n",
      "('Port Bolivar', {'Galveston': {'Trips': 1}})\n",
      "71\n",
      "('Washington Avenue', {'Midtown': {'Trips': 1}})\n",
      "72\n",
      "('Briar Meadow', {'Midtown': {'Trips': 1}})\n",
      "73\n",
      "('Greater Greenspoint', {})\n",
      "74\n",
      "('Latta', {'Jacksonville': {'Trips': 1}})\n",
      "75\n",
      "('Jacksonville', {'Kissimmee': {'Trips': 1}, 'Ridgeland': {'Trips': 1}})\n",
      "76\n",
      "('Kissimmee', {'Orlando': {'Trips': 6}, 'Daytona Beach': {'Trips': 1}})\n",
      "77\n",
      "('Couples Glen', {'Isles of Buena Vista': {'Trips': 1}, 'Vista East': {'Trips': 1}})\n",
      "78\n",
      "('Isles of Buena Vista', {})\n",
      "79\n",
      "('Orlando', {'Kissimmee': {'Trips': 7}})\n",
      "80\n",
      "('Vista East', {})\n",
      "81\n",
      "('Sand Lake Commons', {'Sky Lake': {'Trips': 1}})\n",
      "82\n",
      "('Sky Lake', {'Sand Lake Commons': {'Trips': 1}})\n",
      "83\n",
      "('Daytona Beach', {'Jacksonville': {'Trips': 1}})\n",
      "84\n",
      "('Ridgeland', {'Florence': {'Trips': 1}})\n",
      "85\n",
      "('Florence', {'Cary': {'Trips': 1}})\n",
      "86\n",
      "('Meredith', {'Cedar Hill': {'Trips': 1}})\n",
      "87\n",
      "('Cedar Hill', {})\n",
      "88\n",
      "('Holly Springs', {'Cary': {'Trips': 2}})\n",
      "89\n",
      "('Harden Place', {})\n",
      "90\n",
      "('Burtrose', {'Whitebridge': {'Trips': 1}})\n",
      "91\n",
      "('Parkway', {'Whitebridge': {'Trips': 5}})\n",
      "92\n",
      "('Mcvan', {'Capitol One': {'Trips': 1}})\n",
      "93\n",
      "('Capitol One', {'University District': {'Trips': 1}, 'Mcvan': {'Trips': 1}})\n",
      "94\n",
      "('University District', {'Capitol One': {'Trips': 1}})\n",
      "95\n",
      "('Seattle', {'Redmond': {'Trips': 1}})\n",
      "96\n",
      "('Redmond', {'Bellevue': {'Trips': 1}})\n",
      "97\n",
      "('Bellevue', {'Seattle': {'Trips': 1}})\n",
      "98\n",
      "('San Francisco', {'Palo Alto': {'Trips': 1}, 'Emeryville': {'Trips': 1}, 'Berkeley': {'Trips': 4}, 'Oakland': {'Trips': 2}})\n",
      "99\n",
      "('Palo Alto', {'Sunnyvale': {'Trips': 1}, 'Menlo Park': {'Trips': 1}})\n",
      "100\n",
      "('Sunnyvale', {'Newark': {'Trips': 1}})\n",
      "101\n",
      "('Newark', {'Menlo Park': {'Trips': 1}, 'San Francisco': {'Trips': 1}})\n",
      "102\n",
      "('Menlo Park', {'Newark': {'Trips': 1}, 'Palo Alto': {'Trips': 1}, 'Berkeley': {'Trips': 1}})\n",
      "103\n",
      "('Old City', {'Parkway Museums': {'Trips': 1}, 'Hog Island': {'Trips': 1}})\n",
      "104\n",
      "('Parkway Museums', {})\n",
      "105\n",
      "('Hog Island', {})\n",
      "106\n",
      "('Savon Height', {'Whitebridge': {'Trips': 2}, 'Kilarney Woods': {'Trips': 1}, 'Parkway': {'Trips': 1}})\n",
      "107\n",
      "('Kildaire Farms', {})\n",
      "108\n",
      "('Kilarney Woods', {'Kildaire Farms': {'Trips': 1}, 'Whitebridge': {'Trips': 1}})\n",
      "109\n",
      "('Townes at Everett Crossing', {'Chessington': {'Trips': 1}})\n",
      "110\n",
      "('Chessington', {'Whitebridge': {'Trips': 1}})\n",
      "111\n",
      "('Huntington Woods', {'Weston': {'Trips': 2}})\n",
      "112\n",
      "('Weston', {})\n",
      "113\n",
      "('Seaport', {'Gramercy-Flatiron': {'Trips': 1}})\n",
      "114\n",
      "('Gramercy-Flatiron', {})\n",
      "115\n",
      "('Medical Centre', {'Tudor City': {'Trips': 1}})\n",
      "116\n",
      "('Tudor City', {})\n",
      "117\n",
      "('Rose Hill', {'Soho': {'Trips': 1}})\n",
      "118\n",
      "('Soho', {'Tribeca': {'Trips': 1}})\n",
      "119\n",
      "('Tribeca', {'Financial District': {'Trips': 1}})\n",
      "120\n",
      "('Financial District', {'Kips Bay': {'Trips': 1}})\n",
      "121\n",
      "('Kips Bay', {})\n",
      "122\n",
      "('Oakland', {'Emeryville': {'Trips': 2}, 'Unknown Location': {'Trips': 1}, 'San Francisco': {'Trips': 2}, 'Berkeley': {'Trips': 2}})\n",
      "123\n",
      "('Emeryville', {'Berkeley': {'Trips': 6}, 'San Francisco': {'Trips': 1}, 'Oakland': {'Trips': 3}})\n",
      "124\n",
      "('Berkeley', {'Oakland': {'Trips': 3}, 'Emeryville': {'Trips': 5}, 'San Jose': {'Trips': 1}, 'San Francisco': {'Trips': 4}, 'Menlo Park': {'Trips': 1}, 'Mountain View': {'Trips': 1}, 'El Cerrito': {'Trips': 1}})\n",
      "125\n",
      "('Unknown Location', {'Morrisville': {'Trips': 1}})\n",
      "126\n",
      "('Bay Farm Island', {})\n",
      "127\n",
      "('Kenner', {'New Orleans': {'Trips': 8}, 'Metairie': {'Trips': 1}})\n",
      "128\n",
      "('New Orleans', {'Metairie': {'Trips': 2}, 'Kenner': {'Trips': 6}, 'Chalmette': {'Trips': 1}, 'Covington': {'Trips': 1}})\n",
      "129\n",
      "('CBD', {'Lower Garden District': {'Trips': 1}, 'Bywater': {'Trips': 1}, 'Pontchartrain Beach': {'Trips': 1}, 'St Thomas': {'Trips': 1}})\n",
      "130\n",
      "('Lower Garden District', {'Lakeview': {'Trips': 1}})\n",
      "131\n",
      "('Lakeview', {'Storyville': {'Trips': 1}})\n",
      "132\n",
      "('Storyville', {'Faubourg Marigny': {'Trips': 1}, 'Marigny': {'Trips': 1}})\n",
      "133\n",
      "('Faubourg Marigny', {})\n",
      "134\n",
      "('Metairie', {'Kenner': {'Trips': 2}, 'New Orleans': {'Trips': 2}})\n",
      "135\n",
      "('Bywater', {})\n",
      "136\n",
      "('Chalmette', {'Arabi': {'Trips': 1}})\n",
      "137\n",
      "('Arabi', {'Metairie': {'Trips': 1}})\n",
      "138\n",
      "('Marigny', {'Storyville': {'Trips': 1}})\n",
      "139\n",
      "('Covington', {'Mandeville': {'Trips': 1}})\n",
      "140\n",
      "('Mandeville', {'Metairie': {'Trips': 1}})\n",
      "141\n",
      "('Summerwinds', {'Whitebridge': {'Trips': 1}})\n",
      "142\n",
      "('Pontchartrain Beach', {'CBD': {'Trips': 1}})\n",
      "143\n",
      "('St Thomas', {'CBD': {'Trips': 1}})\n",
      "144\n",
      "('Banner Elk', {'Elk Park': {'Trips': 1}, 'Newland': {'Trips': 1}, 'Boone': {'Trips': 1}})\n",
      "145\n",
      "('Elk Park', {'Banner Elk': {'Trips': 1}})\n",
      "146\n",
      "('Newland', {'Boone': {'Trips': 1}})\n",
      "147\n",
      "('Boone', {'Banner Elk': {'Trips': 1}, 'Cary': {'Trips': 1}})\n",
      "148\n",
      "('Stonewater', {'Lexington Park at Amberly': {'Trips': 1}})\n",
      "149\n",
      "('Lexington Park at Amberly', {'Whitebridge': {'Trips': 1}, 'Westpark Place': {'Trips': 1}})\n",
      "150\n",
      "('Arlington Park at Amberly', {'Lexington Park at Amberly': {'Trips': 1}})\n",
      "151\n",
      "('Arlington', {'Washington': {'Trips': 1}})\n",
      "152\n",
      "('Washington', {'Arlington': {'Trips': 1}})\n",
      "153\n",
      "('Kalorama Triangle', {'K Street': {'Trips': 1}, 'Downtown': {'Trips': 1}, 'Columbia Heights': {'Trips': 1}})\n",
      "154\n",
      "('K Street', {'Kalorama Triangle': {'Trips': 2}})\n",
      "155\n",
      "('West End', {'Northwest Rectangle': {'Trips': 1}})\n",
      "156\n",
      "('Northwest Rectangle', {})\n",
      "157\n",
      "('Connecticut Avenue', {'Kalorama Triangle': {'Trips': 1}})\n",
      "158\n",
      "('Columbia Heights', {'Kalorama Triangle': {'Trips': 1}})\n",
      "159\n",
      "('Wake Forest', {'Cary': {'Trips': 1}})\n",
      "160\n",
      "('SOMISSPO', {'French Quarter': {'Trips': 1}, 'Tenderloin': {'Trips': 1}})\n",
      "161\n",
      "('French Quarter', {})\n",
      "162\n",
      "('West Berkeley', {'North Berkeley Hills': {'Trips': 1}, 'Central': {'Trips': 2}, 'South': {'Trips': 1}, 'Southside': {'Trips': 1}})\n",
      "163\n",
      "('North Berkeley Hills', {'Southside': {'Trips': 1}})\n",
      "164\n",
      "('Southside', {'West Berkeley': {'Trips': 1}, 'South Berkeley': {'Trips': 1}, 'Central': {'Trips': 2}})\n",
      "165\n",
      "('San Jose', {'Emeryville': {'Trips': 1}, 'Santa Clara': {'Trips': 1}})\n",
      "166\n",
      "('Eagle Rock', {'Cary': {'Trips': 1}})\n",
      "167\n",
      "('Winston Salem', {'Asheville': {'Trips': 1}})\n",
      "168\n",
      "('Asheville', {'Topton': {'Trips': 1}, 'Mebane': {'Trips': 1}})\n",
      "169\n",
      "('Topton', {'Hayesville': {'Trips': 1}, 'Bryson City': {'Trips': 1}})\n",
      "170\n",
      "('Hayesville', {'Topton': {'Trips': 1}})\n",
      "171\n",
      "('Bryson City', {'Almond': {'Trips': 1}, 'Asheville': {'Trips': 1}})\n",
      "172\n",
      "('Almond', {'Bryson City': {'Trips': 1}})\n",
      "173\n",
      "('Mebane', {'Cary': {'Trips': 1}})\n",
      "174\n",
      "('Santa Clara', {'Berkeley': {'Trips': 1}})\n",
      "175\n",
      "('Agnew', {'Cory': {'Trips': 1}, 'Renaissance': {'Trips': 2}})\n",
      "176\n",
      "('Cory', {'Agnew': {'Trips': 1}})\n",
      "177\n",
      "('Renaissance', {'Agnew': {'Trips': 2}})\n",
      "178\n",
      "('Central', {'College Avenue': {'Trips': 1}, 'South': {'Trips': 1}, 'West Berkeley': {'Trips': 1}, 'Southside': {'Trips': 2}})\n",
      "179\n",
      "('NOMA', {'Downtown': {'Trips': 1}})\n",
      "180\n",
      "('Sunnyside', {'Ingleside': {'Trips': 1}})\n",
      "181\n",
      "('Ingleside', {'Potrero Flats': {'Trips': 1}})\n",
      "182\n",
      "('Potrero Flats', {})\n",
      "183\n",
      "('Tenderloin', {'SOMISSPO': {'Trips': 1}})\n",
      "184\n",
      "('College Avenue', {'Central': {'Trips': 1}})\n",
      "185\n",
      "('South', {'Downtown': {'Trips': 1}, 'Southwest Berkeley': {'Trips': 1}})\n",
      "186\n",
      "('Southwest Berkeley', {})\n",
      "187\n",
      "('South Berkeley', {'Southside': {'Trips': 1}})\n",
      "188\n",
      "('Mountain View', {'Berkeley': {'Trips': 1}})\n",
      "189\n",
      "('El Cerrito', {'Berkeley': {'Trips': 1}})\n",
      "190\n",
      "('Krendle Woods', {'Whitebridge': {'Trips': 1}})\n",
      "191\n",
      "('Wake Co.', {'Morrisville': {'Trips': 1}})\n",
      "192\n",
      "('Fuquay-Varina', {'Cary': {'Trips': 1}})\n"
     ]
    }
   ],
   "source": [
    "#for node, adj in enumerate(G.adjacency()):\n",
    " #   print(node)\n",
    "  #  print(adj)"
   ]
  },
  {
   "cell_type": "code",
   "execution_count": 18,
   "metadata": {},
   "outputs": [],
   "source": [
    "# Make a node trace\n",
    "\n",
    "traceRecode = []                    # list to store all the traces\n",
    "\n",
    "# initialise a node trace\n",
    "node_trace = go.Scatter(x=[], y=[], hovertext=[], mode='markers', hoverinfo=\"text\", \n",
    "                        marker=dict(showscale=True, reversescale=True,\n",
    "                                    color=[], size=5, colorbar=dict(thickness=10, title='No. of unique locations travelled to or from',\n",
    "                                                                    xanchor='left', titleside='right'),\n",
    "                                    colorscale=\"rdylbu\"))\n",
    "\n",
    "# adding the coordinate position of the nodes\n",
    "for node in G.nodes():\n",
    "    x, y = G.nodes()[node]['pos']\n",
    "    hovertext = node\n",
    "    node_trace['x'] += tuple([x])\n",
    "    node_trace['y'] += tuple([y])\n",
    "    node_trace['hovertext'] += tuple([hovertext])          # add the hovertext (name of the location)\n",
    "\n",
    "# specify the color of the node\n",
    "for node, adjacencies in enumerate(G.adjacency()):\n",
    "    try:\n",
    "        node_trace['marker']['color']+=tuple([len(adjacencies[1])])\n",
    "    except:\n",
    "        pass\n",
    "    \n",
    "traceRecode.append(node_trace)                     # adding the node trace"
   ]
  },
  {
   "cell_type": "code",
   "execution_count": 19,
   "metadata": {},
   "outputs": [
    {
     "data": {
      "text/plain": [
       "[Scatter({\n",
       "     'hoverinfo': 'text',\n",
       "     'hovertext': [Fort Pierce, West Palm Beach, Palm Beach, Cary, Morrisville,\n",
       "                   Jamaica, New York, Queens, Elmhurst, Midtown, East Harlem, NoMad,\n",
       "                   Flatiron District, Midtown East, Hudson Square, Lower Manhattan,\n",
       "                   Hell's Kitchen, Queens County, Downtown, Gulfton, Eagan Park,\n",
       "                   Jamestown Court, Durham, Farmington Woods, Whitebridge, Lake\n",
       "                   Wellingborough, Raleigh, Fayetteville Street, Umstead, Hazelwood,\n",
       "                   Westpark Place, Fairmont, Meredith Townes, Leesville Hollow,\n",
       "                   Apex, Chapel Hill, Northwoods, Williamsburg Manor, Macgregor\n",
       "                   Downs, Edgehill Farms, Tanglewood, Preston, Eastgate, Walnut\n",
       "                   Terrace, East Elmhurst, Jackson Heights, Midtown West, Long\n",
       "                   Island City, Heritage Pines, Waverly Place, Wayne Ridge, Depot\n",
       "                   Historic District, East Austin, West University, South Congress,\n",
       "                   Arts District, The Drag, Congress Ave District, Red River\n",
       "                   District, Convention Center District, North Austin, Georgian\n",
       "                   Acres, Coxville, Austin, Katy, Houston, Alief, Sharpstown, Sugar\n",
       "                   Land, Galveston, Port Bolivar, Washington Avenue, Briar Meadow,\n",
       "                   Greater Greenspoint, Latta, Jacksonville, Kissimmee, Couples\n",
       "                   Glen, Isles of Buena Vista, Orlando, Vista East, Sand Lake\n",
       "                   Commons, Sky Lake, Daytona Beach, Ridgeland, Florence, Meredith,\n",
       "                   Cedar Hill, Holly Springs, Harden Place, Burtrose, Parkway,\n",
       "                   Mcvan, Capitol One, University District, Seattle, Redmond,\n",
       "                   Bellevue, San Francisco, Palo Alto, Sunnyvale, Newark, Menlo\n",
       "                   Park, Old City, Parkway Museums, Hog Island, Savon Height,\n",
       "                   Kildaire Farms, Kilarney Woods, Townes at Everett Crossing,\n",
       "                   Chessington, Huntington Woods, Weston, Seaport, Gramercy-\n",
       "                   Flatiron, Medical Centre, Tudor City, Rose Hill, Soho, Tribeca,\n",
       "                   Financial District, Kips Bay, Oakland, Emeryville, Berkeley,\n",
       "                   Unknown Location, Bay Farm Island, Kenner, New Orleans, CBD,\n",
       "                   Lower Garden District, Lakeview, Storyville, Faubourg Marigny,\n",
       "                   Metairie, Bywater, Chalmette, Arabi, Marigny, Covington,\n",
       "                   Mandeville, Summerwinds, Pontchartrain Beach, St Thomas, Banner\n",
       "                   Elk, Elk Park, Newland, Boone, Stonewater, Lexington Park at\n",
       "                   Amberly, Arlington Park at Amberly, Arlington, Washington,\n",
       "                   Kalorama Triangle, K Street, West End, Northwest Rectangle,\n",
       "                   Connecticut Avenue, Columbia Heights, Wake Forest, SOMISSPO,\n",
       "                   French Quarter, West Berkeley, North Berkeley Hills, Southside,\n",
       "                   San Jose, Eagle Rock, Winston Salem, Asheville, Topton,\n",
       "                   Hayesville, Bryson City, Almond, Mebane, Santa Clara, Agnew,\n",
       "                   Cory, Renaissance, Central, NOMA, Sunnyside, Ingleside, Potrero\n",
       "                   Flats, Tenderloin, College Avenue, South, Southwest Berkeley,\n",
       "                   South Berkeley, Mountain View, El Cerrito, Krendle Woods, Wake\n",
       "                   Co., Fuquay-Varina],\n",
       "     'marker': {'color': [1, 1, 0, 12, 3, 1, 4, 0, 1, 9, 1, 0, 1, 1, 2, 1, 1, 0, 8,\n",
       "                          1, 1, 0, 3, 2, 21, 1, 2, 3, 0, 3, 2, 1, 2, 0, 3, 2, 3, 0,\n",
       "                          0, 3, 3, 2, 1, 0, 2, 1, 0, 1, 2, 2, 1, 0, 1, 2, 3, 0, 4,\n",
       "                          1, 1, 1, 1, 1, 1, 1, 1, 2, 0, 2, 1, 2, 1, 1, 1, 0, 1, 2,\n",
       "                          2, 2, 0, 1, 0, 1, 1, 1, 1, 1, 1, 0, 1, 0, 1, 1, 1, 2, 1,\n",
       "                          1, 1, 1, 4, 2, 1, 2, 3, 2, 0, 0, 3, 0, 2, 1, 1, 1, 0, 1,\n",
       "                          0, 1, 0, 1, 1, 1, 1, 0, 4, 3, 7, 1, 0, 2, 4, 4, 1, 1, 2,\n",
       "                          0, 2, 0, 1, 1, 1, 1, 1, 1, 1, 1, 3, 1, 1, 2, 1, 2, 1, 1,\n",
       "                          1, 3, 1, 1, 0, 1, 1, 1, 2, 0, 4, 1, 3, 2, 1, 1, 2, 2, 1,\n",
       "                          2, 1, 1, 1, 2, 1, 1, 4, 1, 1, 1, 0, 1, 1, 2, 0, 1, 1, 1,\n",
       "                          1, 1, 1],\n",
       "                'colorbar': {'thickness': 10,\n",
       "                             'title': {'side': 'right', 'text': 'No. of unique locations travelled to or from'},\n",
       "                             'xanchor': 'left'},\n",
       "                'colorscale': [[0.0, 'rgb(165,0,38)'], [0.1, 'rgb(215,48,39)'],\n",
       "                               [0.2, 'rgb(244,109,67)'], [0.3, 'rgb(253,174,97)'],\n",
       "                               [0.4, 'rgb(254,224,144)'], [0.5, 'rgb(255,255,191)'],\n",
       "                               [0.6, 'rgb(224,243,248)'], [0.7, 'rgb(171,217,233)'],\n",
       "                               [0.8, 'rgb(116,173,209)'], [0.9, 'rgb(69,117,180)'],\n",
       "                               [1.0, 'rgb(49,54,149)']],\n",
       "                'reversescale': True,\n",
       "                'showscale': True,\n",
       "                'size': 5},\n",
       "     'mode': 'markers',\n",
       "     'x': [0.08843740576110388, 0.07059102333854854, 0.08329379624894741,\n",
       "           -0.04908019149873204, 0.035691855751373965, 0.17080575425886763,\n",
       "           0.13497842458488654, -0.6394649374936129, 0.15015548063234674,\n",
       "           0.30328686285500395, 0.9094497709707767, 0.9380696302137653,\n",
       "           0.34946367513741494, 0.3327540168450211, 0.37139980468958833,\n",
       "           0.4134147573982766, 0.31514246709436927, 0.9033614240293831,\n",
       "           0.009036278879675546, -0.022890378890984022, 0.8123979248436138,\n",
       "           0.7842726693969918, -0.01682486178410167, -0.06904155988687091,\n",
       "           -0.09764693884838213, -0.14069177639275085, 0.002741345740868338,\n",
       "           0.079096240372851, -0.26190309058434397, -0.09265140478962157,\n",
       "           -0.07162247529415025, 0.19502359240396377, 0.15797656165332316,\n",
       "           -0.6477636896413727, -0.0670395828736914, 0.0024059578856886234,\n",
       "           -0.07779334866803736, -0.8124833418688296, 0.671320441325179,\n",
       "           -0.07048074000654607, -0.0929944574155258, -0.053246629625470054,\n",
       "           0.8678439890295059, 0.9999999999999999, 0.1577437251503278,\n",
       "           0.1736085731566625, -0.6636051016320922, 0.2077244530915794,\n",
       "           -0.053597705367711405, 0.28734454356727346, -0.08897810817095779,\n",
       "           0.3507866032415688, 0.19415901671656216, 0.1555540594970832,\n",
       "           0.3054939897433031, 0.4301583900773935, 0.1691810176952496,\n",
       "           0.002973106317656575, 0.021386745904991424, 0.1882751584428681,\n",
       "           0.26542564106246413, 0.21850172630124284, 0.2150177106665685,\n",
       "           0.6872875038694599, 0.7687847408517561, 0.8531935554376425,\n",
       "           0.6348865288907681, 0.34061786617404016, 0.8199944000191581,\n",
       "           0.8887867264248402, 0.8735923397033063, 0.3562683737158679,\n",
       "           0.34506900925859535, 0.8399694446973339, -0.21285944404480917,\n",
       "           -0.18401033401868663, -0.2672644503890617, -0.2833122385236057,\n",
       "           -0.12190384764613997, -0.29758252031611687, -0.4436690251928061,\n",
       "           0.21635135671837918, 0.23835910397184876, -0.22414798181503548,\n",
       "           -0.09808957619229611, -0.06488217540218268, 0.8454524425044823,\n",
       "           0.9303831255348312, -0.08719302042766269, 0.9635866137462868,\n",
       "           -0.10342198349584059, -0.1254032687063291, 0.5210351419586476,\n",
       "           0.5420995362377978, 0.5620118644519233, -0.517348951520694,\n",
       "           -0.5391931740407496, -0.5163928632215928, -0.02459932190412652,\n",
       "           -0.07308850100976673, -0.046418000668419286, -0.035301315717353135,\n",
       "           -0.0553252058851067, -0.07913157570487554, -0.40340584233711513,\n",
       "           0.24575990075780044, -0.2016485211525135, -0.5539419944205118,\n",
       "           -0.3261499856488249, -0.14026198224605155, -0.1226952364617204,\n",
       "           -0.1151846168673674, -0.13553112684155927, -0.6048349652012899,\n",
       "           -0.6834093479930266, -0.06015214130290608, -0.06899691242650213,\n",
       "           -0.3580800934475545, -0.3899754228898792, -0.42041483537231344,\n",
       "           -0.4509609104466379, -0.5861882119961276, 0.01731241144811816,\n",
       "           -0.003069014601904993, -0.023439027961164614, 0.07147603950575829,\n",
       "           0.43922981708979875, -0.6174161701205725, -0.5880501532052904,\n",
       "           0.04911065722684002, -0.44595844949309255, -0.5029126718343728,\n",
       "           -0.5942287273508917, -0.781610821315294, -0.6253885387742535,\n",
       "           0.5431540994669339, -0.6175896744613898, -0.672241757733102,\n",
       "           -0.4631799148741318, -0.5353490931032268, -0.6712583027072868,\n",
       "           -0.0391303889196032, 0.047976515713276574, 0.07731175888388413,\n",
       "           0.11118998287799486, 0.1632109061317881, 0.08813704891148683,\n",
       "           0.038240818900413004, -0.005175642876471283, -0.058013945507797975,\n",
       "           0.0013345273237045006, -0.6826175407313329, -0.6725758453005127,\n",
       "           -0.0196973465790689, -0.047189249181779025, -0.8547724489824731,\n",
       "           -0.8300373398510426, 0.007940448702270796, -0.01436477579971314,\n",
       "           -0.07439117854251275, 0.6686298992432086, 0.7902282418593893,\n",
       "           0.06079221381861678, 0.10635657477326475, 0.07180618619830854,\n",
       "           0.008682001596456069, -0.048450155547228466, -0.16398925682830928,\n",
       "           -0.1298503935055875, -0.22663810185730904, -0.26207990433106443,\n",
       "           -0.18092540164173412, -0.22230151468661424, -0.03289051250433525,\n",
       "           -0.011437160317893373, -0.6292199772858222, -0.6550621863962435,\n",
       "           -0.6033728872355688, 0.058172783359155864, -0.027005549617427124,\n",
       "           -0.6149073183505702, -0.7945653919862568, -0.8498925337270594,\n",
       "           0.6389265773387081, 0.10128521115270984, 0.005960935036350367,\n",
       "           0.005050394732645239, 0.045506661803517465, -0.05370145088919802,\n",
       "           -0.06095413137793801, -0.11951033763527903, 0.0807022355929126,\n",
       "           -0.02837670642774834],\n",
       "     'y': [0.7901051618828822, 0.7649649597746262, 0.8623455340041781,\n",
       "           0.16270756298709113, 0.16757270010641287, -0.43559075285870014,\n",
       "           -0.41824588307947747, -0.4635387882937153, -0.4528732732262839,\n",
       "           -0.31511055544757094, 0.3398776971028099, 0.3413917478167076,\n",
       "           -0.340075231373567, -0.3466713296682181, -0.39683412651426175,\n",
       "           -0.4268277957581614, -0.35552818653263246, -0.3671574521460968,\n",
       "           -0.4143408423256052, -0.4063740409647636, -0.5881455232886105,\n",
       "           -0.5675888382098471, 0.17892996454026328, 0.4938826975997377,\n",
       "           0.5016702533942407, 0.4946212469640765, 0.1539725152023531,\n",
       "           -0.40429633731897463, -0.9085850464824472, 0.6244129743533,\n",
       "           0.5355356238990059, 0.3712642350705524, 0.3409806356396478,\n",
       "           0.4646362218292611, 0.18980317571366767, 0.17406829874102506,\n",
       "           0.47261184185219385, 0.2203245140597425, 0.6428499177391398,\n",
       "           0.46988143562945806, 0.47267400411071453, 0.4886619593123064,\n",
       "           0.0877178061421575, 0.10191372396632035, -0.4784031416501545,\n",
       "           -0.5190992829281893, -0.5002919716369187, -0.46674567256366634,\n",
       "           0.46810781316661976, 0.5708575748613767, 0.45562601708956985,\n",
       "           -0.8700163676204544, -0.05617873800187494, -0.08068572650283731,\n",
       "           0.27706032670315917, 0.8008489579891518, -0.08525492989516041,\n",
       "           -0.43999804993362923, -0.4529638047212139, -0.10574103829791384,\n",
       "           -0.09961092879548651, -0.07276381758366757, -0.09931417736409508,\n",
       "           -0.11929175953574112, -0.1319981745712636, -0.14829971404042905,\n",
       "           -0.8056094965249054, -0.30855064133928434, -0.1352727658755483,\n",
       "           -0.1663768554259321, -0.1888585924482965, -0.3211400393344005,\n",
       "           -0.29265110189904614, -0.4419607468490175, 0.1924659628020051,\n",
       "           0.16486763387346529, 0.20076083488881463, -0.13303777404451683,\n",
       "           -0.8991861031432604, 0.2293044463666181, 0.6331602933290091,\n",
       "           -0.9298556539923125, -0.9333613138021286, 0.16594114558282227,\n",
       "           0.12729770564028162, 0.13849963175891297, 0.0032370533358434487,\n",
       "           0.004806671213217423, 0.17268663861547398, 0.21687977801629363,\n",
       "           0.44720286460074, 0.48562528747587247, 0.47464065342617107,\n",
       "           0.4914261820906469, 0.5058256975894705, 0.43917471817751774,\n",
       "           0.48447061593675167, 0.45745345121873576, -0.05299073928114379,\n",
       "           -0.15605036291845834, -0.154699973647475, -0.10130861669483349,\n",
       "           -0.11037579651437297, 0.04826303302225522, -0.7463328668614766,\n",
       "           0.844442511670928, 0.5308098864535044, 0.6533778484235168,\n",
       "           0.5766471478348255, 0.4603471330875702, 0.5347007647032919,\n",
       "           0.7412319538767186, 0.8382662395942693, -0.5534793185698882,\n",
       "           -0.6180149319941272, 0.6853965282361031, 0.78046574576276,\n",
       "           -0.5036847534507536, -0.5474594679598284, -0.579069412137249,\n",
       "           -0.6120067345582608, -0.7790879355589496, 0.04903077672744893,\n",
       "           -0.00950799094622131, -0.03952335854165663, 0.2043694087507358,\n",
       "           -0.7942266401882156, 0.06781144109597384, 0.04970963428061751,\n",
       "           -0.2769118335347219, 0.21564492758586284, 0.2320197530553772,\n",
       "           0.2667241938454782, 0.3406766899713077, 0.050837847634827064,\n",
       "           -0.7680043153550679, 0.021148997930401807, 0.038560743891465396,\n",
       "           0.21242006156809692, 0.06208257746872151, 0.06292191673832061,\n",
       "           0.48870928431681226, -0.3094974004854091, -0.2944560928774086,\n",
       "           0.18970145743801173, 0.20093198256179218, 0.16971314685548167,\n",
       "           0.18144211209755204, 0.48633974473657615, 0.529500915411918,\n",
       "           0.5036142005204512, -0.3000476821508133, -0.28054697359233693,\n",
       "           -0.4791678980738531, -0.5176547023660161, -0.08213958073365835,\n",
       "           -0.09556299526511743, -0.5055481690527555, -0.5161277306509644,\n",
       "           0.2059812629930976, 0.5100580399778469, 0.6057585985112519,\n",
       "           -0.639815906053597, -0.5806226381772889, -0.6268916273796611,\n",
       "           -0.0571081168919628, 0.20992666428836335, 0.04864412631018406,\n",
       "           0.05653678811349668, -0.017406900556508342, -0.04801475716732559,\n",
       "           0.028465092116590124, 0.016760073656244, 0.135329755244657,\n",
       "           -0.08460311634860279, 0.4738087578584034, 0.45032184047086843,\n",
       "           0.4876500898930741, -0.6582622511391186, -0.43994226235311,\n",
       "           -0.1521805558209757, -0.19107323285395536, -0.20769410125638882,\n",
       "           0.4775876074344473, -0.6353950789067436, -0.6787388757929279,\n",
       "           -0.9403998614087599, -0.6256271708688853, -0.0748227847424707,\n",
       "           -0.051207150316049235, 0.45330036455154243, 0.18348215583507624,\n",
       "           0.20451485621911222]\n",
       " })]"
      ]
     },
     "execution_count": 19,
     "metadata": {},
     "output_type": "execute_result"
    }
   ],
   "source": [
    "#traceRecode"
   ]
  },
  {
   "cell_type": "code",
   "execution_count": 20,
   "metadata": {
    "scrolled": true
   },
   "outputs": [
    {
     "name": "stdout",
     "output_type": "stream",
     "text": [
      "Requirement already satisfied: ipywidgets in c:\\users\\ankita\\anaconda3\\envs\\dissertation\\lib\\site-packages (7.5.1)\n",
      "Requirement already satisfied: ipykernel>=4.5.1 in c:\\users\\ankita\\anaconda3\\envs\\dissertation\\lib\\site-packages (from ipywidgets) (5.1.4)\n",
      "Requirement already satisfied: widgetsnbextension~=3.5.0 in c:\\users\\ankita\\anaconda3\\envs\\dissertation\\lib\\site-packages (from ipywidgets) (3.5.1)\n",
      "Requirement already satisfied: nbformat>=4.2.0 in c:\\users\\ankita\\anaconda3\\envs\\dissertation\\lib\\site-packages (from ipywidgets) (5.0.7)\n",
      "Requirement already satisfied: ipython>=4.0.0; python_version >= \"3.3\" in c:\\users\\ankita\\anaconda3\\envs\\dissertation\\lib\\site-packages (from ipywidgets) (7.13.0)\n",
      "Requirement already satisfied: traitlets>=4.3.1 in c:\\users\\ankita\\anaconda3\\envs\\dissertation\\lib\\site-packages (from ipywidgets) (4.3.3)\n",
      "Requirement already satisfied: tornado>=4.2 in c:\\users\\ankita\\anaconda3\\envs\\dissertation\\lib\\site-packages (from ipykernel>=4.5.1->ipywidgets) (6.0.4)\n",
      "Requirement already satisfied: jupyter-client in c:\\users\\ankita\\anaconda3\\envs\\dissertation\\lib\\site-packages (from ipykernel>=4.5.1->ipywidgets) (6.1.7)\n",
      "Requirement already satisfied: notebook>=4.4.1 in c:\\users\\ankita\\anaconda3\\envs\\dissertation\\lib\\site-packages (from widgetsnbextension~=3.5.0->ipywidgets) (6.0.3)\n",
      "Requirement already satisfied: jupyter-core in c:\\users\\ankita\\anaconda3\\envs\\dissertation\\lib\\site-packages (from nbformat>=4.2.0->ipywidgets) (4.6.1)\n",
      "Requirement already satisfied: ipython-genutils in c:\\users\\ankita\\anaconda3\\envs\\dissertation\\lib\\site-packages (from nbformat>=4.2.0->ipywidgets) (0.2.0)\n",
      "Requirement already satisfied: jsonschema!=2.5.0,>=2.4 in c:\\users\\ankita\\anaconda3\\envs\\dissertation\\lib\\site-packages (from nbformat>=4.2.0->ipywidgets) (3.2.0)\n",
      "Requirement already satisfied: colorama; sys_platform == \"win32\" in c:\\users\\ankita\\anaconda3\\envs\\dissertation\\lib\\site-packages (from ipython>=4.0.0; python_version >= \"3.3\"->ipywidgets) (0.4.3)\n",
      "Requirement already satisfied: pickleshare in c:\\users\\ankita\\anaconda3\\envs\\dissertation\\lib\\site-packages (from ipython>=4.0.0; python_version >= \"3.3\"->ipywidgets) (0.7.5)\n",
      "Requirement already satisfied: pygments in c:\\users\\ankita\\anaconda3\\envs\\dissertation\\lib\\site-packages (from ipython>=4.0.0; python_version >= \"3.3\"->ipywidgets) (2.6.1)\n",
      "Requirement already satisfied: backcall in c:\\users\\ankita\\anaconda3\\envs\\dissertation\\lib\\site-packages (from ipython>=4.0.0; python_version >= \"3.3\"->ipywidgets) (0.1.0)\n",
      "Requirement already satisfied: setuptools>=18.5 in c:\\users\\ankita\\anaconda3\\envs\\dissertation\\lib\\site-packages (from ipython>=4.0.0; python_version >= \"3.3\"->ipywidgets) (46.1.1.post20200323)\n",
      "Requirement already satisfied: decorator in c:\\users\\ankita\\anaconda3\\envs\\dissertation\\lib\\site-packages (from ipython>=4.0.0; python_version >= \"3.3\"->ipywidgets) (4.4.2)\n",
      "Requirement already satisfied: prompt-toolkit!=3.0.0,!=3.0.1,<3.1.0,>=2.0.0 in c:\\users\\ankita\\anaconda3\\envs\\dissertation\\lib\\site-packages (from ipython>=4.0.0; python_version >= \"3.3\"->ipywidgets) (3.0.3)\n",
      "Requirement already satisfied: jedi>=0.10 in c:\\users\\ankita\\anaconda3\\envs\\dissertation\\lib\\site-packages (from ipython>=4.0.0; python_version >= \"3.3\"->ipywidgets) (0.16.0)\n",
      "Requirement already satisfied: six in c:\\users\\ankita\\anaconda3\\envs\\dissertation\\lib\\site-packages (from traitlets>=4.3.1->ipywidgets) (1.14.0)\n",
      "Requirement already satisfied: pyzmq>=13 in c:\\users\\ankita\\anaconda3\\envs\\dissertation\\lib\\site-packages (from jupyter-client->ipykernel>=4.5.1->ipywidgets) (18.1.1)\n",
      "Requirement already satisfied: python-dateutil>=2.1 in c:\\users\\ankita\\anaconda3\\envs\\dissertation\\lib\\site-packages (from jupyter-client->ipykernel>=4.5.1->ipywidgets) (2.8.1)\n",
      "Requirement already satisfied: jinja2 in c:\\users\\ankita\\anaconda3\\envs\\dissertation\\lib\\site-packages (from notebook>=4.4.1->widgetsnbextension~=3.5.0->ipywidgets) (2.11.1)\n",
      "Requirement already satisfied: Send2Trash in c:\\users\\ankita\\anaconda3\\envs\\dissertation\\lib\\site-packages (from notebook>=4.4.1->widgetsnbextension~=3.5.0->ipywidgets) (1.5.0)\n",
      "Requirement already satisfied: prometheus-client in c:\\users\\ankita\\anaconda3\\envs\\dissertation\\lib\\site-packages (from notebook>=4.4.1->widgetsnbextension~=3.5.0->ipywidgets) (0.7.1)\n",
      "Requirement already satisfied: nbconvert in c:\\users\\ankita\\anaconda3\\envs\\dissertation\\lib\\site-packages (from notebook>=4.4.1->widgetsnbextension~=3.5.0->ipywidgets) (6.0.7)\n",
      "Requirement already satisfied: terminado>=0.8.1 in c:\\users\\ankita\\anaconda3\\envs\\dissertation\\lib\\site-packages (from notebook>=4.4.1->widgetsnbextension~=3.5.0->ipywidgets) (0.8.3)\n",
      "Requirement already satisfied: pywin32>=1.0; sys_platform == \"win32\" in c:\\users\\ankita\\anaconda3\\envs\\dissertation\\lib\\site-packages (from jupyter-core->nbformat>=4.2.0->ipywidgets) (227)\n",
      "Requirement already satisfied: attrs>=17.4.0 in c:\\users\\ankita\\anaconda3\\envs\\dissertation\\lib\\site-packages (from jsonschema!=2.5.0,>=2.4->nbformat>=4.2.0->ipywidgets) (19.3.0)\n",
      "Requirement already satisfied: importlib-metadata; python_version < \"3.8\" in c:\\users\\ankita\\anaconda3\\envs\\dissertation\\lib\\site-packages (from jsonschema!=2.5.0,>=2.4->nbformat>=4.2.0->ipywidgets) (1.5.0)\n",
      "Requirement already satisfied: pyrsistent>=0.14.0 in c:\\users\\ankita\\anaconda3\\envs\\dissertation\\lib\\site-packages (from jsonschema!=2.5.0,>=2.4->nbformat>=4.2.0->ipywidgets) (0.15.7)\n",
      "Requirement already satisfied: wcwidth in c:\\users\\ankita\\anaconda3\\envs\\dissertation\\lib\\site-packages (from prompt-toolkit!=3.0.0,!=3.0.1,<3.1.0,>=2.0.0->ipython>=4.0.0; python_version >= \"3.3\"->ipywidgets) (0.1.8)\n",
      "Requirement already satisfied: parso>=0.5.2 in c:\\users\\ankita\\anaconda3\\envs\\dissertation\\lib\\site-packages (from jedi>=0.10->ipython>=4.0.0; python_version >= \"3.3\"->ipywidgets) (0.6.2)\n",
      "Requirement already satisfied: MarkupSafe>=0.23 in c:\\users\\ankita\\anaconda3\\envs\\dissertation\\lib\\site-packages (from jinja2->notebook>=4.4.1->widgetsnbextension~=3.5.0->ipywidgets) (1.1.1)\n",
      "Requirement already satisfied: defusedxml in c:\\users\\ankita\\anaconda3\\envs\\dissertation\\lib\\site-packages (from nbconvert->notebook>=4.4.1->widgetsnbextension~=3.5.0->ipywidgets) (0.6.0)\n",
      "Requirement already satisfied: nbclient<0.6.0,>=0.5.0 in c:\\users\\ankita\\anaconda3\\envs\\dissertation\\lib\\site-packages (from nbconvert->notebook>=4.4.1->widgetsnbextension~=3.5.0->ipywidgets) (0.5.1)\n",
      "Requirement already satisfied: bleach in c:\\users\\ankita\\anaconda3\\envs\\dissertation\\lib\\site-packages (from nbconvert->notebook>=4.4.1->widgetsnbextension~=3.5.0->ipywidgets) (3.1.0)\n",
      "Requirement already satisfied: jupyterlab-pygments in c:\\users\\ankita\\anaconda3\\envs\\dissertation\\lib\\site-packages (from nbconvert->notebook>=4.4.1->widgetsnbextension~=3.5.0->ipywidgets) (0.1.2)\n",
      "Requirement already satisfied: entrypoints>=0.2.2 in c:\\users\\ankita\\anaconda3\\envs\\dissertation\\lib\\site-packages (from nbconvert->notebook>=4.4.1->widgetsnbextension~=3.5.0->ipywidgets) (0.3)\n",
      "Requirement already satisfied: mistune<2,>=0.8.1 in c:\\users\\ankita\\anaconda3\\envs\\dissertation\\lib\\site-packages (from nbconvert->notebook>=4.4.1->widgetsnbextension~=3.5.0->ipywidgets) (0.8.4)\n",
      "Requirement already satisfied: pandocfilters>=1.4.1 in c:\\users\\ankita\\anaconda3\\envs\\dissertation\\lib\\site-packages (from nbconvert->notebook>=4.4.1->widgetsnbextension~=3.5.0->ipywidgets) (1.4.2)\n",
      "Requirement already satisfied: testpath in c:\\users\\ankita\\anaconda3\\envs\\dissertation\\lib\\site-packages (from nbconvert->notebook>=4.4.1->widgetsnbextension~=3.5.0->ipywidgets) (0.4.4)\n",
      "Requirement already satisfied: zipp>=0.5 in c:\\users\\ankita\\anaconda3\\envs\\dissertation\\lib\\site-packages (from importlib-metadata; python_version < \"3.8\"->jsonschema!=2.5.0,>=2.4->nbformat>=4.2.0->ipywidgets) (2.2.0)\n",
      "Requirement already satisfied: nest-asyncio in c:\\users\\ankita\\anaconda3\\envs\\dissertation\\lib\\site-packages (from nbclient<0.6.0,>=0.5.0->nbconvert->notebook>=4.4.1->widgetsnbextension~=3.5.0->ipywidgets) (1.4.1)\n",
      "Requirement already satisfied: async-generator in c:\\users\\ankita\\anaconda3\\envs\\dissertation\\lib\\site-packages (from nbclient<0.6.0,>=0.5.0->nbconvert->notebook>=4.4.1->widgetsnbextension~=3.5.0->ipywidgets) (1.10)\n",
      "Requirement already satisfied: webencodings in c:\\users\\ankita\\anaconda3\\envs\\dissertation\\lib\\site-packages (from bleach->nbconvert->notebook>=4.4.1->widgetsnbextension~=3.5.0->ipywidgets) (0.5.1)\n"
     ]
    }
   ],
   "source": [
    "#!pip install ipywidgets"
   ]
  },
  {
   "cell_type": "markdown",
   "metadata": {},
   "source": [
    "A try except block is used here to ensure that no exceptions arise for pairs of nodes that do not share an edge."
   ]
  },
  {
   "cell_type": "markdown",
   "metadata": {},
   "source": [
    "The edge traces are now added. \n",
    "\n",
    "The width of the edge will be equal to the no. of trips. So, if 10 trips are made between location A and B, the edge between them will be thicker compared to the edge between locations C and D which have only 5 trips."
   ]
  },
  {
   "cell_type": "code",
   "execution_count": 21,
   "metadata": {},
   "outputs": [],
   "source": [
    "# Make an edge trace\n",
    "\n",
    "for edge in G.edges:\n",
    "    x0, y0 = G.nodes()[edge[0]]['pos']\n",
    "    x1, y1 = G.nodes()[edge[1]]['pos']\n",
    "    weight = G.edges()[edge]['Trips']                 # specifying the parameter for the width of the edge\n",
    "    \n",
    "    trace = go.Scatter(x=tuple([x0, x1, None]), y=tuple([y0, y1, None]),    # defining the edge trace\n",
    "                       mode='lines',\n",
    "                       line=dict(width=weight,color='Blue'))\n",
    "    traceRecode.append(trace)                         # adding the edge trace"
   ]
  },
  {
   "cell_type": "markdown",
   "metadata": {},
   "source": [
    "All the necessary traces have been added. The plot is now created."
   ]
  },
  {
   "cell_type": "code",
   "execution_count": 22,
   "metadata": {},
   "outputs": [],
   "source": [
    "figure = {\n",
    "    \"data\": traceRecode,\n",
    "    \"layout\": go.Layout(title='Network of Trips', showlegend=False, hovermode='closest')}"
   ]
  },
  {
   "cell_type": "code",
   "execution_count": 23,
   "metadata": {},
   "outputs": [],
   "source": [
    "go.FigureWidget(figure)"
   ]
  },
  {
   "cell_type": "code",
   "execution_count": 24,
   "metadata": {
    "scrolled": true
   },
   "outputs": [
    {
     "data": {
      "application/vnd.plotly.v1+json": {
       "config": {
        "plotlyServerURL": "https://plot.ly"
       },
       "data": [
        {
         "hoverinfo": "text",
         "hovertext": [
          "Fort Pierce",
          "West Palm Beach",
          "Palm Beach",
          "Cary",
          "Morrisville",
          "Jamaica",
          "New York",
          "Queens",
          "Elmhurst",
          "Midtown",
          "East Harlem",
          "NoMad",
          "Flatiron District",
          "Midtown East",
          "Hudson Square",
          "Lower Manhattan",
          "Hell's Kitchen",
          "Queens County",
          "Downtown",
          "Gulfton",
          "Eagan Park",
          "Jamestown Court",
          "Durham",
          "Farmington Woods",
          "Whitebridge",
          "Lake Wellingborough",
          "Raleigh",
          "Fayetteville Street",
          "Umstead",
          "Hazelwood",
          "Westpark Place",
          "Fairmont",
          "Meredith Townes",
          "Leesville Hollow",
          "Apex",
          "Chapel Hill",
          "Northwoods",
          "Williamsburg Manor",
          "Macgregor Downs",
          "Edgehill Farms",
          "Tanglewood",
          "Preston",
          "Eastgate",
          "Walnut Terrace",
          "East Elmhurst",
          "Jackson Heights",
          "Midtown West",
          "Long Island City",
          "Heritage Pines",
          "Waverly Place",
          "Wayne Ridge",
          "Depot Historic District",
          "East Austin",
          "West University",
          "South Congress",
          "Arts District",
          "The Drag",
          "Congress Ave District",
          "Red River District",
          "Convention Center District",
          "North Austin",
          "Georgian Acres",
          "Coxville",
          "Austin",
          "Katy",
          "Houston",
          "Alief",
          "Sharpstown",
          "Sugar Land",
          "Galveston",
          "Port Bolivar",
          "Washington Avenue",
          "Briar Meadow",
          "Greater Greenspoint",
          "Latta",
          "Jacksonville",
          "Kissimmee",
          "Couples Glen",
          "Isles of Buena Vista",
          "Orlando",
          "Vista East",
          "Sand Lake Commons",
          "Sky Lake",
          "Daytona Beach",
          "Ridgeland",
          "Florence",
          "Meredith",
          "Cedar Hill",
          "Holly Springs",
          "Harden Place",
          "Burtrose",
          "Parkway",
          "Mcvan",
          "Capitol One",
          "University District",
          "Seattle",
          "Redmond",
          "Bellevue",
          "San Francisco",
          "Palo Alto",
          "Sunnyvale",
          "Newark",
          "Menlo Park",
          "Old City",
          "Parkway Museums",
          "Hog Island",
          "Savon Height",
          "Kildaire Farms",
          "Kilarney Woods",
          "Townes at Everett Crossing",
          "Chessington",
          "Huntington Woods",
          "Weston",
          "Seaport",
          "Gramercy-Flatiron",
          "Medical Centre",
          "Tudor City",
          "Rose Hill",
          "Soho",
          "Tribeca",
          "Financial District",
          "Kips Bay",
          "Oakland",
          "Emeryville",
          "Berkeley",
          "Unknown Location",
          "Bay Farm Island",
          "Kenner",
          "New Orleans",
          "CBD",
          "Lower Garden District",
          "Lakeview",
          "Storyville",
          "Faubourg Marigny",
          "Metairie",
          "Bywater",
          "Chalmette",
          "Arabi",
          "Marigny",
          "Covington",
          "Mandeville",
          "Summerwinds",
          "Pontchartrain Beach",
          "St Thomas",
          "Banner Elk",
          "Elk Park",
          "Newland",
          "Boone",
          "Stonewater",
          "Lexington Park at Amberly",
          "Arlington Park at Amberly",
          "Arlington",
          "Washington",
          "Kalorama Triangle",
          "K Street",
          "West End",
          "Northwest Rectangle",
          "Connecticut Avenue",
          "Columbia Heights",
          "Wake Forest",
          "SOMISSPO",
          "French Quarter",
          "West Berkeley",
          "North Berkeley Hills",
          "Southside",
          "San Jose",
          "Eagle Rock",
          "Winston Salem",
          "Asheville",
          "Topton",
          "Hayesville",
          "Bryson City",
          "Almond",
          "Mebane",
          "Santa Clara",
          "Agnew",
          "Cory",
          "Renaissance",
          "Central",
          "NOMA",
          "Sunnyside",
          "Ingleside",
          "Potrero Flats",
          "Tenderloin",
          "College Avenue",
          "South",
          "Southwest Berkeley",
          "South Berkeley",
          "Mountain View",
          "El Cerrito",
          "Krendle Woods",
          "Wake Co.",
          "Fuquay-Varina"
         ],
         "marker": {
          "color": [
           1,
           1,
           0,
           12,
           3,
           1,
           4,
           0,
           1,
           9,
           1,
           0,
           1,
           1,
           2,
           1,
           1,
           0,
           8,
           1,
           1,
           0,
           3,
           2,
           21,
           1,
           2,
           3,
           0,
           3,
           2,
           1,
           2,
           0,
           3,
           2,
           3,
           0,
           0,
           3,
           3,
           2,
           1,
           0,
           2,
           1,
           0,
           1,
           2,
           2,
           1,
           0,
           1,
           2,
           3,
           0,
           4,
           1,
           1,
           1,
           1,
           1,
           1,
           1,
           1,
           2,
           0,
           2,
           1,
           2,
           1,
           1,
           1,
           0,
           1,
           2,
           2,
           2,
           0,
           1,
           0,
           1,
           1,
           1,
           1,
           1,
           1,
           0,
           1,
           0,
           1,
           1,
           1,
           2,
           1,
           1,
           1,
           1,
           4,
           2,
           1,
           2,
           3,
           2,
           0,
           0,
           3,
           0,
           2,
           1,
           1,
           1,
           0,
           1,
           0,
           1,
           0,
           1,
           1,
           1,
           1,
           0,
           4,
           3,
           7,
           1,
           0,
           2,
           4,
           4,
           1,
           1,
           2,
           0,
           2,
           0,
           1,
           1,
           1,
           1,
           1,
           1,
           1,
           1,
           3,
           1,
           1,
           2,
           1,
           2,
           1,
           1,
           1,
           3,
           1,
           1,
           0,
           1,
           1,
           1,
           2,
           0,
           4,
           1,
           3,
           2,
           1,
           1,
           2,
           2,
           1,
           2,
           1,
           1,
           1,
           2,
           1,
           1,
           4,
           1,
           1,
           1,
           0,
           1,
           1,
           2,
           0,
           1,
           1,
           1,
           1,
           1,
           1
          ],
          "colorbar": {
           "thickness": 10,
           "title": {
            "side": "right",
            "text": "No. of unique locations travelled to or from"
           },
           "xanchor": "left"
          },
          "colorscale": [
           [
            0,
            "rgb(165,0,38)"
           ],
           [
            0.1,
            "rgb(215,48,39)"
           ],
           [
            0.2,
            "rgb(244,109,67)"
           ],
           [
            0.3,
            "rgb(253,174,97)"
           ],
           [
            0.4,
            "rgb(254,224,144)"
           ],
           [
            0.5,
            "rgb(255,255,191)"
           ],
           [
            0.6,
            "rgb(224,243,248)"
           ],
           [
            0.7,
            "rgb(171,217,233)"
           ],
           [
            0.8,
            "rgb(116,173,209)"
           ],
           [
            0.9,
            "rgb(69,117,180)"
           ],
           [
            1,
            "rgb(49,54,149)"
           ]
          ],
          "reversescale": true,
          "showscale": true,
          "size": 5
         },
         "mode": "markers",
         "type": "scatter",
         "x": [
          0.08843740576110388,
          0.07059102333854854,
          0.08329379624894741,
          -0.04908019149873204,
          0.035691855751373965,
          0.17080575425886763,
          0.13497842458488654,
          -0.6394649374936129,
          0.15015548063234674,
          0.30328686285500395,
          0.9094497709707767,
          0.9380696302137653,
          0.34946367513741494,
          0.3327540168450211,
          0.37139980468958833,
          0.4134147573982766,
          0.31514246709436927,
          0.9033614240293831,
          0.009036278879675546,
          -0.022890378890984022,
          0.8123979248436138,
          0.7842726693969918,
          -0.01682486178410167,
          -0.06904155988687091,
          -0.09764693884838213,
          -0.14069177639275085,
          0.002741345740868338,
          0.079096240372851,
          -0.26190309058434397,
          -0.09265140478962157,
          -0.07162247529415025,
          0.19502359240396377,
          0.15797656165332316,
          -0.6477636896413727,
          -0.0670395828736914,
          0.0024059578856886234,
          -0.07779334866803736,
          -0.8124833418688296,
          0.671320441325179,
          -0.07048074000654607,
          -0.0929944574155258,
          -0.053246629625470054,
          0.8678439890295059,
          0.9999999999999999,
          0.1577437251503278,
          0.1736085731566625,
          -0.6636051016320922,
          0.2077244530915794,
          -0.053597705367711405,
          0.28734454356727346,
          -0.08897810817095779,
          0.3507866032415688,
          0.19415901671656216,
          0.1555540594970832,
          0.3054939897433031,
          0.4301583900773935,
          0.1691810176952496,
          0.002973106317656575,
          0.021386745904991424,
          0.1882751584428681,
          0.26542564106246413,
          0.21850172630124284,
          0.2150177106665685,
          0.6872875038694599,
          0.7687847408517561,
          0.8531935554376425,
          0.6348865288907681,
          0.34061786617404016,
          0.8199944000191581,
          0.8887867264248402,
          0.8735923397033063,
          0.3562683737158679,
          0.34506900925859535,
          0.8399694446973339,
          -0.21285944404480917,
          -0.18401033401868663,
          -0.2672644503890617,
          -0.2833122385236057,
          -0.12190384764613997,
          -0.29758252031611687,
          -0.4436690251928061,
          0.21635135671837918,
          0.23835910397184876,
          -0.22414798181503548,
          -0.09808957619229611,
          -0.06488217540218268,
          0.8454524425044823,
          0.9303831255348312,
          -0.08719302042766269,
          0.9635866137462868,
          -0.10342198349584059,
          -0.1254032687063291,
          0.5210351419586476,
          0.5420995362377978,
          0.5620118644519233,
          -0.517348951520694,
          -0.5391931740407496,
          -0.5163928632215928,
          -0.02459932190412652,
          -0.07308850100976673,
          -0.046418000668419286,
          -0.035301315717353135,
          -0.0553252058851067,
          -0.07913157570487554,
          -0.40340584233711513,
          0.24575990075780044,
          -0.2016485211525135,
          -0.5539419944205118,
          -0.3261499856488249,
          -0.14026198224605155,
          -0.1226952364617204,
          -0.1151846168673674,
          -0.13553112684155927,
          -0.6048349652012899,
          -0.6834093479930266,
          -0.06015214130290608,
          -0.06899691242650213,
          -0.3580800934475545,
          -0.3899754228898792,
          -0.42041483537231344,
          -0.4509609104466379,
          -0.5861882119961276,
          0.01731241144811816,
          -0.003069014601904993,
          -0.023439027961164614,
          0.07147603950575829,
          0.43922981708979875,
          -0.6174161701205725,
          -0.5880501532052904,
          0.04911065722684002,
          -0.44595844949309255,
          -0.5029126718343728,
          -0.5942287273508917,
          -0.781610821315294,
          -0.6253885387742535,
          0.5431540994669339,
          -0.6175896744613898,
          -0.672241757733102,
          -0.4631799148741318,
          -0.5353490931032268,
          -0.6712583027072868,
          -0.0391303889196032,
          0.047976515713276574,
          0.07731175888388413,
          0.11118998287799486,
          0.1632109061317881,
          0.08813704891148683,
          0.038240818900413004,
          -0.005175642876471283,
          -0.058013945507797975,
          0.0013345273237045006,
          -0.6826175407313329,
          -0.6725758453005127,
          -0.0196973465790689,
          -0.047189249181779025,
          -0.8547724489824731,
          -0.8300373398510426,
          0.007940448702270796,
          -0.01436477579971314,
          -0.07439117854251275,
          0.6686298992432086,
          0.7902282418593893,
          0.06079221381861678,
          0.10635657477326475,
          0.07180618619830854,
          0.008682001596456069,
          -0.048450155547228466,
          -0.16398925682830928,
          -0.1298503935055875,
          -0.22663810185730904,
          -0.26207990433106443,
          -0.18092540164173412,
          -0.22230151468661424,
          -0.03289051250433525,
          -0.011437160317893373,
          -0.6292199772858222,
          -0.6550621863962435,
          -0.6033728872355688,
          0.058172783359155864,
          -0.027005549617427124,
          -0.6149073183505702,
          -0.7945653919862568,
          -0.8498925337270594,
          0.6389265773387081,
          0.10128521115270984,
          0.005960935036350367,
          0.005050394732645239,
          0.045506661803517465,
          -0.05370145088919802,
          -0.06095413137793801,
          -0.11951033763527903,
          0.0807022355929126,
          -0.02837670642774834
         ],
         "y": [
          0.7901051618828822,
          0.7649649597746262,
          0.8623455340041781,
          0.16270756298709113,
          0.16757270010641287,
          -0.43559075285870014,
          -0.41824588307947747,
          -0.4635387882937153,
          -0.4528732732262839,
          -0.31511055544757094,
          0.3398776971028099,
          0.3413917478167076,
          -0.340075231373567,
          -0.3466713296682181,
          -0.39683412651426175,
          -0.4268277957581614,
          -0.35552818653263246,
          -0.3671574521460968,
          -0.4143408423256052,
          -0.4063740409647636,
          -0.5881455232886105,
          -0.5675888382098471,
          0.17892996454026328,
          0.4938826975997377,
          0.5016702533942407,
          0.4946212469640765,
          0.1539725152023531,
          -0.40429633731897463,
          -0.9085850464824472,
          0.6244129743533,
          0.5355356238990059,
          0.3712642350705524,
          0.3409806356396478,
          0.4646362218292611,
          0.18980317571366767,
          0.17406829874102506,
          0.47261184185219385,
          0.2203245140597425,
          0.6428499177391398,
          0.46988143562945806,
          0.47267400411071453,
          0.4886619593123064,
          0.0877178061421575,
          0.10191372396632035,
          -0.4784031416501545,
          -0.5190992829281893,
          -0.5002919716369187,
          -0.46674567256366634,
          0.46810781316661976,
          0.5708575748613767,
          0.45562601708956985,
          -0.8700163676204544,
          -0.05617873800187494,
          -0.08068572650283731,
          0.27706032670315917,
          0.8008489579891518,
          -0.08525492989516041,
          -0.43999804993362923,
          -0.4529638047212139,
          -0.10574103829791384,
          -0.09961092879548651,
          -0.07276381758366757,
          -0.09931417736409508,
          -0.11929175953574112,
          -0.1319981745712636,
          -0.14829971404042905,
          -0.8056094965249054,
          -0.30855064133928434,
          -0.1352727658755483,
          -0.1663768554259321,
          -0.1888585924482965,
          -0.3211400393344005,
          -0.29265110189904614,
          -0.4419607468490175,
          0.1924659628020051,
          0.16486763387346529,
          0.20076083488881463,
          -0.13303777404451683,
          -0.8991861031432604,
          0.2293044463666181,
          0.6331602933290091,
          -0.9298556539923125,
          -0.9333613138021286,
          0.16594114558282227,
          0.12729770564028162,
          0.13849963175891297,
          0.0032370533358434487,
          0.004806671213217423,
          0.17268663861547398,
          0.21687977801629363,
          0.44720286460074,
          0.48562528747587247,
          0.47464065342617107,
          0.4914261820906469,
          0.5058256975894705,
          0.43917471817751774,
          0.48447061593675167,
          0.45745345121873576,
          -0.05299073928114379,
          -0.15605036291845834,
          -0.154699973647475,
          -0.10130861669483349,
          -0.11037579651437297,
          0.04826303302225522,
          -0.7463328668614766,
          0.844442511670928,
          0.5308098864535044,
          0.6533778484235168,
          0.5766471478348255,
          0.4603471330875702,
          0.5347007647032919,
          0.7412319538767186,
          0.8382662395942693,
          -0.5534793185698882,
          -0.6180149319941272,
          0.6853965282361031,
          0.78046574576276,
          -0.5036847534507536,
          -0.5474594679598284,
          -0.579069412137249,
          -0.6120067345582608,
          -0.7790879355589496,
          0.04903077672744893,
          -0.00950799094622131,
          -0.03952335854165663,
          0.2043694087507358,
          -0.7942266401882156,
          0.06781144109597384,
          0.04970963428061751,
          -0.2769118335347219,
          0.21564492758586284,
          0.2320197530553772,
          0.2667241938454782,
          0.3406766899713077,
          0.050837847634827064,
          -0.7680043153550679,
          0.021148997930401807,
          0.038560743891465396,
          0.21242006156809692,
          0.06208257746872151,
          0.06292191673832061,
          0.48870928431681226,
          -0.3094974004854091,
          -0.2944560928774086,
          0.18970145743801173,
          0.20093198256179218,
          0.16971314685548167,
          0.18144211209755204,
          0.48633974473657615,
          0.529500915411918,
          0.5036142005204512,
          -0.3000476821508133,
          -0.28054697359233693,
          -0.4791678980738531,
          -0.5176547023660161,
          -0.08213958073365835,
          -0.09556299526511743,
          -0.5055481690527555,
          -0.5161277306509644,
          0.2059812629930976,
          0.5100580399778469,
          0.6057585985112519,
          -0.639815906053597,
          -0.5806226381772889,
          -0.6268916273796611,
          -0.0571081168919628,
          0.20992666428836335,
          0.04864412631018406,
          0.05653678811349668,
          -0.017406900556508342,
          -0.04801475716732559,
          0.028465092116590124,
          0.016760073656244,
          0.135329755244657,
          -0.08460311634860279,
          0.4738087578584034,
          0.45032184047086843,
          0.4876500898930741,
          -0.6582622511391186,
          -0.43994226235311,
          -0.1521805558209757,
          -0.19107323285395536,
          -0.20769410125638882,
          0.4775876074344473,
          -0.6353950789067436,
          -0.6787388757929279,
          -0.9403998614087599,
          -0.6256271708688853,
          -0.0748227847424707,
          -0.051207150316049235,
          0.45330036455154243,
          0.18348215583507624,
          0.20451485621911222
         ]
        },
        {
         "line": {
          "color": "Blue",
          "width": 1
         },
         "mode": "lines",
         "type": "scatter",
         "x": [
          0.08843740576110388,
          0.07059102333854854,
          null
         ],
         "y": [
          0.7901051618828822,
          0.7649649597746262,
          null
         ]
        },
        {
         "line": {
          "color": "Blue",
          "width": 1
         },
         "mode": "lines",
         "type": "scatter",
         "x": [
          0.07059102333854854,
          0.08329379624894741,
          null
         ],
         "y": [
          0.7649649597746262,
          0.8623455340041781,
          null
         ]
        },
        {
         "line": {
          "color": "Blue",
          "width": 67
         },
         "mode": "lines",
         "type": "scatter",
         "x": [
          -0.04908019149873204,
          0.035691855751373965,
          null
         ],
         "y": [
          0.16270756298709113,
          0.16757270010641287,
          null
         ]
        },
        {
         "line": {
          "color": "Blue",
          "width": 36
         },
         "mode": "lines",
         "type": "scatter",
         "x": [
          -0.04908019149873204,
          -0.01682486178410167,
          null
         ],
         "y": [
          0.16270756298709113,
          0.17892996454026328,
          null
         ]
        },
        {
         "line": {
          "color": "Blue",
          "width": 23
         },
         "mode": "lines",
         "type": "scatter",
         "x": [
          -0.04908019149873204,
          0.002741345740868338,
          null
         ],
         "y": [
          0.16270756298709113,
          0.1539725152023531,
          null
         ]
        },
        {
         "line": {
          "color": "Blue",
          "width": 14
         },
         "mode": "lines",
         "type": "scatter",
         "x": [
          -0.04908019149873204,
          -0.0670395828736914,
          null
         ],
         "y": [
          0.16270756298709113,
          0.18980317571366767,
          null
         ]
        },
        {
         "line": {
          "color": "Blue",
          "width": 1
         },
         "mode": "lines",
         "type": "scatter",
         "x": [
          -0.04908019149873204,
          0.0024059578856886234,
          null
         ],
         "y": [
          0.16270756298709113,
          0.17406829874102506,
          null
         ]
        },
        {
         "line": {
          "color": "Blue",
          "width": 1
         },
         "mode": "lines",
         "type": "scatter",
         "x": [
          -0.04908019149873204,
          -0.21285944404480917,
          null
         ],
         "y": [
          0.16270756298709113,
          0.1924659628020051,
          null
         ]
        },
        {
         "line": {
          "color": "Blue",
          "width": 1
         },
         "mode": "lines",
         "type": "scatter",
         "x": [
          -0.04908019149873204,
          -0.08719302042766269,
          null
         ],
         "y": [
          0.16270756298709113,
          0.17268663861547398,
          null
         ]
        },
        {
         "line": {
          "color": "Blue",
          "width": 1
         },
         "mode": "lines",
         "type": "scatter",
         "x": [
          -0.04908019149873204,
          -0.07439117854251275,
          null
         ],
         "y": [
          0.16270756298709113,
          0.2059812629930976,
          null
         ]
        },
        {
         "line": {
          "color": "Blue",
          "width": 1
         },
         "mode": "lines",
         "type": "scatter",
         "x": [
          -0.04908019149873204,
          -0.16398925682830928,
          null
         ],
         "y": [
          0.16270756298709113,
          0.04864412631018406,
          null
         ]
        },
        {
         "line": {
          "color": "Blue",
          "width": 1
         },
         "mode": "lines",
         "type": "scatter",
         "x": [
          -0.04908019149873204,
          0.07147603950575829,
          null
         ],
         "y": [
          0.16270756298709113,
          0.2043694087507358,
          null
         ]
        },
        {
         "line": {
          "color": "Blue",
          "width": 1
         },
         "mode": "lines",
         "type": "scatter",
         "x": [
          -0.04908019149873204,
          0.0807022355929126,
          null
         ],
         "y": [
          0.16270756298709113,
          0.18348215583507624,
          null
         ]
        },
        {
         "line": {
          "color": "Blue",
          "width": 1
         },
         "mode": "lines",
         "type": "scatter",
         "x": [
          -0.04908019149873204,
          -0.02837670642774834,
          null
         ],
         "y": [
          0.16270756298709113,
          0.20451485621911222,
          null
         ]
        },
        {
         "line": {
          "color": "Blue",
          "width": 75
         },
         "mode": "lines",
         "type": "scatter",
         "x": [
          0.035691855751373965,
          -0.04908019149873204,
          null
         ],
         "y": [
          0.16757270010641287,
          0.16270756298709113,
          null
         ]
        },
        {
         "line": {
          "color": "Blue",
          "width": 4
         },
         "mode": "lines",
         "type": "scatter",
         "x": [
          0.035691855751373965,
          0.002741345740868338,
          null
         ],
         "y": [
          0.16757270010641287,
          0.1539725152023531,
          null
         ]
        },
        {
         "line": {
          "color": "Blue",
          "width": 1
         },
         "mode": "lines",
         "type": "scatter",
         "x": [
          0.035691855751373965,
          0.11118998287799486,
          null
         ],
         "y": [
          0.16757270010641287,
          0.18970145743801173,
          null
         ]
        },
        {
         "line": {
          "color": "Blue",
          "width": 2
         },
         "mode": "lines",
         "type": "scatter",
         "x": [
          0.17080575425886763,
          0.13497842458488654,
          null
         ],
         "y": [
          -0.43559075285870014,
          -0.41824588307947747,
          null
         ]
        },
        {
         "line": {
          "color": "Blue",
          "width": 1
         },
         "mode": "lines",
         "type": "scatter",
         "x": [
          0.13497842458488654,
          -0.6394649374936129,
          null
         ],
         "y": [
          -0.41824588307947747,
          -0.4635387882937153,
          null
         ]
        },
        {
         "line": {
          "color": "Blue",
          "width": 1
         },
         "mode": "lines",
         "type": "scatter",
         "x": [
          0.13497842458488654,
          0.9033614240293831,
          null
         ],
         "y": [
          -0.41824588307947747,
          -0.3671574521460968,
          null
         ]
        },
        {
         "line": {
          "color": "Blue",
          "width": 1
         },
         "mode": "lines",
         "type": "scatter",
         "x": [
          0.13497842458488654,
          0.2077244530915794,
          null
         ],
         "y": [
          -0.41824588307947747,
          -0.46674567256366634,
          null
         ]
        },
        {
         "line": {
          "color": "Blue",
          "width": 1
         },
         "mode": "lines",
         "type": "scatter",
         "x": [
          0.13497842458488654,
          0.17080575425886763,
          null
         ],
         "y": [
          -0.41824588307947747,
          -0.43559075285870014,
          null
         ]
        },
        {
         "line": {
          "color": "Blue",
          "width": 1
         },
         "mode": "lines",
         "type": "scatter",
         "x": [
          0.15015548063234674,
          0.13497842458488654,
          null
         ],
         "y": [
          -0.4528732732262839,
          -0.41824588307947747,
          null
         ]
        },
        {
         "line": {
          "color": "Blue",
          "width": 1
         },
         "mode": "lines",
         "type": "scatter",
         "x": [
          0.30328686285500395,
          0.9094497709707767,
          null
         ],
         "y": [
          -0.31511055544757094,
          0.3398776971028099,
          null
         ]
        },
        {
         "line": {
          "color": "Blue",
          "width": 1
         },
         "mode": "lines",
         "type": "scatter",
         "x": [
          0.30328686285500395,
          0.3327540168450211,
          null
         ],
         "y": [
          -0.31511055544757094,
          -0.3466713296682181,
          null
         ]
        },
        {
         "line": {
          "color": "Blue",
          "width": 1
         },
         "mode": "lines",
         "type": "scatter",
         "x": [
          0.30328686285500395,
          0.37139980468958833,
          null
         ],
         "y": [
          -0.31511055544757094,
          -0.39683412651426175,
          null
         ]
        },
        {
         "line": {
          "color": "Blue",
          "width": 1
         },
         "mode": "lines",
         "type": "scatter",
         "x": [
          0.30328686285500395,
          -0.6636051016320922,
          null
         ],
         "y": [
          -0.31511055544757094,
          -0.5002919716369187,
          null
         ]
        },
        {
         "line": {
          "color": "Blue",
          "width": 1
         },
         "mode": "lines",
         "type": "scatter",
         "x": [
          0.30328686285500395,
          0.6348865288907681,
          null
         ],
         "y": [
          -0.31511055544757094,
          -0.8056094965249054,
          null
         ]
        },
        {
         "line": {
          "color": "Blue",
          "width": 4
         },
         "mode": "lines",
         "type": "scatter",
         "x": [
          0.30328686285500395,
          0.34061786617404016,
          null
         ],
         "y": [
          -0.31511055544757094,
          -0.30855064133928434,
          null
         ]
        },
        {
         "line": {
          "color": "Blue",
          "width": 1
         },
         "mode": "lines",
         "type": "scatter",
         "x": [
          0.30328686285500395,
          0.3562683737158679,
          null
         ],
         "y": [
          -0.31511055544757094,
          -0.3211400393344005,
          null
         ]
        },
        {
         "line": {
          "color": "Blue",
          "width": 1
         },
         "mode": "lines",
         "type": "scatter",
         "x": [
          0.30328686285500395,
          0.009036278879675546,
          null
         ],
         "y": [
          -0.31511055544757094,
          -0.4143408423256052,
          null
         ]
        },
        {
         "line": {
          "color": "Blue",
          "width": 1
         },
         "mode": "lines",
         "type": "scatter",
         "x": [
          0.30328686285500395,
          0.8399694446973339,
          null
         ],
         "y": [
          -0.31511055544757094,
          -0.4419607468490175,
          null
         ]
        },
        {
         "line": {
          "color": "Blue",
          "width": 1
         },
         "mode": "lines",
         "type": "scatter",
         "x": [
          0.9094497709707767,
          0.9380696302137653,
          null
         ],
         "y": [
          0.3398776971028099,
          0.3413917478167076,
          null
         ]
        },
        {
         "line": {
          "color": "Blue",
          "width": 1
         },
         "mode": "lines",
         "type": "scatter",
         "x": [
          0.34946367513741494,
          0.30328686285500395,
          null
         ],
         "y": [
          -0.340075231373567,
          -0.31511055544757094,
          null
         ]
        },
        {
         "line": {
          "color": "Blue",
          "width": 1
         },
         "mode": "lines",
         "type": "scatter",
         "x": [
          0.3327540168450211,
          0.30328686285500395,
          null
         ],
         "y": [
          -0.3466713296682181,
          -0.31511055544757094,
          null
         ]
        },
        {
         "line": {
          "color": "Blue",
          "width": 1
         },
         "mode": "lines",
         "type": "scatter",
         "x": [
          0.37139980468958833,
          0.4134147573982766,
          null
         ],
         "y": [
          -0.39683412651426175,
          -0.4268277957581614,
          null
         ]
        },
        {
         "line": {
          "color": "Blue",
          "width": 1
         },
         "mode": "lines",
         "type": "scatter",
         "x": [
          0.37139980468958833,
          0.31514246709436927,
          null
         ],
         "y": [
          -0.39683412651426175,
          -0.35552818653263246,
          null
         ]
        },
        {
         "line": {
          "color": "Blue",
          "width": 1
         },
         "mode": "lines",
         "type": "scatter",
         "x": [
          0.4134147573982766,
          0.37139980468958833,
          null
         ],
         "y": [
          -0.4268277957581614,
          -0.39683412651426175,
          null
         ]
        },
        {
         "line": {
          "color": "Blue",
          "width": 1
         },
         "mode": "lines",
         "type": "scatter",
         "x": [
          0.31514246709436927,
          0.30328686285500395,
          null
         ],
         "y": [
          -0.35552818653263246,
          -0.31511055544757094,
          null
         ]
        },
        {
         "line": {
          "color": "Blue",
          "width": 1
         },
         "mode": "lines",
         "type": "scatter",
         "x": [
          0.009036278879675546,
          -0.022890378890984022,
          null
         ],
         "y": [
          -0.4143408423256052,
          -0.4063740409647636,
          null
         ]
        },
        {
         "line": {
          "color": "Blue",
          "width": 1
         },
         "mode": "lines",
         "type": "scatter",
         "x": [
          0.009036278879675546,
          0.021386745904991424,
          null
         ],
         "y": [
          -0.4143408423256052,
          -0.4529638047212139,
          null
         ]
        },
        {
         "line": {
          "color": "Blue",
          "width": 2
         },
         "mode": "lines",
         "type": "scatter",
         "x": [
          0.009036278879675546,
          0.1691810176952496,
          null
         ],
         "y": [
          -0.4143408423256052,
          -0.08525492989516041,
          null
         ]
        },
        {
         "line": {
          "color": "Blue",
          "width": 1
         },
         "mode": "lines",
         "type": "scatter",
         "x": [
          0.009036278879675546,
          0.30328686285500395,
          null
         ],
         "y": [
          -0.4143408423256052,
          -0.31511055544757094,
          null
         ]
        },
        {
         "line": {
          "color": "Blue",
          "width": 1
         },
         "mode": "lines",
         "type": "scatter",
         "x": [
          0.009036278879675546,
          0.43922981708979875,
          null
         ],
         "y": [
          -0.4143408423256052,
          -0.7942266401882156,
          null
         ]
        },
        {
         "line": {
          "color": "Blue",
          "width": 1
         },
         "mode": "lines",
         "type": "scatter",
         "x": [
          0.009036278879675546,
          0.06079221381861678,
          null
         ],
         "y": [
          -0.4143408423256052,
          -0.639815906053597,
          null
         ]
        },
        {
         "line": {
          "color": "Blue",
          "width": 1
         },
         "mode": "lines",
         "type": "scatter",
         "x": [
          0.009036278879675546,
          -0.6149073183505702,
          null
         ],
         "y": [
          -0.4143408423256052,
          -0.1521805558209757,
          null
         ]
        },
        {
         "line": {
          "color": "Blue",
          "width": 1
         },
         "mode": "lines",
         "type": "scatter",
         "x": [
          0.009036278879675546,
          0.058172783359155864,
          null
         ],
         "y": [
          -0.4143408423256052,
          -0.6582622511391186,
          null
         ]
        },
        {
         "line": {
          "color": "Blue",
          "width": 1
         },
         "mode": "lines",
         "type": "scatter",
         "x": [
          -0.022890378890984022,
          0.009036278879675546,
          null
         ],
         "y": [
          -0.4063740409647636,
          -0.4143408423256052,
          null
         ]
        },
        {
         "line": {
          "color": "Blue",
          "width": 1
         },
         "mode": "lines",
         "type": "scatter",
         "x": [
          0.8123979248436138,
          0.7842726693969918,
          null
         ],
         "y": [
          -0.5881455232886105,
          -0.5675888382098471,
          null
         ]
        },
        {
         "line": {
          "color": "Blue",
          "width": 32
         },
         "mode": "lines",
         "type": "scatter",
         "x": [
          -0.01682486178410167,
          -0.04908019149873204,
          null
         ],
         "y": [
          0.17892996454026328,
          0.16270756298709113,
          null
         ]
        },
        {
         "line": {
          "color": "Blue",
          "width": 4
         },
         "mode": "lines",
         "type": "scatter",
         "x": [
          -0.01682486178410167,
          0.035691855751373965,
          null
         ],
         "y": [
          0.17892996454026328,
          0.16757270010641287,
          null
         ]
        },
        {
         "line": {
          "color": "Blue",
          "width": 1
         },
         "mode": "lines",
         "type": "scatter",
         "x": [
          -0.01682486178410167,
          -0.0670395828736914,
          null
         ],
         "y": [
          0.17892996454026328,
          0.18980317571366767,
          null
         ]
        },
        {
         "line": {
          "color": "Blue",
          "width": 1
         },
         "mode": "lines",
         "type": "scatter",
         "x": [
          -0.06904155988687091,
          -0.09764693884838213,
          null
         ],
         "y": [
          0.4938826975997377,
          0.5016702533942407,
          null
         ]
        },
        {
         "line": {
          "color": "Blue",
          "width": 1
         },
         "mode": "lines",
         "type": "scatter",
         "x": [
          -0.06904155988687091,
          -0.07048074000654607,
          null
         ],
         "y": [
          0.4938826975997377,
          0.46988143562945806,
          null
         ]
        },
        {
         "line": {
          "color": "Blue",
          "width": 1
         },
         "mode": "lines",
         "type": "scatter",
         "x": [
          -0.09764693884838213,
          -0.14069177639275085,
          null
         ],
         "y": [
          0.5016702533942407,
          0.4946212469640765,
          null
         ]
        },
        {
         "line": {
          "color": "Blue",
          "width": 4
         },
         "mode": "lines",
         "type": "scatter",
         "x": [
          -0.09764693884838213,
          -0.09265140478962157,
          null
         ],
         "y": [
          0.5016702533942407,
          0.6244129743533,
          null
         ]
        },
        {
         "line": {
          "color": "Blue",
          "width": 14
         },
         "mode": "lines",
         "type": "scatter",
         "x": [
          -0.09764693884838213,
          -0.07162247529415025,
          null
         ],
         "y": [
          0.5016702533942407,
          0.5355356238990059,
          null
         ]
        },
        {
         "line": {
          "color": "Blue",
          "width": 1
         },
         "mode": "lines",
         "type": "scatter",
         "x": [
          -0.09764693884838213,
          -0.8124833418688296,
          null
         ],
         "y": [
          0.5016702533942407,
          0.2203245140597425,
          null
         ]
        },
        {
         "line": {
          "color": "Blue",
          "width": 1
         },
         "mode": "lines",
         "type": "scatter",
         "x": [
          -0.09764693884838213,
          0.671320441325179,
          null
         ],
         "y": [
          0.5016702533942407,
          0.6428499177391398,
          null
         ]
        },
        {
         "line": {
          "color": "Blue",
          "width": 8
         },
         "mode": "lines",
         "type": "scatter",
         "x": [
          -0.09764693884838213,
          -0.07048074000654607,
          null
         ],
         "y": [
          0.5016702533942407,
          0.46988143562945806,
          null
         ]
        },
        {
         "line": {
          "color": "Blue",
          "width": 2
         },
         "mode": "lines",
         "type": "scatter",
         "x": [
          -0.09764693884838213,
          -0.07779334866803736,
          null
         ],
         "y": [
          0.5016702533942407,
          0.47261184185219385,
          null
         ]
        },
        {
         "line": {
          "color": "Blue",
          "width": 3
         },
         "mode": "lines",
         "type": "scatter",
         "x": [
          -0.09764693884838213,
          -0.053246629625470054,
          null
         ],
         "y": [
          0.5016702533942407,
          0.4886619593123064,
          null
         ]
        },
        {
         "line": {
          "color": "Blue",
          "width": 2
         },
         "mode": "lines",
         "type": "scatter",
         "x": [
          -0.09764693884838213,
          -0.053597705367711405,
          null
         ],
         "y": [
          0.5016702533942407,
          0.46810781316661976,
          null
         ]
        },
        {
         "line": {
          "color": "Blue",
          "width": 3
         },
         "mode": "lines",
         "type": "scatter",
         "x": [
          -0.09764693884838213,
          -0.0929944574155258,
          null
         ],
         "y": [
          0.5016702533942407,
          0.47267400411071453,
          null
         ]
        },
        {
         "line": {
          "color": "Blue",
          "width": 5
         },
         "mode": "lines",
         "type": "scatter",
         "x": [
          -0.09764693884838213,
          0.28734454356727346,
          null
         ],
         "y": [
          0.5016702533942407,
          0.5708575748613767,
          null
         ]
        },
        {
         "line": {
          "color": "Blue",
          "width": 4
         },
         "mode": "lines",
         "type": "scatter",
         "x": [
          -0.09764693884838213,
          -0.08897810817095779,
          null
         ],
         "y": [
          0.5016702533942407,
          0.45562601708956985,
          null
         ]
        },
        {
         "line": {
          "color": "Blue",
          "width": 1
         },
         "mode": "lines",
         "type": "scatter",
         "x": [
          -0.09764693884838213,
          -0.10342198349584059,
          null
         ],
         "y": [
          0.5016702533942407,
          0.44720286460074,
          null
         ]
        },
        {
         "line": {
          "color": "Blue",
          "width": 3
         },
         "mode": "lines",
         "type": "scatter",
         "x": [
          -0.09764693884838213,
          -0.2016485211525135,
          null
         ],
         "y": [
          0.5016702533942407,
          0.5308098864535044,
          null
         ]
        },
        {
         "line": {
          "color": "Blue",
          "width": 1
         },
         "mode": "lines",
         "type": "scatter",
         "x": [
          -0.09764693884838213,
          -0.5539419944205118,
          null
         ],
         "y": [
          0.5016702533942407,
          0.6533778484235168,
          null
         ]
        },
        {
         "line": {
          "color": "Blue",
          "width": 1
         },
         "mode": "lines",
         "type": "scatter",
         "x": [
          -0.09764693884838213,
          -0.0391303889196032,
          null
         ],
         "y": [
          0.5016702533942407,
          0.48870928431681226,
          null
         ]
        },
        {
         "line": {
          "color": "Blue",
          "width": 1
         },
         "mode": "lines",
         "type": "scatter",
         "x": [
          -0.09764693884838213,
          -0.005175642876471283,
          null
         ],
         "y": [
          0.5016702533942407,
          0.48633974473657615,
          null
         ]
        },
        {
         "line": {
          "color": "Blue",
          "width": 1
         },
         "mode": "lines",
         "type": "scatter",
         "x": [
          -0.09764693884838213,
          -0.1226952364617204,
          null
         ],
         "y": [
          0.5016702533942407,
          0.5347007647032919,
          null
         ]
        },
        {
         "line": {
          "color": "Blue",
          "width": 3
         },
         "mode": "lines",
         "type": "scatter",
         "x": [
          -0.09764693884838213,
          -0.1254032687063291,
          null
         ],
         "y": [
          0.5016702533942407,
          0.48562528747587247,
          null
         ]
        },
        {
         "line": {
          "color": "Blue",
          "width": 1
         },
         "mode": "lines",
         "type": "scatter",
         "x": [
          -0.09764693884838213,
          0.0013345273237045006,
          null
         ],
         "y": [
          0.5016702533942407,
          0.5036142005204512,
          null
         ]
        },
        {
         "line": {
          "color": "Blue",
          "width": 1
         },
         "mode": "lines",
         "type": "scatter",
         "x": [
          -0.09764693884838213,
          -0.06904155988687091,
          null
         ],
         "y": [
          0.5016702533942407,
          0.4938826975997377,
          null
         ]
        },
        {
         "line": {
          "color": "Blue",
          "width": 1
         },
         "mode": "lines",
         "type": "scatter",
         "x": [
          -0.14069177639275085,
          -0.09764693884838213,
          null
         ],
         "y": [
          0.4946212469640765,
          0.5016702533942407,
          null
         ]
        },
        {
         "line": {
          "color": "Blue",
          "width": 21
         },
         "mode": "lines",
         "type": "scatter",
         "x": [
          0.002741345740868338,
          -0.04908019149873204,
          null
         ],
         "y": [
          0.1539725152023531,
          0.16270756298709113,
          null
         ]
        },
        {
         "line": {
          "color": "Blue",
          "width": 5
         },
         "mode": "lines",
         "type": "scatter",
         "x": [
          0.002741345740868338,
          0.035691855751373965,
          null
         ],
         "y": [
          0.1539725152023531,
          0.16757270010641287,
          null
         ]
        },
        {
         "line": {
          "color": "Blue",
          "width": 1
         },
         "mode": "lines",
         "type": "scatter",
         "x": [
          0.079096240372851,
          -0.26190309058434397,
          null
         ],
         "y": [
          -0.40429633731897463,
          -0.9085850464824472,
          null
         ]
        },
        {
         "line": {
          "color": "Blue",
          "width": 1
         },
         "mode": "lines",
         "type": "scatter",
         "x": [
          0.079096240372851,
          0.3507866032415688,
          null
         ],
         "y": [
          -0.40429633731897463,
          -0.8700163676204544,
          null
         ]
        },
        {
         "line": {
          "color": "Blue",
          "width": 1
         },
         "mode": "lines",
         "type": "scatter",
         "x": [
          0.079096240372851,
          0.15797656165332316,
          null
         ],
         "y": [
          -0.40429633731897463,
          0.3409806356396478,
          null
         ]
        },
        {
         "line": {
          "color": "Blue",
          "width": 5
         },
         "mode": "lines",
         "type": "scatter",
         "x": [
          -0.09265140478962157,
          -0.09764693884838213,
          null
         ],
         "y": [
          0.6244129743533,
          0.5016702533942407,
          null
         ]
        },
        {
         "line": {
          "color": "Blue",
          "width": 1
         },
         "mode": "lines",
         "type": "scatter",
         "x": [
          -0.09265140478962157,
          -0.13553112684155927,
          null
         ],
         "y": [
          0.6244129743533,
          0.8382662395942693,
          null
         ]
        },
        {
         "line": {
          "color": "Blue",
          "width": 1
         },
         "mode": "lines",
         "type": "scatter",
         "x": [
          -0.09265140478962157,
          -0.058013945507797975,
          null
         ],
         "y": [
          0.6244129743533,
          0.529500915411918,
          null
         ]
        },
        {
         "line": {
          "color": "Blue",
          "width": 16
         },
         "mode": "lines",
         "type": "scatter",
         "x": [
          -0.07162247529415025,
          -0.09764693884838213,
          null
         ],
         "y": [
          0.5355356238990059,
          0.5016702533942407,
          null
         ]
        },
        {
         "line": {
          "color": "Blue",
          "width": 1
         },
         "mode": "lines",
         "type": "scatter",
         "x": [
          -0.07162247529415025,
          -0.09265140478962157,
          null
         ],
         "y": [
          0.5355356238990059,
          0.6244129743533,
          null
         ]
        },
        {
         "line": {
          "color": "Blue",
          "width": 1
         },
         "mode": "lines",
         "type": "scatter",
         "x": [
          0.19502359240396377,
          0.15797656165332316,
          null
         ],
         "y": [
          0.3712642350705524,
          0.3409806356396478,
          null
         ]
        },
        {
         "line": {
          "color": "Blue",
          "width": 2
         },
         "mode": "lines",
         "type": "scatter",
         "x": [
          0.15797656165332316,
          -0.6477636896413727,
          null
         ],
         "y": [
          0.3409806356396478,
          0.4646362218292611,
          null
         ]
        },
        {
         "line": {
          "color": "Blue",
          "width": 1
         },
         "mode": "lines",
         "type": "scatter",
         "x": [
          0.15797656165332316,
          0.9635866137462868,
          null
         ],
         "y": [
          0.3409806356396478,
          0.21687977801629363,
          null
         ]
        },
        {
         "line": {
          "color": "Blue",
          "width": 13
         },
         "mode": "lines",
         "type": "scatter",
         "x": [
          -0.0670395828736914,
          -0.04908019149873204,
          null
         ],
         "y": [
          0.18980317571366767,
          0.16270756298709113,
          null
         ]
        },
        {
         "line": {
          "color": "Blue",
          "width": 1
         },
         "mode": "lines",
         "type": "scatter",
         "x": [
          -0.0670395828736914,
          -0.048450155547228466,
          null
         ],
         "y": [
          0.18980317571366767,
          0.20992666428836335,
          null
         ]
        },
        {
         "line": {
          "color": "Blue",
          "width": 1
         },
         "mode": "lines",
         "type": "scatter",
         "x": [
          -0.0670395828736914,
          -0.08719302042766269,
          null
         ],
         "y": [
          0.18980317571366767,
          0.17268663861547398,
          null
         ]
        },
        {
         "line": {
          "color": "Blue",
          "width": 1
         },
         "mode": "lines",
         "type": "scatter",
         "x": [
          0.0024059578856886234,
          -0.04908019149873204,
          null
         ],
         "y": [
          0.17406829874102506,
          0.16270756298709113,
          null
         ]
        },
        {
         "line": {
          "color": "Blue",
          "width": 1
         },
         "mode": "lines",
         "type": "scatter",
         "x": [
          0.0024059578856886234,
          0.035691855751373965,
          null
         ],
         "y": [
          0.17406829874102506,
          0.16757270010641287,
          null
         ]
        },
        {
         "line": {
          "color": "Blue",
          "width": 1
         },
         "mode": "lines",
         "type": "scatter",
         "x": [
          -0.07779334866803736,
          -0.09764693884838213,
          null
         ],
         "y": [
          0.47261184185219385,
          0.5016702533942407,
          null
         ]
        },
        {
         "line": {
          "color": "Blue",
          "width": 1
         },
         "mode": "lines",
         "type": "scatter",
         "x": [
          -0.07779334866803736,
          -0.0929944574155258,
          null
         ],
         "y": [
          0.47261184185219385,
          0.47267400411071453,
          null
         ]
        },
        {
         "line": {
          "color": "Blue",
          "width": 1
         },
         "mode": "lines",
         "type": "scatter",
         "x": [
          -0.07779334866803736,
          -0.053246629625470054,
          null
         ],
         "y": [
          0.47261184185219385,
          0.4886619593123064,
          null
         ]
        },
        {
         "line": {
          "color": "Blue",
          "width": 6
         },
         "mode": "lines",
         "type": "scatter",
         "x": [
          -0.07048074000654607,
          -0.09764693884838213,
          null
         ],
         "y": [
          0.46988143562945806,
          0.5016702533942407,
          null
         ]
        },
        {
         "line": {
          "color": "Blue",
          "width": 1
         },
         "mode": "lines",
         "type": "scatter",
         "x": [
          -0.07048074000654607,
          -0.053246629625470054,
          null
         ],
         "y": [
          0.46988143562945806,
          0.4886619593123064,
          null
         ]
        },
        {
         "line": {
          "color": "Blue",
          "width": 1
         },
         "mode": "lines",
         "type": "scatter",
         "x": [
          -0.07048074000654607,
          -0.10342198349584059,
          null
         ],
         "y": [
          0.46988143562945806,
          0.44720286460074,
          null
         ]
        },
        {
         "line": {
          "color": "Blue",
          "width": 1
         },
         "mode": "lines",
         "type": "scatter",
         "x": [
          -0.0929944574155258,
          -0.053246629625470054,
          null
         ],
         "y": [
          0.47267400411071453,
          0.4886619593123064,
          null
         ]
        },
        {
         "line": {
          "color": "Blue",
          "width": 2
         },
         "mode": "lines",
         "type": "scatter",
         "x": [
          -0.0929944574155258,
          -0.09764693884838213,
          null
         ],
         "y": [
          0.47267400411071453,
          0.5016702533942407,
          null
         ]
        },
        {
         "line": {
          "color": "Blue",
          "width": 1
         },
         "mode": "lines",
         "type": "scatter",
         "x": [
          -0.0929944574155258,
          -0.1254032687063291,
          null
         ],
         "y": [
          0.47267400411071453,
          0.48562528747587247,
          null
         ]
        },
        {
         "line": {
          "color": "Blue",
          "width": 5
         },
         "mode": "lines",
         "type": "scatter",
         "x": [
          -0.053246629625470054,
          -0.09764693884838213,
          null
         ],
         "y": [
          0.4886619593123064,
          0.5016702533942407,
          null
         ]
        },
        {
         "line": {
          "color": "Blue",
          "width": 1
         },
         "mode": "lines",
         "type": "scatter",
         "x": [
          -0.053246629625470054,
          -0.07162247529415025,
          null
         ],
         "y": [
          0.4886619593123064,
          0.5355356238990059,
          null
         ]
        },
        {
         "line": {
          "color": "Blue",
          "width": 1
         },
         "mode": "lines",
         "type": "scatter",
         "x": [
          0.8678439890295059,
          0.9999999999999999,
          null
         ],
         "y": [
          0.0877178061421575,
          0.10191372396632035,
          null
         ]
        },
        {
         "line": {
          "color": "Blue",
          "width": 1
         },
         "mode": "lines",
         "type": "scatter",
         "x": [
          0.1577437251503278,
          0.1736085731566625,
          null
         ],
         "y": [
          -0.4784031416501545,
          -0.5190992829281893,
          null
         ]
        },
        {
         "line": {
          "color": "Blue",
          "width": 1
         },
         "mode": "lines",
         "type": "scatter",
         "x": [
          0.1577437251503278,
          0.13497842458488654,
          null
         ],
         "y": [
          -0.4784031416501545,
          -0.41824588307947747,
          null
         ]
        },
        {
         "line": {
          "color": "Blue",
          "width": 1
         },
         "mode": "lines",
         "type": "scatter",
         "x": [
          0.1736085731566625,
          0.1577437251503278,
          null
         ],
         "y": [
          -0.5190992829281893,
          -0.4784031416501545,
          null
         ]
        },
        {
         "line": {
          "color": "Blue",
          "width": 1
         },
         "mode": "lines",
         "type": "scatter",
         "x": [
          0.2077244530915794,
          0.17080575425886763,
          null
         ],
         "y": [
          -0.46674567256366634,
          -0.43559075285870014,
          null
         ]
        },
        {
         "line": {
          "color": "Blue",
          "width": 1
         },
         "mode": "lines",
         "type": "scatter",
         "x": [
          -0.053597705367711405,
          -0.09764693884838213,
          null
         ],
         "y": [
          0.46810781316661976,
          0.5016702533942407,
          null
         ]
        },
        {
         "line": {
          "color": "Blue",
          "width": 1
         },
         "mode": "lines",
         "type": "scatter",
         "x": [
          -0.053597705367711405,
          -0.07048074000654607,
          null
         ],
         "y": [
          0.46810781316661976,
          0.46988143562945806,
          null
         ]
        },
        {
         "line": {
          "color": "Blue",
          "width": 3
         },
         "mode": "lines",
         "type": "scatter",
         "x": [
          0.28734454356727346,
          -0.09764693884838213,
          null
         ],
         "y": [
          0.5708575748613767,
          0.5016702533942407,
          null
         ]
        },
        {
         "line": {
          "color": "Blue",
          "width": 1
         },
         "mode": "lines",
         "type": "scatter",
         "x": [
          0.28734454356727346,
          0.671320441325179,
          null
         ],
         "y": [
          0.5708575748613767,
          0.6428499177391398,
          null
         ]
        },
        {
         "line": {
          "color": "Blue",
          "width": 4
         },
         "mode": "lines",
         "type": "scatter",
         "x": [
          -0.08897810817095779,
          -0.09764693884838213,
          null
         ],
         "y": [
          0.45562601708956985,
          0.5016702533942407,
          null
         ]
        },
        {
         "line": {
          "color": "Blue",
          "width": 1
         },
         "mode": "lines",
         "type": "scatter",
         "x": [
          0.19415901671656216,
          0.1555540594970832,
          null
         ],
         "y": [
          -0.05617873800187494,
          -0.08068572650283731,
          null
         ]
        },
        {
         "line": {
          "color": "Blue",
          "width": 1
         },
         "mode": "lines",
         "type": "scatter",
         "x": [
          0.1555540594970832,
          0.3054939897433031,
          null
         ],
         "y": [
          -0.08068572650283731,
          0.27706032670315917,
          null
         ]
        },
        {
         "line": {
          "color": "Blue",
          "width": 1
         },
         "mode": "lines",
         "type": "scatter",
         "x": [
          0.1555540594970832,
          0.002973106317656575,
          null
         ],
         "y": [
          -0.08068572650283731,
          -0.43999804993362923,
          null
         ]
        },
        {
         "line": {
          "color": "Blue",
          "width": 1
         },
         "mode": "lines",
         "type": "scatter",
         "x": [
          0.3054939897433031,
          0.4301583900773935,
          null
         ],
         "y": [
          0.27706032670315917,
          0.8008489579891518,
          null
         ]
        },
        {
         "line": {
          "color": "Blue",
          "width": 3
         },
         "mode": "lines",
         "type": "scatter",
         "x": [
          0.3054939897433031,
          0.1691810176952496,
          null
         ],
         "y": [
          0.27706032670315917,
          -0.08525492989516041,
          null
         ]
        },
        {
         "line": {
          "color": "Blue",
          "width": 1
         },
         "mode": "lines",
         "type": "scatter",
         "x": [
          0.3054939897433031,
          0.26542564106246413,
          null
         ],
         "y": [
          0.27706032670315917,
          -0.09961092879548651,
          null
         ]
        },
        {
         "line": {
          "color": "Blue",
          "width": 2
         },
         "mode": "lines",
         "type": "scatter",
         "x": [
          0.1691810176952496,
          0.002973106317656575,
          null
         ],
         "y": [
          -0.08525492989516041,
          -0.43999804993362923,
          null
         ]
        },
        {
         "line": {
          "color": "Blue",
          "width": 2
         },
         "mode": "lines",
         "type": "scatter",
         "x": [
          0.1691810176952496,
          0.3054939897433031,
          null
         ],
         "y": [
          -0.08525492989516041,
          0.27706032670315917,
          null
         ]
        },
        {
         "line": {
          "color": "Blue",
          "width": 2
         },
         "mode": "lines",
         "type": "scatter",
         "x": [
          0.1691810176952496,
          0.1882751584428681,
          null
         ],
         "y": [
          -0.08525492989516041,
          -0.10574103829791384,
          null
         ]
        },
        {
         "line": {
          "color": "Blue",
          "width": 1
         },
         "mode": "lines",
         "type": "scatter",
         "x": [
          0.1691810176952496,
          0.26542564106246413,
          null
         ],
         "y": [
          -0.08525492989516041,
          -0.09961092879548651,
          null
         ]
        },
        {
         "line": {
          "color": "Blue",
          "width": 1
         },
         "mode": "lines",
         "type": "scatter",
         "x": [
          0.002973106317656575,
          0.009036278879675546,
          null
         ],
         "y": [
          -0.43999804993362923,
          -0.4143408423256052,
          null
         ]
        },
        {
         "line": {
          "color": "Blue",
          "width": 1
         },
         "mode": "lines",
         "type": "scatter",
         "x": [
          0.021386745904991424,
          0.009036278879675546,
          null
         ],
         "y": [
          -0.4529638047212139,
          -0.4143408423256052,
          null
         ]
        },
        {
         "line": {
          "color": "Blue",
          "width": 1
         },
         "mode": "lines",
         "type": "scatter",
         "x": [
          0.1882751584428681,
          0.1555540594970832,
          null
         ],
         "y": [
          -0.10574103829791384,
          -0.08068572650283731,
          null
         ]
        },
        {
         "line": {
          "color": "Blue",
          "width": 1
         },
         "mode": "lines",
         "type": "scatter",
         "x": [
          0.26542564106246413,
          0.2150177106665685,
          null
         ],
         "y": [
          -0.09961092879548651,
          -0.09931417736409508,
          null
         ]
        },
        {
         "line": {
          "color": "Blue",
          "width": 1
         },
         "mode": "lines",
         "type": "scatter",
         "x": [
          0.21850172630124284,
          0.1691810176952496,
          null
         ],
         "y": [
          -0.07276381758366757,
          -0.08525492989516041,
          null
         ]
        },
        {
         "line": {
          "color": "Blue",
          "width": 1
         },
         "mode": "lines",
         "type": "scatter",
         "x": [
          0.2150177106665685,
          0.1691810176952496,
          null
         ],
         "y": [
          -0.09931417736409508,
          -0.08525492989516041,
          null
         ]
        },
        {
         "line": {
          "color": "Blue",
          "width": 1
         },
         "mode": "lines",
         "type": "scatter",
         "x": [
          0.6872875038694599,
          0.7687847408517561,
          null
         ],
         "y": [
          -0.11929175953574112,
          -0.1319981745712636,
          null
         ]
        },
        {
         "line": {
          "color": "Blue",
          "width": 1
         },
         "mode": "lines",
         "type": "scatter",
         "x": [
          0.7687847408517561,
          0.8531935554376425,
          null
         ],
         "y": [
          -0.1319981745712636,
          -0.14829971404042905,
          null
         ]
        },
        {
         "line": {
          "color": "Blue",
          "width": 1
         },
         "mode": "lines",
         "type": "scatter",
         "x": [
          0.8531935554376425,
          0.8199944000191581,
          null
         ],
         "y": [
          -0.14829971404042905,
          -0.1352727658755483,
          null
         ]
        },
        {
         "line": {
          "color": "Blue",
          "width": 1
         },
         "mode": "lines",
         "type": "scatter",
         "x": [
          0.8531935554376425,
          0.8887867264248402,
          null
         ],
         "y": [
          -0.14829971404042905,
          -0.1663768554259321,
          null
         ]
        },
        {
         "line": {
          "color": "Blue",
          "width": 3
         },
         "mode": "lines",
         "type": "scatter",
         "x": [
          0.34061786617404016,
          0.30328686285500395,
          null
         ],
         "y": [
          -0.30855064133928434,
          -0.31511055544757094,
          null
         ]
        },
        {
         "line": {
          "color": "Blue",
          "width": 1
         },
         "mode": "lines",
         "type": "scatter",
         "x": [
          0.34061786617404016,
          0.34506900925859535,
          null
         ],
         "y": [
          -0.30855064133928434,
          -0.29265110189904614,
          null
         ]
        },
        {
         "line": {
          "color": "Blue",
          "width": 1
         },
         "mode": "lines",
         "type": "scatter",
         "x": [
          0.8199944000191581,
          0.8531935554376425,
          null
         ],
         "y": [
          -0.1352727658755483,
          -0.14829971404042905,
          null
         ]
        },
        {
         "line": {
          "color": "Blue",
          "width": 1
         },
         "mode": "lines",
         "type": "scatter",
         "x": [
          0.8887867264248402,
          0.8735923397033063,
          null
         ],
         "y": [
          -0.1663768554259321,
          -0.1888585924482965,
          null
         ]
        },
        {
         "line": {
          "color": "Blue",
          "width": 1
         },
         "mode": "lines",
         "type": "scatter",
         "x": [
          0.8887867264248402,
          0.8531935554376425,
          null
         ],
         "y": [
          -0.1663768554259321,
          -0.14829971404042905,
          null
         ]
        },
        {
         "line": {
          "color": "Blue",
          "width": 1
         },
         "mode": "lines",
         "type": "scatter",
         "x": [
          0.8735923397033063,
          0.8887867264248402,
          null
         ],
         "y": [
          -0.1888585924482965,
          -0.1663768554259321,
          null
         ]
        },
        {
         "line": {
          "color": "Blue",
          "width": 1
         },
         "mode": "lines",
         "type": "scatter",
         "x": [
          0.3562683737158679,
          0.30328686285500395,
          null
         ],
         "y": [
          -0.3211400393344005,
          -0.31511055544757094,
          null
         ]
        },
        {
         "line": {
          "color": "Blue",
          "width": 1
         },
         "mode": "lines",
         "type": "scatter",
         "x": [
          0.34506900925859535,
          0.30328686285500395,
          null
         ],
         "y": [
          -0.29265110189904614,
          -0.31511055544757094,
          null
         ]
        },
        {
         "line": {
          "color": "Blue",
          "width": 1
         },
         "mode": "lines",
         "type": "scatter",
         "x": [
          -0.21285944404480917,
          -0.18401033401868663,
          null
         ],
         "y": [
          0.1924659628020051,
          0.16486763387346529,
          null
         ]
        },
        {
         "line": {
          "color": "Blue",
          "width": 1
         },
         "mode": "lines",
         "type": "scatter",
         "x": [
          -0.18401033401868663,
          -0.2672644503890617,
          null
         ],
         "y": [
          0.16486763387346529,
          0.20076083488881463,
          null
         ]
        },
        {
         "line": {
          "color": "Blue",
          "width": 1
         },
         "mode": "lines",
         "type": "scatter",
         "x": [
          -0.18401033401868663,
          -0.09808957619229611,
          null
         ],
         "y": [
          0.16486763387346529,
          0.12729770564028162,
          null
         ]
        },
        {
         "line": {
          "color": "Blue",
          "width": 6
         },
         "mode": "lines",
         "type": "scatter",
         "x": [
          -0.2672644503890617,
          -0.29758252031611687,
          null
         ],
         "y": [
          0.20076083488881463,
          0.2293044463666181,
          null
         ]
        },
        {
         "line": {
          "color": "Blue",
          "width": 1
         },
         "mode": "lines",
         "type": "scatter",
         "x": [
          -0.2672644503890617,
          -0.22414798181503548,
          null
         ],
         "y": [
          0.20076083488881463,
          0.16594114558282227,
          null
         ]
        },
        {
         "line": {
          "color": "Blue",
          "width": 1
         },
         "mode": "lines",
         "type": "scatter",
         "x": [
          -0.2833122385236057,
          -0.12190384764613997,
          null
         ],
         "y": [
          -0.13303777404451683,
          -0.8991861031432604,
          null
         ]
        },
        {
         "line": {
          "color": "Blue",
          "width": 1
         },
         "mode": "lines",
         "type": "scatter",
         "x": [
          -0.2833122385236057,
          -0.4436690251928061,
          null
         ],
         "y": [
          -0.13303777404451683,
          0.6331602933290091,
          null
         ]
        },
        {
         "line": {
          "color": "Blue",
          "width": 7
         },
         "mode": "lines",
         "type": "scatter",
         "x": [
          -0.29758252031611687,
          -0.2672644503890617,
          null
         ],
         "y": [
          0.2293044463666181,
          0.20076083488881463,
          null
         ]
        },
        {
         "line": {
          "color": "Blue",
          "width": 1
         },
         "mode": "lines",
         "type": "scatter",
         "x": [
          0.21635135671837918,
          0.23835910397184876,
          null
         ],
         "y": [
          -0.9298556539923125,
          -0.9333613138021286,
          null
         ]
        },
        {
         "line": {
          "color": "Blue",
          "width": 1
         },
         "mode": "lines",
         "type": "scatter",
         "x": [
          0.23835910397184876,
          0.21635135671837918,
          null
         ],
         "y": [
          -0.9333613138021286,
          -0.9298556539923125,
          null
         ]
        },
        {
         "line": {
          "color": "Blue",
          "width": 1
         },
         "mode": "lines",
         "type": "scatter",
         "x": [
          -0.22414798181503548,
          -0.18401033401868663,
          null
         ],
         "y": [
          0.16594114558282227,
          0.16486763387346529,
          null
         ]
        },
        {
         "line": {
          "color": "Blue",
          "width": 1
         },
         "mode": "lines",
         "type": "scatter",
         "x": [
          -0.09808957619229611,
          -0.06488217540218268,
          null
         ],
         "y": [
          0.12729770564028162,
          0.13849963175891297,
          null
         ]
        },
        {
         "line": {
          "color": "Blue",
          "width": 1
         },
         "mode": "lines",
         "type": "scatter",
         "x": [
          -0.06488217540218268,
          -0.04908019149873204,
          null
         ],
         "y": [
          0.13849963175891297,
          0.16270756298709113,
          null
         ]
        },
        {
         "line": {
          "color": "Blue",
          "width": 1
         },
         "mode": "lines",
         "type": "scatter",
         "x": [
          0.8454524425044823,
          0.9303831255348312,
          null
         ],
         "y": [
          0.0032370533358434487,
          0.004806671213217423,
          null
         ]
        },
        {
         "line": {
          "color": "Blue",
          "width": 2
         },
         "mode": "lines",
         "type": "scatter",
         "x": [
          -0.08719302042766269,
          -0.04908019149873204,
          null
         ],
         "y": [
          0.17268663861547398,
          0.16270756298709113,
          null
         ]
        },
        {
         "line": {
          "color": "Blue",
          "width": 1
         },
         "mode": "lines",
         "type": "scatter",
         "x": [
          -0.10342198349584059,
          -0.09764693884838213,
          null
         ],
         "y": [
          0.44720286460074,
          0.5016702533942407,
          null
         ]
        },
        {
         "line": {
          "color": "Blue",
          "width": 5
         },
         "mode": "lines",
         "type": "scatter",
         "x": [
          -0.1254032687063291,
          -0.09764693884838213,
          null
         ],
         "y": [
          0.48562528747587247,
          0.5016702533942407,
          null
         ]
        },
        {
         "line": {
          "color": "Blue",
          "width": 1
         },
         "mode": "lines",
         "type": "scatter",
         "x": [
          0.5210351419586476,
          0.5420995362377978,
          null
         ],
         "y": [
          0.47464065342617107,
          0.4914261820906469,
          null
         ]
        },
        {
         "line": {
          "color": "Blue",
          "width": 1
         },
         "mode": "lines",
         "type": "scatter",
         "x": [
          0.5420995362377978,
          0.5620118644519233,
          null
         ],
         "y": [
          0.4914261820906469,
          0.5058256975894705,
          null
         ]
        },
        {
         "line": {
          "color": "Blue",
          "width": 1
         },
         "mode": "lines",
         "type": "scatter",
         "x": [
          0.5420995362377978,
          0.5210351419586476,
          null
         ],
         "y": [
          0.4914261820906469,
          0.47464065342617107,
          null
         ]
        },
        {
         "line": {
          "color": "Blue",
          "width": 1
         },
         "mode": "lines",
         "type": "scatter",
         "x": [
          0.5620118644519233,
          0.5420995362377978,
          null
         ],
         "y": [
          0.5058256975894705,
          0.4914261820906469,
          null
         ]
        },
        {
         "line": {
          "color": "Blue",
          "width": 1
         },
         "mode": "lines",
         "type": "scatter",
         "x": [
          -0.517348951520694,
          -0.5391931740407496,
          null
         ],
         "y": [
          0.43917471817751774,
          0.48447061593675167,
          null
         ]
        },
        {
         "line": {
          "color": "Blue",
          "width": 1
         },
         "mode": "lines",
         "type": "scatter",
         "x": [
          -0.5391931740407496,
          -0.5163928632215928,
          null
         ],
         "y": [
          0.48447061593675167,
          0.45745345121873576,
          null
         ]
        },
        {
         "line": {
          "color": "Blue",
          "width": 1
         },
         "mode": "lines",
         "type": "scatter",
         "x": [
          -0.5163928632215928,
          -0.517348951520694,
          null
         ],
         "y": [
          0.45745345121873576,
          0.43917471817751774,
          null
         ]
        },
        {
         "line": {
          "color": "Blue",
          "width": 1
         },
         "mode": "lines",
         "type": "scatter",
         "x": [
          -0.02459932190412652,
          -0.07308850100976673,
          null
         ],
         "y": [
          -0.05299073928114379,
          -0.15605036291845834,
          null
         ]
        },
        {
         "line": {
          "color": "Blue",
          "width": 1
         },
         "mode": "lines",
         "type": "scatter",
         "x": [
          -0.02459932190412652,
          -0.003069014601904993,
          null
         ],
         "y": [
          -0.05299073928114379,
          -0.00950799094622131,
          null
         ]
        },
        {
         "line": {
          "color": "Blue",
          "width": 4
         },
         "mode": "lines",
         "type": "scatter",
         "x": [
          -0.02459932190412652,
          -0.023439027961164614,
          null
         ],
         "y": [
          -0.05299073928114379,
          -0.03952335854165663,
          null
         ]
        },
        {
         "line": {
          "color": "Blue",
          "width": 2
         },
         "mode": "lines",
         "type": "scatter",
         "x": [
          -0.02459932190412652,
          0.01731241144811816,
          null
         ],
         "y": [
          -0.05299073928114379,
          0.04903077672744893,
          null
         ]
        },
        {
         "line": {
          "color": "Blue",
          "width": 1
         },
         "mode": "lines",
         "type": "scatter",
         "x": [
          -0.07308850100976673,
          -0.046418000668419286,
          null
         ],
         "y": [
          -0.15605036291845834,
          -0.154699973647475,
          null
         ]
        },
        {
         "line": {
          "color": "Blue",
          "width": 1
         },
         "mode": "lines",
         "type": "scatter",
         "x": [
          -0.07308850100976673,
          -0.0553252058851067,
          null
         ],
         "y": [
          -0.15605036291845834,
          -0.11037579651437297,
          null
         ]
        },
        {
         "line": {
          "color": "Blue",
          "width": 1
         },
         "mode": "lines",
         "type": "scatter",
         "x": [
          -0.046418000668419286,
          -0.035301315717353135,
          null
         ],
         "y": [
          -0.154699973647475,
          -0.10130861669483349,
          null
         ]
        },
        {
         "line": {
          "color": "Blue",
          "width": 1
         },
         "mode": "lines",
         "type": "scatter",
         "x": [
          -0.035301315717353135,
          -0.0553252058851067,
          null
         ],
         "y": [
          -0.10130861669483349,
          -0.11037579651437297,
          null
         ]
        },
        {
         "line": {
          "color": "Blue",
          "width": 1
         },
         "mode": "lines",
         "type": "scatter",
         "x": [
          -0.035301315717353135,
          -0.02459932190412652,
          null
         ],
         "y": [
          -0.10130861669483349,
          -0.05299073928114379,
          null
         ]
        },
        {
         "line": {
          "color": "Blue",
          "width": 1
         },
         "mode": "lines",
         "type": "scatter",
         "x": [
          -0.0553252058851067,
          -0.035301315717353135,
          null
         ],
         "y": [
          -0.11037579651437297,
          -0.10130861669483349,
          null
         ]
        },
        {
         "line": {
          "color": "Blue",
          "width": 1
         },
         "mode": "lines",
         "type": "scatter",
         "x": [
          -0.0553252058851067,
          -0.07308850100976673,
          null
         ],
         "y": [
          -0.11037579651437297,
          -0.15605036291845834,
          null
         ]
        },
        {
         "line": {
          "color": "Blue",
          "width": 1
         },
         "mode": "lines",
         "type": "scatter",
         "x": [
          -0.0553252058851067,
          -0.023439027961164614,
          null
         ],
         "y": [
          -0.11037579651437297,
          -0.03952335854165663,
          null
         ]
        },
        {
         "line": {
          "color": "Blue",
          "width": 1
         },
         "mode": "lines",
         "type": "scatter",
         "x": [
          -0.07913157570487554,
          -0.40340584233711513,
          null
         ],
         "y": [
          0.04826303302225522,
          -0.7463328668614766,
          null
         ]
        },
        {
         "line": {
          "color": "Blue",
          "width": 1
         },
         "mode": "lines",
         "type": "scatter",
         "x": [
          -0.07913157570487554,
          0.24575990075780044,
          null
         ],
         "y": [
          0.04826303302225522,
          0.844442511670928,
          null
         ]
        },
        {
         "line": {
          "color": "Blue",
          "width": 2
         },
         "mode": "lines",
         "type": "scatter",
         "x": [
          -0.2016485211525135,
          -0.09764693884838213,
          null
         ],
         "y": [
          0.5308098864535044,
          0.5016702533942407,
          null
         ]
        },
        {
         "line": {
          "color": "Blue",
          "width": 1
         },
         "mode": "lines",
         "type": "scatter",
         "x": [
          -0.2016485211525135,
          -0.3261499856488249,
          null
         ],
         "y": [
          0.5308098864535044,
          0.5766471478348255,
          null
         ]
        },
        {
         "line": {
          "color": "Blue",
          "width": 1
         },
         "mode": "lines",
         "type": "scatter",
         "x": [
          -0.2016485211525135,
          -0.1254032687063291,
          null
         ],
         "y": [
          0.5308098864535044,
          0.48562528747587247,
          null
         ]
        },
        {
         "line": {
          "color": "Blue",
          "width": 1
         },
         "mode": "lines",
         "type": "scatter",
         "x": [
          -0.3261499856488249,
          -0.5539419944205118,
          null
         ],
         "y": [
          0.5766471478348255,
          0.6533778484235168,
          null
         ]
        },
        {
         "line": {
          "color": "Blue",
          "width": 1
         },
         "mode": "lines",
         "type": "scatter",
         "x": [
          -0.3261499856488249,
          -0.09764693884838213,
          null
         ],
         "y": [
          0.5766471478348255,
          0.5016702533942407,
          null
         ]
        },
        {
         "line": {
          "color": "Blue",
          "width": 1
         },
         "mode": "lines",
         "type": "scatter",
         "x": [
          -0.14026198224605155,
          -0.1226952364617204,
          null
         ],
         "y": [
          0.4603471330875702,
          0.5347007647032919,
          null
         ]
        },
        {
         "line": {
          "color": "Blue",
          "width": 1
         },
         "mode": "lines",
         "type": "scatter",
         "x": [
          -0.1226952364617204,
          -0.09764693884838213,
          null
         ],
         "y": [
          0.5347007647032919,
          0.5016702533942407,
          null
         ]
        },
        {
         "line": {
          "color": "Blue",
          "width": 2
         },
         "mode": "lines",
         "type": "scatter",
         "x": [
          -0.1151846168673674,
          -0.13553112684155927,
          null
         ],
         "y": [
          0.7412319538767186,
          0.8382662395942693,
          null
         ]
        },
        {
         "line": {
          "color": "Blue",
          "width": 1
         },
         "mode": "lines",
         "type": "scatter",
         "x": [
          -0.6048349652012899,
          -0.6834093479930266,
          null
         ],
         "y": [
          -0.5534793185698882,
          -0.6180149319941272,
          null
         ]
        },
        {
         "line": {
          "color": "Blue",
          "width": 1
         },
         "mode": "lines",
         "type": "scatter",
         "x": [
          -0.06015214130290608,
          -0.06899691242650213,
          null
         ],
         "y": [
          0.6853965282361031,
          0.78046574576276,
          null
         ]
        },
        {
         "line": {
          "color": "Blue",
          "width": 1
         },
         "mode": "lines",
         "type": "scatter",
         "x": [
          -0.3580800934475545,
          -0.3899754228898792,
          null
         ],
         "y": [
          -0.5036847534507536,
          -0.5474594679598284,
          null
         ]
        },
        {
         "line": {
          "color": "Blue",
          "width": 1
         },
         "mode": "lines",
         "type": "scatter",
         "x": [
          -0.3899754228898792,
          -0.42041483537231344,
          null
         ],
         "y": [
          -0.5474594679598284,
          -0.579069412137249,
          null
         ]
        },
        {
         "line": {
          "color": "Blue",
          "width": 1
         },
         "mode": "lines",
         "type": "scatter",
         "x": [
          -0.42041483537231344,
          -0.4509609104466379,
          null
         ],
         "y": [
          -0.579069412137249,
          -0.6120067345582608,
          null
         ]
        },
        {
         "line": {
          "color": "Blue",
          "width": 1
         },
         "mode": "lines",
         "type": "scatter",
         "x": [
          -0.4509609104466379,
          -0.5861882119961276,
          null
         ],
         "y": [
          -0.6120067345582608,
          -0.7790879355589496,
          null
         ]
        },
        {
         "line": {
          "color": "Blue",
          "width": 2
         },
         "mode": "lines",
         "type": "scatter",
         "x": [
          0.01731241144811816,
          -0.003069014601904993,
          null
         ],
         "y": [
          0.04903077672744893,
          -0.00950799094622131,
          null
         ]
        },
        {
         "line": {
          "color": "Blue",
          "width": 1
         },
         "mode": "lines",
         "type": "scatter",
         "x": [
          0.01731241144811816,
          0.07147603950575829,
          null
         ],
         "y": [
          0.04903077672744893,
          0.2043694087507358,
          null
         ]
        },
        {
         "line": {
          "color": "Blue",
          "width": 2
         },
         "mode": "lines",
         "type": "scatter",
         "x": [
          0.01731241144811816,
          -0.02459932190412652,
          null
         ],
         "y": [
          0.04903077672744893,
          -0.05299073928114379,
          null
         ]
        },
        {
         "line": {
          "color": "Blue",
          "width": 2
         },
         "mode": "lines",
         "type": "scatter",
         "x": [
          0.01731241144811816,
          -0.023439027961164614,
          null
         ],
         "y": [
          0.04903077672744893,
          -0.03952335854165663,
          null
         ]
        },
        {
         "line": {
          "color": "Blue",
          "width": 6
         },
         "mode": "lines",
         "type": "scatter",
         "x": [
          -0.003069014601904993,
          -0.023439027961164614,
          null
         ],
         "y": [
          -0.00950799094622131,
          -0.03952335854165663,
          null
         ]
        },
        {
         "line": {
          "color": "Blue",
          "width": 1
         },
         "mode": "lines",
         "type": "scatter",
         "x": [
          -0.003069014601904993,
          -0.02459932190412652,
          null
         ],
         "y": [
          -0.00950799094622131,
          -0.05299073928114379,
          null
         ]
        },
        {
         "line": {
          "color": "Blue",
          "width": 3
         },
         "mode": "lines",
         "type": "scatter",
         "x": [
          -0.003069014601904993,
          0.01731241144811816,
          null
         ],
         "y": [
          -0.00950799094622131,
          0.04903077672744893,
          null
         ]
        },
        {
         "line": {
          "color": "Blue",
          "width": 3
         },
         "mode": "lines",
         "type": "scatter",
         "x": [
          -0.023439027961164614,
          0.01731241144811816,
          null
         ],
         "y": [
          -0.03952335854165663,
          0.04903077672744893,
          null
         ]
        },
        {
         "line": {
          "color": "Blue",
          "width": 5
         },
         "mode": "lines",
         "type": "scatter",
         "x": [
          -0.023439027961164614,
          -0.003069014601904993,
          null
         ],
         "y": [
          -0.03952335854165663,
          -0.00950799094622131,
          null
         ]
        },
        {
         "line": {
          "color": "Blue",
          "width": 1
         },
         "mode": "lines",
         "type": "scatter",
         "x": [
          -0.023439027961164614,
          0.008682001596456069,
          null
         ],
         "y": [
          -0.03952335854165663,
          -0.0571081168919628,
          null
         ]
        },
        {
         "line": {
          "color": "Blue",
          "width": 4
         },
         "mode": "lines",
         "type": "scatter",
         "x": [
          -0.023439027961164614,
          -0.02459932190412652,
          null
         ],
         "y": [
          -0.03952335854165663,
          -0.05299073928114379,
          null
         ]
        },
        {
         "line": {
          "color": "Blue",
          "width": 1
         },
         "mode": "lines",
         "type": "scatter",
         "x": [
          -0.023439027961164614,
          -0.0553252058851067,
          null
         ],
         "y": [
          -0.03952335854165663,
          -0.11037579651437297,
          null
         ]
        },
        {
         "line": {
          "color": "Blue",
          "width": 1
         },
         "mode": "lines",
         "type": "scatter",
         "x": [
          -0.023439027961164614,
          -0.05370145088919802,
          null
         ],
         "y": [
          -0.03952335854165663,
          -0.0748227847424707,
          null
         ]
        },
        {
         "line": {
          "color": "Blue",
          "width": 1
         },
         "mode": "lines",
         "type": "scatter",
         "x": [
          -0.023439027961164614,
          -0.06095413137793801,
          null
         ],
         "y": [
          -0.03952335854165663,
          -0.051207150316049235,
          null
         ]
        },
        {
         "line": {
          "color": "Blue",
          "width": 1
         },
         "mode": "lines",
         "type": "scatter",
         "x": [
          0.07147603950575829,
          0.035691855751373965,
          null
         ],
         "y": [
          0.2043694087507358,
          0.16757270010641287,
          null
         ]
        },
        {
         "line": {
          "color": "Blue",
          "width": 8
         },
         "mode": "lines",
         "type": "scatter",
         "x": [
          -0.6174161701205725,
          -0.5880501532052904,
          null
         ],
         "y": [
          0.06781144109597384,
          0.04970963428061751,
          null
         ]
        },
        {
         "line": {
          "color": "Blue",
          "width": 1
         },
         "mode": "lines",
         "type": "scatter",
         "x": [
          -0.6174161701205725,
          -0.6253885387742535,
          null
         ],
         "y": [
          0.06781144109597384,
          0.050837847634827064,
          null
         ]
        },
        {
         "line": {
          "color": "Blue",
          "width": 2
         },
         "mode": "lines",
         "type": "scatter",
         "x": [
          -0.5880501532052904,
          -0.6253885387742535,
          null
         ],
         "y": [
          0.04970963428061751,
          0.050837847634827064,
          null
         ]
        },
        {
         "line": {
          "color": "Blue",
          "width": 6
         },
         "mode": "lines",
         "type": "scatter",
         "x": [
          -0.5880501532052904,
          -0.6174161701205725,
          null
         ],
         "y": [
          0.04970963428061751,
          0.06781144109597384,
          null
         ]
        },
        {
         "line": {
          "color": "Blue",
          "width": 1
         },
         "mode": "lines",
         "type": "scatter",
         "x": [
          -0.5880501532052904,
          -0.6175896744613898,
          null
         ],
         "y": [
          0.04970963428061751,
          0.021148997930401807,
          null
         ]
        },
        {
         "line": {
          "color": "Blue",
          "width": 1
         },
         "mode": "lines",
         "type": "scatter",
         "x": [
          -0.5880501532052904,
          -0.5353490931032268,
          null
         ],
         "y": [
          0.04970963428061751,
          0.06208257746872151,
          null
         ]
        },
        {
         "line": {
          "color": "Blue",
          "width": 1
         },
         "mode": "lines",
         "type": "scatter",
         "x": [
          0.04911065722684002,
          -0.44595844949309255,
          null
         ],
         "y": [
          -0.2769118335347219,
          0.21564492758586284,
          null
         ]
        },
        {
         "line": {
          "color": "Blue",
          "width": 1
         },
         "mode": "lines",
         "type": "scatter",
         "x": [
          0.04911065722684002,
          0.5431540994669339,
          null
         ],
         "y": [
          -0.2769118335347219,
          -0.7680043153550679,
          null
         ]
        },
        {
         "line": {
          "color": "Blue",
          "width": 1
         },
         "mode": "lines",
         "type": "scatter",
         "x": [
          0.04911065722684002,
          0.047976515713276574,
          null
         ],
         "y": [
          -0.2769118335347219,
          -0.3094974004854091,
          null
         ]
        },
        {
         "line": {
          "color": "Blue",
          "width": 1
         },
         "mode": "lines",
         "type": "scatter",
         "x": [
          0.04911065722684002,
          0.07731175888388413,
          null
         ],
         "y": [
          -0.2769118335347219,
          -0.2944560928774086,
          null
         ]
        },
        {
         "line": {
          "color": "Blue",
          "width": 1
         },
         "mode": "lines",
         "type": "scatter",
         "x": [
          -0.44595844949309255,
          -0.5029126718343728,
          null
         ],
         "y": [
          0.21564492758586284,
          0.2320197530553772,
          null
         ]
        },
        {
         "line": {
          "color": "Blue",
          "width": 1
         },
         "mode": "lines",
         "type": "scatter",
         "x": [
          -0.5029126718343728,
          -0.5942287273508917,
          null
         ],
         "y": [
          0.2320197530553772,
          0.2667241938454782,
          null
         ]
        },
        {
         "line": {
          "color": "Blue",
          "width": 1
         },
         "mode": "lines",
         "type": "scatter",
         "x": [
          -0.5942287273508917,
          -0.781610821315294,
          null
         ],
         "y": [
          0.2667241938454782,
          0.3406766899713077,
          null
         ]
        },
        {
         "line": {
          "color": "Blue",
          "width": 1
         },
         "mode": "lines",
         "type": "scatter",
         "x": [
          -0.5942287273508917,
          -0.4631799148741318,
          null
         ],
         "y": [
          0.2667241938454782,
          0.21242006156809692,
          null
         ]
        },
        {
         "line": {
          "color": "Blue",
          "width": 2
         },
         "mode": "lines",
         "type": "scatter",
         "x": [
          -0.6253885387742535,
          -0.6174161701205725,
          null
         ],
         "y": [
          0.050837847634827064,
          0.06781144109597384,
          null
         ]
        },
        {
         "line": {
          "color": "Blue",
          "width": 2
         },
         "mode": "lines",
         "type": "scatter",
         "x": [
          -0.6253885387742535,
          -0.5880501532052904,
          null
         ],
         "y": [
          0.050837847634827064,
          0.04970963428061751,
          null
         ]
        },
        {
         "line": {
          "color": "Blue",
          "width": 1
         },
         "mode": "lines",
         "type": "scatter",
         "x": [
          -0.6175896744613898,
          -0.672241757733102,
          null
         ],
         "y": [
          0.021148997930401807,
          0.038560743891465396,
          null
         ]
        },
        {
         "line": {
          "color": "Blue",
          "width": 1
         },
         "mode": "lines",
         "type": "scatter",
         "x": [
          -0.672241757733102,
          -0.6253885387742535,
          null
         ],
         "y": [
          0.038560743891465396,
          0.050837847634827064,
          null
         ]
        },
        {
         "line": {
          "color": "Blue",
          "width": 1
         },
         "mode": "lines",
         "type": "scatter",
         "x": [
          -0.4631799148741318,
          -0.5942287273508917,
          null
         ],
         "y": [
          0.21242006156809692,
          0.2667241938454782,
          null
         ]
        },
        {
         "line": {
          "color": "Blue",
          "width": 1
         },
         "mode": "lines",
         "type": "scatter",
         "x": [
          -0.5353490931032268,
          -0.6712583027072868,
          null
         ],
         "y": [
          0.06208257746872151,
          0.06292191673832061,
          null
         ]
        },
        {
         "line": {
          "color": "Blue",
          "width": 1
         },
         "mode": "lines",
         "type": "scatter",
         "x": [
          -0.6712583027072868,
          -0.6253885387742535,
          null
         ],
         "y": [
          0.06292191673832061,
          0.050837847634827064,
          null
         ]
        },
        {
         "line": {
          "color": "Blue",
          "width": 1
         },
         "mode": "lines",
         "type": "scatter",
         "x": [
          -0.0391303889196032,
          -0.09764693884838213,
          null
         ],
         "y": [
          0.48870928431681226,
          0.5016702533942407,
          null
         ]
        },
        {
         "line": {
          "color": "Blue",
          "width": 1
         },
         "mode": "lines",
         "type": "scatter",
         "x": [
          0.047976515713276574,
          0.04911065722684002,
          null
         ],
         "y": [
          -0.3094974004854091,
          -0.2769118335347219,
          null
         ]
        },
        {
         "line": {
          "color": "Blue",
          "width": 1
         },
         "mode": "lines",
         "type": "scatter",
         "x": [
          0.07731175888388413,
          0.04911065722684002,
          null
         ],
         "y": [
          -0.2944560928774086,
          -0.2769118335347219,
          null
         ]
        },
        {
         "line": {
          "color": "Blue",
          "width": 1
         },
         "mode": "lines",
         "type": "scatter",
         "x": [
          0.11118998287799486,
          0.1632109061317881,
          null
         ],
         "y": [
          0.18970145743801173,
          0.20093198256179218,
          null
         ]
        },
        {
         "line": {
          "color": "Blue",
          "width": 1
         },
         "mode": "lines",
         "type": "scatter",
         "x": [
          0.11118998287799486,
          0.08813704891148683,
          null
         ],
         "y": [
          0.18970145743801173,
          0.16971314685548167,
          null
         ]
        },
        {
         "line": {
          "color": "Blue",
          "width": 1
         },
         "mode": "lines",
         "type": "scatter",
         "x": [
          0.11118998287799486,
          0.038240818900413004,
          null
         ],
         "y": [
          0.18970145743801173,
          0.18144211209755204,
          null
         ]
        },
        {
         "line": {
          "color": "Blue",
          "width": 1
         },
         "mode": "lines",
         "type": "scatter",
         "x": [
          0.1632109061317881,
          0.11118998287799486,
          null
         ],
         "y": [
          0.20093198256179218,
          0.18970145743801173,
          null
         ]
        },
        {
         "line": {
          "color": "Blue",
          "width": 1
         },
         "mode": "lines",
         "type": "scatter",
         "x": [
          0.08813704891148683,
          0.038240818900413004,
          null
         ],
         "y": [
          0.16971314685548167,
          0.18144211209755204,
          null
         ]
        },
        {
         "line": {
          "color": "Blue",
          "width": 1
         },
         "mode": "lines",
         "type": "scatter",
         "x": [
          0.038240818900413004,
          0.11118998287799486,
          null
         ],
         "y": [
          0.18144211209755204,
          0.18970145743801173,
          null
         ]
        },
        {
         "line": {
          "color": "Blue",
          "width": 1
         },
         "mode": "lines",
         "type": "scatter",
         "x": [
          0.038240818900413004,
          -0.04908019149873204,
          null
         ],
         "y": [
          0.18144211209755204,
          0.16270756298709113,
          null
         ]
        },
        {
         "line": {
          "color": "Blue",
          "width": 1
         },
         "mode": "lines",
         "type": "scatter",
         "x": [
          -0.005175642876471283,
          -0.058013945507797975,
          null
         ],
         "y": [
          0.48633974473657615,
          0.529500915411918,
          null
         ]
        },
        {
         "line": {
          "color": "Blue",
          "width": 1
         },
         "mode": "lines",
         "type": "scatter",
         "x": [
          -0.058013945507797975,
          -0.09764693884838213,
          null
         ],
         "y": [
          0.529500915411918,
          0.5016702533942407,
          null
         ]
        },
        {
         "line": {
          "color": "Blue",
          "width": 1
         },
         "mode": "lines",
         "type": "scatter",
         "x": [
          -0.058013945507797975,
          -0.07162247529415025,
          null
         ],
         "y": [
          0.529500915411918,
          0.5355356238990059,
          null
         ]
        },
        {
         "line": {
          "color": "Blue",
          "width": 1
         },
         "mode": "lines",
         "type": "scatter",
         "x": [
          0.0013345273237045006,
          -0.058013945507797975,
          null
         ],
         "y": [
          0.5036142005204512,
          0.529500915411918,
          null
         ]
        },
        {
         "line": {
          "color": "Blue",
          "width": 1
         },
         "mode": "lines",
         "type": "scatter",
         "x": [
          -0.6826175407313329,
          -0.6725758453005127,
          null
         ],
         "y": [
          -0.3000476821508133,
          -0.28054697359233693,
          null
         ]
        },
        {
         "line": {
          "color": "Blue",
          "width": 1
         },
         "mode": "lines",
         "type": "scatter",
         "x": [
          -0.6725758453005127,
          -0.6826175407313329,
          null
         ],
         "y": [
          -0.28054697359233693,
          -0.3000476821508133,
          null
         ]
        },
        {
         "line": {
          "color": "Blue",
          "width": 1
         },
         "mode": "lines",
         "type": "scatter",
         "x": [
          -0.0196973465790689,
          -0.047189249181779025,
          null
         ],
         "y": [
          -0.4791678980738531,
          -0.5176547023660161,
          null
         ]
        },
        {
         "line": {
          "color": "Blue",
          "width": 1
         },
         "mode": "lines",
         "type": "scatter",
         "x": [
          -0.0196973465790689,
          0.009036278879675546,
          null
         ],
         "y": [
          -0.4791678980738531,
          -0.4143408423256052,
          null
         ]
        },
        {
         "line": {
          "color": "Blue",
          "width": 1
         },
         "mode": "lines",
         "type": "scatter",
         "x": [
          -0.0196973465790689,
          -0.01436477579971314,
          null
         ],
         "y": [
          -0.4791678980738531,
          -0.5161277306509644,
          null
         ]
        },
        {
         "line": {
          "color": "Blue",
          "width": 2
         },
         "mode": "lines",
         "type": "scatter",
         "x": [
          -0.047189249181779025,
          -0.0196973465790689,
          null
         ],
         "y": [
          -0.5176547023660161,
          -0.4791678980738531,
          null
         ]
        },
        {
         "line": {
          "color": "Blue",
          "width": 1
         },
         "mode": "lines",
         "type": "scatter",
         "x": [
          -0.8547724489824731,
          -0.8300373398510426,
          null
         ],
         "y": [
          -0.08213958073365835,
          -0.09556299526511743,
          null
         ]
        },
        {
         "line": {
          "color": "Blue",
          "width": 1
         },
         "mode": "lines",
         "type": "scatter",
         "x": [
          0.007940448702270796,
          -0.0196973465790689,
          null
         ],
         "y": [
          -0.5055481690527555,
          -0.4791678980738531,
          null
         ]
        },
        {
         "line": {
          "color": "Blue",
          "width": 1
         },
         "mode": "lines",
         "type": "scatter",
         "x": [
          -0.01436477579971314,
          -0.0196973465790689,
          null
         ],
         "y": [
          -0.5161277306509644,
          -0.4791678980738531,
          null
         ]
        },
        {
         "line": {
          "color": "Blue",
          "width": 1
         },
         "mode": "lines",
         "type": "scatter",
         "x": [
          -0.07439117854251275,
          -0.04908019149873204,
          null
         ],
         "y": [
          0.2059812629930976,
          0.16270756298709113,
          null
         ]
        },
        {
         "line": {
          "color": "Blue",
          "width": 1
         },
         "mode": "lines",
         "type": "scatter",
         "x": [
          0.6686298992432086,
          0.7902282418593893,
          null
         ],
         "y": [
          0.5100580399778469,
          0.6057585985112519,
          null
         ]
        },
        {
         "line": {
          "color": "Blue",
          "width": 1
         },
         "mode": "lines",
         "type": "scatter",
         "x": [
          0.6686298992432086,
          0.6389265773387081,
          null
         ],
         "y": [
          0.5100580399778469,
          0.4775876074344473,
          null
         ]
        },
        {
         "line": {
          "color": "Blue",
          "width": 1
         },
         "mode": "lines",
         "type": "scatter",
         "x": [
          0.06079221381861678,
          0.10635657477326475,
          null
         ],
         "y": [
          -0.639815906053597,
          -0.5806226381772889,
          null
         ]
        },
        {
         "line": {
          "color": "Blue",
          "width": 2
         },
         "mode": "lines",
         "type": "scatter",
         "x": [
          0.06079221381861678,
          0.058172783359155864,
          null
         ],
         "y": [
          -0.639815906053597,
          -0.6582622511391186,
          null
         ]
        },
        {
         "line": {
          "color": "Blue",
          "width": 1
         },
         "mode": "lines",
         "type": "scatter",
         "x": [
          0.06079221381861678,
          0.005960935036350367,
          null
         ],
         "y": [
          -0.639815906053597,
          -0.6787388757929279,
          null
         ]
        },
        {
         "line": {
          "color": "Blue",
          "width": 1
         },
         "mode": "lines",
         "type": "scatter",
         "x": [
          0.06079221381861678,
          0.07180618619830854,
          null
         ],
         "y": [
          -0.639815906053597,
          -0.6268916273796611,
          null
         ]
        },
        {
         "line": {
          "color": "Blue",
          "width": 1
         },
         "mode": "lines",
         "type": "scatter",
         "x": [
          0.10635657477326475,
          0.07180618619830854,
          null
         ],
         "y": [
          -0.5806226381772889,
          -0.6268916273796611,
          null
         ]
        },
        {
         "line": {
          "color": "Blue",
          "width": 1
         },
         "mode": "lines",
         "type": "scatter",
         "x": [
          0.07180618619830854,
          0.06079221381861678,
          null
         ],
         "y": [
          -0.6268916273796611,
          -0.639815906053597,
          null
         ]
        },
        {
         "line": {
          "color": "Blue",
          "width": 1
         },
         "mode": "lines",
         "type": "scatter",
         "x": [
          0.07180618619830854,
          0.045506661803517465,
          null
         ],
         "y": [
          -0.6268916273796611,
          -0.6256271708688853,
          null
         ]
        },
        {
         "line": {
          "color": "Blue",
          "width": 2
         },
         "mode": "lines",
         "type": "scatter",
         "x": [
          0.07180618619830854,
          0.058172783359155864,
          null
         ],
         "y": [
          -0.6268916273796611,
          -0.6582622511391186,
          null
         ]
        },
        {
         "line": {
          "color": "Blue",
          "width": 1
         },
         "mode": "lines",
         "type": "scatter",
         "x": [
          0.008682001596456069,
          -0.003069014601904993,
          null
         ],
         "y": [
          -0.0571081168919628,
          -0.00950799094622131,
          null
         ]
        },
        {
         "line": {
          "color": "Blue",
          "width": 1
         },
         "mode": "lines",
         "type": "scatter",
         "x": [
          0.008682001596456069,
          -0.011437160317893373,
          null
         ],
         "y": [
          -0.0571081168919628,
          -0.08460311634860279,
          null
         ]
        },
        {
         "line": {
          "color": "Blue",
          "width": 1
         },
         "mode": "lines",
         "type": "scatter",
         "x": [
          -0.048450155547228466,
          -0.04908019149873204,
          null
         ],
         "y": [
          0.20992666428836335,
          0.16270756298709113,
          null
         ]
        },
        {
         "line": {
          "color": "Blue",
          "width": 1
         },
         "mode": "lines",
         "type": "scatter",
         "x": [
          -0.16398925682830928,
          -0.1298503935055875,
          null
         ],
         "y": [
          0.04864412631018406,
          0.05653678811349668,
          null
         ]
        },
        {
         "line": {
          "color": "Blue",
          "width": 1
         },
         "mode": "lines",
         "type": "scatter",
         "x": [
          -0.1298503935055875,
          -0.22663810185730904,
          null
         ],
         "y": [
          0.05653678811349668,
          -0.017406900556508342,
          null
         ]
        },
        {
         "line": {
          "color": "Blue",
          "width": 1
         },
         "mode": "lines",
         "type": "scatter",
         "x": [
          -0.1298503935055875,
          -0.03289051250433525,
          null
         ],
         "y": [
          0.05653678811349668,
          0.135329755244657,
          null
         ]
        },
        {
         "line": {
          "color": "Blue",
          "width": 1
         },
         "mode": "lines",
         "type": "scatter",
         "x": [
          -0.22663810185730904,
          -0.26207990433106443,
          null
         ],
         "y": [
          -0.017406900556508342,
          -0.04801475716732559,
          null
         ]
        },
        {
         "line": {
          "color": "Blue",
          "width": 1
         },
         "mode": "lines",
         "type": "scatter",
         "x": [
          -0.22663810185730904,
          -0.18092540164173412,
          null
         ],
         "y": [
          -0.017406900556508342,
          0.028465092116590124,
          null
         ]
        },
        {
         "line": {
          "color": "Blue",
          "width": 1
         },
         "mode": "lines",
         "type": "scatter",
         "x": [
          -0.26207990433106443,
          -0.22663810185730904,
          null
         ],
         "y": [
          -0.04801475716732559,
          -0.017406900556508342,
          null
         ]
        },
        {
         "line": {
          "color": "Blue",
          "width": 1
         },
         "mode": "lines",
         "type": "scatter",
         "x": [
          -0.18092540164173412,
          -0.22230151468661424,
          null
         ],
         "y": [
          0.028465092116590124,
          0.016760073656244,
          null
         ]
        },
        {
         "line": {
          "color": "Blue",
          "width": 1
         },
         "mode": "lines",
         "type": "scatter",
         "x": [
          -0.18092540164173412,
          -0.1298503935055875,
          null
         ],
         "y": [
          0.028465092116590124,
          0.05653678811349668,
          null
         ]
        },
        {
         "line": {
          "color": "Blue",
          "width": 1
         },
         "mode": "lines",
         "type": "scatter",
         "x": [
          -0.22230151468661424,
          -0.18092540164173412,
          null
         ],
         "y": [
          0.016760073656244,
          0.028465092116590124,
          null
         ]
        },
        {
         "line": {
          "color": "Blue",
          "width": 1
         },
         "mode": "lines",
         "type": "scatter",
         "x": [
          -0.03289051250433525,
          -0.04908019149873204,
          null
         ],
         "y": [
          0.135329755244657,
          0.16270756298709113,
          null
         ]
        },
        {
         "line": {
          "color": "Blue",
          "width": 1
         },
         "mode": "lines",
         "type": "scatter",
         "x": [
          -0.011437160317893373,
          -0.023439027961164614,
          null
         ],
         "y": [
          -0.08460311634860279,
          -0.03952335854165663,
          null
         ]
        },
        {
         "line": {
          "color": "Blue",
          "width": 1
         },
         "mode": "lines",
         "type": "scatter",
         "x": [
          -0.6292199772858222,
          -0.6550621863962435,
          null
         ],
         "y": [
          0.4738087578584034,
          0.45032184047086843,
          null
         ]
        },
        {
         "line": {
          "color": "Blue",
          "width": 2
         },
         "mode": "lines",
         "type": "scatter",
         "x": [
          -0.6292199772858222,
          -0.6033728872355688,
          null
         ],
         "y": [
          0.4738087578584034,
          0.4876500898930741,
          null
         ]
        },
        {
         "line": {
          "color": "Blue",
          "width": 1
         },
         "mode": "lines",
         "type": "scatter",
         "x": [
          -0.6550621863962435,
          -0.6292199772858222,
          null
         ],
         "y": [
          0.45032184047086843,
          0.4738087578584034,
          null
         ]
        },
        {
         "line": {
          "color": "Blue",
          "width": 2
         },
         "mode": "lines",
         "type": "scatter",
         "x": [
          -0.6033728872355688,
          -0.6292199772858222,
          null
         ],
         "y": [
          0.4876500898930741,
          0.4738087578584034,
          null
         ]
        },
        {
         "line": {
          "color": "Blue",
          "width": 1
         },
         "mode": "lines",
         "type": "scatter",
         "x": [
          0.058172783359155864,
          0.10128521115270984,
          null
         ],
         "y": [
          -0.6582622511391186,
          -0.6353950789067436,
          null
         ]
        },
        {
         "line": {
          "color": "Blue",
          "width": 1
         },
         "mode": "lines",
         "type": "scatter",
         "x": [
          0.058172783359155864,
          0.005960935036350367,
          null
         ],
         "y": [
          -0.6582622511391186,
          -0.6787388757929279,
          null
         ]
        },
        {
         "line": {
          "color": "Blue",
          "width": 1
         },
         "mode": "lines",
         "type": "scatter",
         "x": [
          0.058172783359155864,
          0.06079221381861678,
          null
         ],
         "y": [
          -0.6582622511391186,
          -0.639815906053597,
          null
         ]
        },
        {
         "line": {
          "color": "Blue",
          "width": 2
         },
         "mode": "lines",
         "type": "scatter",
         "x": [
          0.058172783359155864,
          0.07180618619830854,
          null
         ],
         "y": [
          -0.6582622511391186,
          -0.6268916273796611,
          null
         ]
        },
        {
         "line": {
          "color": "Blue",
          "width": 1
         },
         "mode": "lines",
         "type": "scatter",
         "x": [
          -0.027005549617427124,
          0.009036278879675546,
          null
         ],
         "y": [
          -0.43994226235311,
          -0.4143408423256052,
          null
         ]
        },
        {
         "line": {
          "color": "Blue",
          "width": 1
         },
         "mode": "lines",
         "type": "scatter",
         "x": [
          -0.6149073183505702,
          -0.7945653919862568,
          null
         ],
         "y": [
          -0.1521805558209757,
          -0.19107323285395536,
          null
         ]
        },
        {
         "line": {
          "color": "Blue",
          "width": 1
         },
         "mode": "lines",
         "type": "scatter",
         "x": [
          -0.7945653919862568,
          -0.8498925337270594,
          null
         ],
         "y": [
          -0.19107323285395536,
          -0.20769410125638882,
          null
         ]
        },
        {
         "line": {
          "color": "Blue",
          "width": 1
         },
         "mode": "lines",
         "type": "scatter",
         "x": [
          0.6389265773387081,
          0.6686298992432086,
          null
         ],
         "y": [
          0.4775876074344473,
          0.5100580399778469,
          null
         ]
        },
        {
         "line": {
          "color": "Blue",
          "width": 1
         },
         "mode": "lines",
         "type": "scatter",
         "x": [
          0.10128521115270984,
          0.058172783359155864,
          null
         ],
         "y": [
          -0.6353950789067436,
          -0.6582622511391186,
          null
         ]
        },
        {
         "line": {
          "color": "Blue",
          "width": 1
         },
         "mode": "lines",
         "type": "scatter",
         "x": [
          0.005960935036350367,
          0.009036278879675546,
          null
         ],
         "y": [
          -0.6787388757929279,
          -0.4143408423256052,
          null
         ]
        },
        {
         "line": {
          "color": "Blue",
          "width": 1
         },
         "mode": "lines",
         "type": "scatter",
         "x": [
          0.005960935036350367,
          0.005050394732645239,
          null
         ],
         "y": [
          -0.6787388757929279,
          -0.9403998614087599,
          null
         ]
        },
        {
         "line": {
          "color": "Blue",
          "width": 1
         },
         "mode": "lines",
         "type": "scatter",
         "x": [
          0.045506661803517465,
          0.07180618619830854,
          null
         ],
         "y": [
          -0.6256271708688853,
          -0.6268916273796611,
          null
         ]
        },
        {
         "line": {
          "color": "Blue",
          "width": 1
         },
         "mode": "lines",
         "type": "scatter",
         "x": [
          -0.05370145088919802,
          -0.023439027961164614,
          null
         ],
         "y": [
          -0.0748227847424707,
          -0.03952335854165663,
          null
         ]
        },
        {
         "line": {
          "color": "Blue",
          "width": 1
         },
         "mode": "lines",
         "type": "scatter",
         "x": [
          -0.06095413137793801,
          -0.023439027961164614,
          null
         ],
         "y": [
          -0.051207150316049235,
          -0.03952335854165663,
          null
         ]
        },
        {
         "line": {
          "color": "Blue",
          "width": 1
         },
         "mode": "lines",
         "type": "scatter",
         "x": [
          -0.11951033763527903,
          -0.09764693884838213,
          null
         ],
         "y": [
          0.45330036455154243,
          0.5016702533942407,
          null
         ]
        },
        {
         "line": {
          "color": "Blue",
          "width": 1
         },
         "mode": "lines",
         "type": "scatter",
         "x": [
          0.0807022355929126,
          0.035691855751373965,
          null
         ],
         "y": [
          0.18348215583507624,
          0.16757270010641287,
          null
         ]
        },
        {
         "line": {
          "color": "Blue",
          "width": 1
         },
         "mode": "lines",
         "type": "scatter",
         "x": [
          -0.02837670642774834,
          -0.04908019149873204,
          null
         ],
         "y": [
          0.20451485621911222,
          0.16270756298709113,
          null
         ]
        }
       ],
       "layout": {
        "hovermode": "closest",
        "showlegend": false,
        "template": {
         "data": {
          "bar": [
           {
            "error_x": {
             "color": "#2a3f5f"
            },
            "error_y": {
             "color": "#2a3f5f"
            },
            "marker": {
             "line": {
              "color": "#E5ECF6",
              "width": 0.5
             }
            },
            "type": "bar"
           }
          ],
          "barpolar": [
           {
            "marker": {
             "line": {
              "color": "#E5ECF6",
              "width": 0.5
             }
            },
            "type": "barpolar"
           }
          ],
          "carpet": [
           {
            "aaxis": {
             "endlinecolor": "#2a3f5f",
             "gridcolor": "white",
             "linecolor": "white",
             "minorgridcolor": "white",
             "startlinecolor": "#2a3f5f"
            },
            "baxis": {
             "endlinecolor": "#2a3f5f",
             "gridcolor": "white",
             "linecolor": "white",
             "minorgridcolor": "white",
             "startlinecolor": "#2a3f5f"
            },
            "type": "carpet"
           }
          ],
          "choropleth": [
           {
            "colorbar": {
             "outlinewidth": 0,
             "ticks": ""
            },
            "type": "choropleth"
           }
          ],
          "contour": [
           {
            "colorbar": {
             "outlinewidth": 0,
             "ticks": ""
            },
            "colorscale": [
             [
              0,
              "#0d0887"
             ],
             [
              0.1111111111111111,
              "#46039f"
             ],
             [
              0.2222222222222222,
              "#7201a8"
             ],
             [
              0.3333333333333333,
              "#9c179e"
             ],
             [
              0.4444444444444444,
              "#bd3786"
             ],
             [
              0.5555555555555556,
              "#d8576b"
             ],
             [
              0.6666666666666666,
              "#ed7953"
             ],
             [
              0.7777777777777778,
              "#fb9f3a"
             ],
             [
              0.8888888888888888,
              "#fdca26"
             ],
             [
              1,
              "#f0f921"
             ]
            ],
            "type": "contour"
           }
          ],
          "contourcarpet": [
           {
            "colorbar": {
             "outlinewidth": 0,
             "ticks": ""
            },
            "type": "contourcarpet"
           }
          ],
          "heatmap": [
           {
            "colorbar": {
             "outlinewidth": 0,
             "ticks": ""
            },
            "colorscale": [
             [
              0,
              "#0d0887"
             ],
             [
              0.1111111111111111,
              "#46039f"
             ],
             [
              0.2222222222222222,
              "#7201a8"
             ],
             [
              0.3333333333333333,
              "#9c179e"
             ],
             [
              0.4444444444444444,
              "#bd3786"
             ],
             [
              0.5555555555555556,
              "#d8576b"
             ],
             [
              0.6666666666666666,
              "#ed7953"
             ],
             [
              0.7777777777777778,
              "#fb9f3a"
             ],
             [
              0.8888888888888888,
              "#fdca26"
             ],
             [
              1,
              "#f0f921"
             ]
            ],
            "type": "heatmap"
           }
          ],
          "heatmapgl": [
           {
            "colorbar": {
             "outlinewidth": 0,
             "ticks": ""
            },
            "colorscale": [
             [
              0,
              "#0d0887"
             ],
             [
              0.1111111111111111,
              "#46039f"
             ],
             [
              0.2222222222222222,
              "#7201a8"
             ],
             [
              0.3333333333333333,
              "#9c179e"
             ],
             [
              0.4444444444444444,
              "#bd3786"
             ],
             [
              0.5555555555555556,
              "#d8576b"
             ],
             [
              0.6666666666666666,
              "#ed7953"
             ],
             [
              0.7777777777777778,
              "#fb9f3a"
             ],
             [
              0.8888888888888888,
              "#fdca26"
             ],
             [
              1,
              "#f0f921"
             ]
            ],
            "type": "heatmapgl"
           }
          ],
          "histogram": [
           {
            "marker": {
             "colorbar": {
              "outlinewidth": 0,
              "ticks": ""
             }
            },
            "type": "histogram"
           }
          ],
          "histogram2d": [
           {
            "colorbar": {
             "outlinewidth": 0,
             "ticks": ""
            },
            "colorscale": [
             [
              0,
              "#0d0887"
             ],
             [
              0.1111111111111111,
              "#46039f"
             ],
             [
              0.2222222222222222,
              "#7201a8"
             ],
             [
              0.3333333333333333,
              "#9c179e"
             ],
             [
              0.4444444444444444,
              "#bd3786"
             ],
             [
              0.5555555555555556,
              "#d8576b"
             ],
             [
              0.6666666666666666,
              "#ed7953"
             ],
             [
              0.7777777777777778,
              "#fb9f3a"
             ],
             [
              0.8888888888888888,
              "#fdca26"
             ],
             [
              1,
              "#f0f921"
             ]
            ],
            "type": "histogram2d"
           }
          ],
          "histogram2dcontour": [
           {
            "colorbar": {
             "outlinewidth": 0,
             "ticks": ""
            },
            "colorscale": [
             [
              0,
              "#0d0887"
             ],
             [
              0.1111111111111111,
              "#46039f"
             ],
             [
              0.2222222222222222,
              "#7201a8"
             ],
             [
              0.3333333333333333,
              "#9c179e"
             ],
             [
              0.4444444444444444,
              "#bd3786"
             ],
             [
              0.5555555555555556,
              "#d8576b"
             ],
             [
              0.6666666666666666,
              "#ed7953"
             ],
             [
              0.7777777777777778,
              "#fb9f3a"
             ],
             [
              0.8888888888888888,
              "#fdca26"
             ],
             [
              1,
              "#f0f921"
             ]
            ],
            "type": "histogram2dcontour"
           }
          ],
          "mesh3d": [
           {
            "colorbar": {
             "outlinewidth": 0,
             "ticks": ""
            },
            "type": "mesh3d"
           }
          ],
          "parcoords": [
           {
            "line": {
             "colorbar": {
              "outlinewidth": 0,
              "ticks": ""
             }
            },
            "type": "parcoords"
           }
          ],
          "pie": [
           {
            "automargin": true,
            "type": "pie"
           }
          ],
          "scatter": [
           {
            "marker": {
             "colorbar": {
              "outlinewidth": 0,
              "ticks": ""
             }
            },
            "type": "scatter"
           }
          ],
          "scatter3d": [
           {
            "line": {
             "colorbar": {
              "outlinewidth": 0,
              "ticks": ""
             }
            },
            "marker": {
             "colorbar": {
              "outlinewidth": 0,
              "ticks": ""
             }
            },
            "type": "scatter3d"
           }
          ],
          "scattercarpet": [
           {
            "marker": {
             "colorbar": {
              "outlinewidth": 0,
              "ticks": ""
             }
            },
            "type": "scattercarpet"
           }
          ],
          "scattergeo": [
           {
            "marker": {
             "colorbar": {
              "outlinewidth": 0,
              "ticks": ""
             }
            },
            "type": "scattergeo"
           }
          ],
          "scattergl": [
           {
            "marker": {
             "colorbar": {
              "outlinewidth": 0,
              "ticks": ""
             }
            },
            "type": "scattergl"
           }
          ],
          "scattermapbox": [
           {
            "marker": {
             "colorbar": {
              "outlinewidth": 0,
              "ticks": ""
             }
            },
            "type": "scattermapbox"
           }
          ],
          "scatterpolar": [
           {
            "marker": {
             "colorbar": {
              "outlinewidth": 0,
              "ticks": ""
             }
            },
            "type": "scatterpolar"
           }
          ],
          "scatterpolargl": [
           {
            "marker": {
             "colorbar": {
              "outlinewidth": 0,
              "ticks": ""
             }
            },
            "type": "scatterpolargl"
           }
          ],
          "scatterternary": [
           {
            "marker": {
             "colorbar": {
              "outlinewidth": 0,
              "ticks": ""
             }
            },
            "type": "scatterternary"
           }
          ],
          "surface": [
           {
            "colorbar": {
             "outlinewidth": 0,
             "ticks": ""
            },
            "colorscale": [
             [
              0,
              "#0d0887"
             ],
             [
              0.1111111111111111,
              "#46039f"
             ],
             [
              0.2222222222222222,
              "#7201a8"
             ],
             [
              0.3333333333333333,
              "#9c179e"
             ],
             [
              0.4444444444444444,
              "#bd3786"
             ],
             [
              0.5555555555555556,
              "#d8576b"
             ],
             [
              0.6666666666666666,
              "#ed7953"
             ],
             [
              0.7777777777777778,
              "#fb9f3a"
             ],
             [
              0.8888888888888888,
              "#fdca26"
             ],
             [
              1,
              "#f0f921"
             ]
            ],
            "type": "surface"
           }
          ],
          "table": [
           {
            "cells": {
             "fill": {
              "color": "#EBF0F8"
             },
             "line": {
              "color": "white"
             }
            },
            "header": {
             "fill": {
              "color": "#C8D4E3"
             },
             "line": {
              "color": "white"
             }
            },
            "type": "table"
           }
          ]
         },
         "layout": {
          "annotationdefaults": {
           "arrowcolor": "#2a3f5f",
           "arrowhead": 0,
           "arrowwidth": 1
          },
          "coloraxis": {
           "colorbar": {
            "outlinewidth": 0,
            "ticks": ""
           }
          },
          "colorscale": {
           "diverging": [
            [
             0,
             "#8e0152"
            ],
            [
             0.1,
             "#c51b7d"
            ],
            [
             0.2,
             "#de77ae"
            ],
            [
             0.3,
             "#f1b6da"
            ],
            [
             0.4,
             "#fde0ef"
            ],
            [
             0.5,
             "#f7f7f7"
            ],
            [
             0.6,
             "#e6f5d0"
            ],
            [
             0.7,
             "#b8e186"
            ],
            [
             0.8,
             "#7fbc41"
            ],
            [
             0.9,
             "#4d9221"
            ],
            [
             1,
             "#276419"
            ]
           ],
           "sequential": [
            [
             0,
             "#0d0887"
            ],
            [
             0.1111111111111111,
             "#46039f"
            ],
            [
             0.2222222222222222,
             "#7201a8"
            ],
            [
             0.3333333333333333,
             "#9c179e"
            ],
            [
             0.4444444444444444,
             "#bd3786"
            ],
            [
             0.5555555555555556,
             "#d8576b"
            ],
            [
             0.6666666666666666,
             "#ed7953"
            ],
            [
             0.7777777777777778,
             "#fb9f3a"
            ],
            [
             0.8888888888888888,
             "#fdca26"
            ],
            [
             1,
             "#f0f921"
            ]
           ],
           "sequentialminus": [
            [
             0,
             "#0d0887"
            ],
            [
             0.1111111111111111,
             "#46039f"
            ],
            [
             0.2222222222222222,
             "#7201a8"
            ],
            [
             0.3333333333333333,
             "#9c179e"
            ],
            [
             0.4444444444444444,
             "#bd3786"
            ],
            [
             0.5555555555555556,
             "#d8576b"
            ],
            [
             0.6666666666666666,
             "#ed7953"
            ],
            [
             0.7777777777777778,
             "#fb9f3a"
            ],
            [
             0.8888888888888888,
             "#fdca26"
            ],
            [
             1,
             "#f0f921"
            ]
           ]
          },
          "colorway": [
           "#636efa",
           "#EF553B",
           "#00cc96",
           "#ab63fa",
           "#FFA15A",
           "#19d3f3",
           "#FF6692",
           "#B6E880",
           "#FF97FF",
           "#FECB52"
          ],
          "font": {
           "color": "#2a3f5f"
          },
          "geo": {
           "bgcolor": "white",
           "lakecolor": "white",
           "landcolor": "#E5ECF6",
           "showlakes": true,
           "showland": true,
           "subunitcolor": "white"
          },
          "hoverlabel": {
           "align": "left"
          },
          "hovermode": "closest",
          "mapbox": {
           "style": "light"
          },
          "paper_bgcolor": "white",
          "plot_bgcolor": "#E5ECF6",
          "polar": {
           "angularaxis": {
            "gridcolor": "white",
            "linecolor": "white",
            "ticks": ""
           },
           "bgcolor": "#E5ECF6",
           "radialaxis": {
            "gridcolor": "white",
            "linecolor": "white",
            "ticks": ""
           }
          },
          "scene": {
           "xaxis": {
            "backgroundcolor": "#E5ECF6",
            "gridcolor": "white",
            "gridwidth": 2,
            "linecolor": "white",
            "showbackground": true,
            "ticks": "",
            "zerolinecolor": "white"
           },
           "yaxis": {
            "backgroundcolor": "#E5ECF6",
            "gridcolor": "white",
            "gridwidth": 2,
            "linecolor": "white",
            "showbackground": true,
            "ticks": "",
            "zerolinecolor": "white"
           },
           "zaxis": {
            "backgroundcolor": "#E5ECF6",
            "gridcolor": "white",
            "gridwidth": 2,
            "linecolor": "white",
            "showbackground": true,
            "ticks": "",
            "zerolinecolor": "white"
           }
          },
          "shapedefaults": {
           "line": {
            "color": "#2a3f5f"
           }
          },
          "ternary": {
           "aaxis": {
            "gridcolor": "white",
            "linecolor": "white",
            "ticks": ""
           },
           "baxis": {
            "gridcolor": "white",
            "linecolor": "white",
            "ticks": ""
           },
           "bgcolor": "#E5ECF6",
           "caxis": {
            "gridcolor": "white",
            "linecolor": "white",
            "ticks": ""
           }
          },
          "title": {
           "x": 0.05
          },
          "xaxis": {
           "automargin": true,
           "gridcolor": "white",
           "linecolor": "white",
           "ticks": "",
           "title": {
            "standoff": 15
           },
           "zerolinecolor": "white",
           "zerolinewidth": 2
          },
          "yaxis": {
           "automargin": true,
           "gridcolor": "white",
           "linecolor": "white",
           "ticks": "",
           "title": {
            "standoff": 15
           },
           "zerolinecolor": "white",
           "zerolinewidth": 2
          }
         }
        },
        "title": {
         "text": "Network of Trips"
        }
       }
      },
      "text/html": [
       "<div>\n",
       "        \n",
       "        \n",
       "            <div id=\"68e6b5bc-718f-44f6-a67c-0ebcf52d5814\" class=\"plotly-graph-div\" style=\"height:525px; width:100%;\"></div>\n",
       "            <script type=\"text/javascript\">\n",
       "                require([\"plotly\"], function(Plotly) {\n",
       "                    window.PLOTLYENV=window.PLOTLYENV || {};\n",
       "                    \n",
       "                if (document.getElementById(\"68e6b5bc-718f-44f6-a67c-0ebcf52d5814\")) {\n",
       "                    Plotly.newPlot(\n",
       "                        '68e6b5bc-718f-44f6-a67c-0ebcf52d5814',\n",
       "                        [{\"hoverinfo\": \"text\", \"hovertext\": [\"Fort Pierce\", \"West Palm Beach\", \"Palm Beach\", \"Cary\", \"Morrisville\", \"Jamaica\", \"New York\", \"Queens\", \"Elmhurst\", \"Midtown\", \"East Harlem\", \"NoMad\", \"Flatiron District\", \"Midtown East\", \"Hudson Square\", \"Lower Manhattan\", \"Hell's Kitchen\", \"Queens County\", \"Downtown\", \"Gulfton\", \"Eagan Park\", \"Jamestown Court\", \"Durham\", \"Farmington Woods\", \"Whitebridge\", \"Lake Wellingborough\", \"Raleigh\", \"Fayetteville Street\", \"Umstead\", \"Hazelwood\", \"Westpark Place\", \"Fairmont\", \"Meredith Townes\", \"Leesville Hollow\", \"Apex\", \"Chapel Hill\", \"Northwoods\", \"Williamsburg Manor\", \"Macgregor Downs\", \"Edgehill Farms\", \"Tanglewood\", \"Preston\", \"Eastgate\", \"Walnut Terrace\", \"East Elmhurst\", \"Jackson Heights\", \"Midtown West\", \"Long Island City\", \"Heritage Pines\", \"Waverly Place\", \"Wayne Ridge\", \"Depot Historic District\", \"East Austin\", \"West University\", \"South Congress\", \"Arts District\", \"The Drag\", \"Congress Ave District\", \"Red River District\", \"Convention Center District\", \"North Austin\", \"Georgian Acres\", \"Coxville\", \"Austin\", \"Katy\", \"Houston\", \"Alief\", \"Sharpstown\", \"Sugar Land\", \"Galveston\", \"Port Bolivar\", \"Washington Avenue\", \"Briar Meadow\", \"Greater Greenspoint\", \"Latta\", \"Jacksonville\", \"Kissimmee\", \"Couples Glen\", \"Isles of Buena Vista\", \"Orlando\", \"Vista East\", \"Sand Lake Commons\", \"Sky Lake\", \"Daytona Beach\", \"Ridgeland\", \"Florence\", \"Meredith\", \"Cedar Hill\", \"Holly Springs\", \"Harden Place\", \"Burtrose\", \"Parkway\", \"Mcvan\", \"Capitol One\", \"University District\", \"Seattle\", \"Redmond\", \"Bellevue\", \"San Francisco\", \"Palo Alto\", \"Sunnyvale\", \"Newark\", \"Menlo Park\", \"Old City\", \"Parkway Museums\", \"Hog Island\", \"Savon Height\", \"Kildaire Farms\", \"Kilarney Woods\", \"Townes at Everett Crossing\", \"Chessington\", \"Huntington Woods\", \"Weston\", \"Seaport\", \"Gramercy-Flatiron\", \"Medical Centre\", \"Tudor City\", \"Rose Hill\", \"Soho\", \"Tribeca\", \"Financial District\", \"Kips Bay\", \"Oakland\", \"Emeryville\", \"Berkeley\", \"Unknown Location\", \"Bay Farm Island\", \"Kenner\", \"New Orleans\", \"CBD\", \"Lower Garden District\", \"Lakeview\", \"Storyville\", \"Faubourg Marigny\", \"Metairie\", \"Bywater\", \"Chalmette\", \"Arabi\", \"Marigny\", \"Covington\", \"Mandeville\", \"Summerwinds\", \"Pontchartrain Beach\", \"St Thomas\", \"Banner Elk\", \"Elk Park\", \"Newland\", \"Boone\", \"Stonewater\", \"Lexington Park at Amberly\", \"Arlington Park at Amberly\", \"Arlington\", \"Washington\", \"Kalorama Triangle\", \"K Street\", \"West End\", \"Northwest Rectangle\", \"Connecticut Avenue\", \"Columbia Heights\", \"Wake Forest\", \"SOMISSPO\", \"French Quarter\", \"West Berkeley\", \"North Berkeley Hills\", \"Southside\", \"San Jose\", \"Eagle Rock\", \"Winston Salem\", \"Asheville\", \"Topton\", \"Hayesville\", \"Bryson City\", \"Almond\", \"Mebane\", \"Santa Clara\", \"Agnew\", \"Cory\", \"Renaissance\", \"Central\", \"NOMA\", \"Sunnyside\", \"Ingleside\", \"Potrero Flats\", \"Tenderloin\", \"College Avenue\", \"South\", \"Southwest Berkeley\", \"South Berkeley\", \"Mountain View\", \"El Cerrito\", \"Krendle Woods\", \"Wake Co.\", \"Fuquay-Varina\"], \"marker\": {\"color\": [1, 1, 0, 12, 3, 1, 4, 0, 1, 9, 1, 0, 1, 1, 2, 1, 1, 0, 8, 1, 1, 0, 3, 2, 21, 1, 2, 3, 0, 3, 2, 1, 2, 0, 3, 2, 3, 0, 0, 3, 3, 2, 1, 0, 2, 1, 0, 1, 2, 2, 1, 0, 1, 2, 3, 0, 4, 1, 1, 1, 1, 1, 1, 1, 1, 2, 0, 2, 1, 2, 1, 1, 1, 0, 1, 2, 2, 2, 0, 1, 0, 1, 1, 1, 1, 1, 1, 0, 1, 0, 1, 1, 1, 2, 1, 1, 1, 1, 4, 2, 1, 2, 3, 2, 0, 0, 3, 0, 2, 1, 1, 1, 0, 1, 0, 1, 0, 1, 1, 1, 1, 0, 4, 3, 7, 1, 0, 2, 4, 4, 1, 1, 2, 0, 2, 0, 1, 1, 1, 1, 1, 1, 1, 1, 3, 1, 1, 2, 1, 2, 1, 1, 1, 3, 1, 1, 0, 1, 1, 1, 2, 0, 4, 1, 3, 2, 1, 1, 2, 2, 1, 2, 1, 1, 1, 2, 1, 1, 4, 1, 1, 1, 0, 1, 1, 2, 0, 1, 1, 1, 1, 1, 1], \"colorbar\": {\"thickness\": 10, \"title\": {\"side\": \"right\", \"text\": \"No. of unique locations travelled to or from\"}, \"xanchor\": \"left\"}, \"colorscale\": [[0.0, \"rgb(165,0,38)\"], [0.1, \"rgb(215,48,39)\"], [0.2, \"rgb(244,109,67)\"], [0.3, \"rgb(253,174,97)\"], [0.4, \"rgb(254,224,144)\"], [0.5, \"rgb(255,255,191)\"], [0.6, \"rgb(224,243,248)\"], [0.7, \"rgb(171,217,233)\"], [0.8, \"rgb(116,173,209)\"], [0.9, \"rgb(69,117,180)\"], [1.0, \"rgb(49,54,149)\"]], \"reversescale\": true, \"showscale\": true, \"size\": 5}, \"mode\": \"markers\", \"type\": \"scatter\", \"x\": [0.08843740576110388, 0.07059102333854854, 0.08329379624894741, -0.04908019149873204, 0.035691855751373965, 0.17080575425886763, 0.13497842458488654, -0.6394649374936129, 0.15015548063234674, 0.30328686285500395, 0.9094497709707767, 0.9380696302137653, 0.34946367513741494, 0.3327540168450211, 0.37139980468958833, 0.4134147573982766, 0.31514246709436927, 0.9033614240293831, 0.009036278879675546, -0.022890378890984022, 0.8123979248436138, 0.7842726693969918, -0.01682486178410167, -0.06904155988687091, -0.09764693884838213, -0.14069177639275085, 0.002741345740868338, 0.079096240372851, -0.26190309058434397, -0.09265140478962157, -0.07162247529415025, 0.19502359240396377, 0.15797656165332316, -0.6477636896413727, -0.0670395828736914, 0.0024059578856886234, -0.07779334866803736, -0.8124833418688296, 0.671320441325179, -0.07048074000654607, -0.0929944574155258, -0.053246629625470054, 0.8678439890295059, 0.9999999999999999, 0.1577437251503278, 0.1736085731566625, -0.6636051016320922, 0.2077244530915794, -0.053597705367711405, 0.28734454356727346, -0.08897810817095779, 0.3507866032415688, 0.19415901671656216, 0.1555540594970832, 0.3054939897433031, 0.4301583900773935, 0.1691810176952496, 0.002973106317656575, 0.021386745904991424, 0.1882751584428681, 0.26542564106246413, 0.21850172630124284, 0.2150177106665685, 0.6872875038694599, 0.7687847408517561, 0.8531935554376425, 0.6348865288907681, 0.34061786617404016, 0.8199944000191581, 0.8887867264248402, 0.8735923397033063, 0.3562683737158679, 0.34506900925859535, 0.8399694446973339, -0.21285944404480917, -0.18401033401868663, -0.2672644503890617, -0.2833122385236057, -0.12190384764613997, -0.29758252031611687, -0.4436690251928061, 0.21635135671837918, 0.23835910397184876, -0.22414798181503548, -0.09808957619229611, -0.06488217540218268, 0.8454524425044823, 0.9303831255348312, -0.08719302042766269, 0.9635866137462868, -0.10342198349584059, -0.1254032687063291, 0.5210351419586476, 0.5420995362377978, 0.5620118644519233, -0.517348951520694, -0.5391931740407496, -0.5163928632215928, -0.02459932190412652, -0.07308850100976673, -0.046418000668419286, -0.035301315717353135, -0.0553252058851067, -0.07913157570487554, -0.40340584233711513, 0.24575990075780044, -0.2016485211525135, -0.5539419944205118, -0.3261499856488249, -0.14026198224605155, -0.1226952364617204, -0.1151846168673674, -0.13553112684155927, -0.6048349652012899, -0.6834093479930266, -0.06015214130290608, -0.06899691242650213, -0.3580800934475545, -0.3899754228898792, -0.42041483537231344, -0.4509609104466379, -0.5861882119961276, 0.01731241144811816, -0.003069014601904993, -0.023439027961164614, 0.07147603950575829, 0.43922981708979875, -0.6174161701205725, -0.5880501532052904, 0.04911065722684002, -0.44595844949309255, -0.5029126718343728, -0.5942287273508917, -0.781610821315294, -0.6253885387742535, 0.5431540994669339, -0.6175896744613898, -0.672241757733102, -0.4631799148741318, -0.5353490931032268, -0.6712583027072868, -0.0391303889196032, 0.047976515713276574, 0.07731175888388413, 0.11118998287799486, 0.1632109061317881, 0.08813704891148683, 0.038240818900413004, -0.005175642876471283, -0.058013945507797975, 0.0013345273237045006, -0.6826175407313329, -0.6725758453005127, -0.0196973465790689, -0.047189249181779025, -0.8547724489824731, -0.8300373398510426, 0.007940448702270796, -0.01436477579971314, -0.07439117854251275, 0.6686298992432086, 0.7902282418593893, 0.06079221381861678, 0.10635657477326475, 0.07180618619830854, 0.008682001596456069, -0.048450155547228466, -0.16398925682830928, -0.1298503935055875, -0.22663810185730904, -0.26207990433106443, -0.18092540164173412, -0.22230151468661424, -0.03289051250433525, -0.011437160317893373, -0.6292199772858222, -0.6550621863962435, -0.6033728872355688, 0.058172783359155864, -0.027005549617427124, -0.6149073183505702, -0.7945653919862568, -0.8498925337270594, 0.6389265773387081, 0.10128521115270984, 0.005960935036350367, 0.005050394732645239, 0.045506661803517465, -0.05370145088919802, -0.06095413137793801, -0.11951033763527903, 0.0807022355929126, -0.02837670642774834], \"y\": [0.7901051618828822, 0.7649649597746262, 0.8623455340041781, 0.16270756298709113, 0.16757270010641287, -0.43559075285870014, -0.41824588307947747, -0.4635387882937153, -0.4528732732262839, -0.31511055544757094, 0.3398776971028099, 0.3413917478167076, -0.340075231373567, -0.3466713296682181, -0.39683412651426175, -0.4268277957581614, -0.35552818653263246, -0.3671574521460968, -0.4143408423256052, -0.4063740409647636, -0.5881455232886105, -0.5675888382098471, 0.17892996454026328, 0.4938826975997377, 0.5016702533942407, 0.4946212469640765, 0.1539725152023531, -0.40429633731897463, -0.9085850464824472, 0.6244129743533, 0.5355356238990059, 0.3712642350705524, 0.3409806356396478, 0.4646362218292611, 0.18980317571366767, 0.17406829874102506, 0.47261184185219385, 0.2203245140597425, 0.6428499177391398, 0.46988143562945806, 0.47267400411071453, 0.4886619593123064, 0.0877178061421575, 0.10191372396632035, -0.4784031416501545, -0.5190992829281893, -0.5002919716369187, -0.46674567256366634, 0.46810781316661976, 0.5708575748613767, 0.45562601708956985, -0.8700163676204544, -0.05617873800187494, -0.08068572650283731, 0.27706032670315917, 0.8008489579891518, -0.08525492989516041, -0.43999804993362923, -0.4529638047212139, -0.10574103829791384, -0.09961092879548651, -0.07276381758366757, -0.09931417736409508, -0.11929175953574112, -0.1319981745712636, -0.14829971404042905, -0.8056094965249054, -0.30855064133928434, -0.1352727658755483, -0.1663768554259321, -0.1888585924482965, -0.3211400393344005, -0.29265110189904614, -0.4419607468490175, 0.1924659628020051, 0.16486763387346529, 0.20076083488881463, -0.13303777404451683, -0.8991861031432604, 0.2293044463666181, 0.6331602933290091, -0.9298556539923125, -0.9333613138021286, 0.16594114558282227, 0.12729770564028162, 0.13849963175891297, 0.0032370533358434487, 0.004806671213217423, 0.17268663861547398, 0.21687977801629363, 0.44720286460074, 0.48562528747587247, 0.47464065342617107, 0.4914261820906469, 0.5058256975894705, 0.43917471817751774, 0.48447061593675167, 0.45745345121873576, -0.05299073928114379, -0.15605036291845834, -0.154699973647475, -0.10130861669483349, -0.11037579651437297, 0.04826303302225522, -0.7463328668614766, 0.844442511670928, 0.5308098864535044, 0.6533778484235168, 0.5766471478348255, 0.4603471330875702, 0.5347007647032919, 0.7412319538767186, 0.8382662395942693, -0.5534793185698882, -0.6180149319941272, 0.6853965282361031, 0.78046574576276, -0.5036847534507536, -0.5474594679598284, -0.579069412137249, -0.6120067345582608, -0.7790879355589496, 0.04903077672744893, -0.00950799094622131, -0.03952335854165663, 0.2043694087507358, -0.7942266401882156, 0.06781144109597384, 0.04970963428061751, -0.2769118335347219, 0.21564492758586284, 0.2320197530553772, 0.2667241938454782, 0.3406766899713077, 0.050837847634827064, -0.7680043153550679, 0.021148997930401807, 0.038560743891465396, 0.21242006156809692, 0.06208257746872151, 0.06292191673832061, 0.48870928431681226, -0.3094974004854091, -0.2944560928774086, 0.18970145743801173, 0.20093198256179218, 0.16971314685548167, 0.18144211209755204, 0.48633974473657615, 0.529500915411918, 0.5036142005204512, -0.3000476821508133, -0.28054697359233693, -0.4791678980738531, -0.5176547023660161, -0.08213958073365835, -0.09556299526511743, -0.5055481690527555, -0.5161277306509644, 0.2059812629930976, 0.5100580399778469, 0.6057585985112519, -0.639815906053597, -0.5806226381772889, -0.6268916273796611, -0.0571081168919628, 0.20992666428836335, 0.04864412631018406, 0.05653678811349668, -0.017406900556508342, -0.04801475716732559, 0.028465092116590124, 0.016760073656244, 0.135329755244657, -0.08460311634860279, 0.4738087578584034, 0.45032184047086843, 0.4876500898930741, -0.6582622511391186, -0.43994226235311, -0.1521805558209757, -0.19107323285395536, -0.20769410125638882, 0.4775876074344473, -0.6353950789067436, -0.6787388757929279, -0.9403998614087599, -0.6256271708688853, -0.0748227847424707, -0.051207150316049235, 0.45330036455154243, 0.18348215583507624, 0.20451485621911222]}, {\"line\": {\"color\": \"Blue\", \"width\": 1}, \"mode\": \"lines\", \"type\": \"scatter\", \"x\": [0.08843740576110388, 0.07059102333854854, null], \"y\": [0.7901051618828822, 0.7649649597746262, null]}, {\"line\": {\"color\": \"Blue\", \"width\": 1}, \"mode\": \"lines\", \"type\": \"scatter\", \"x\": [0.07059102333854854, 0.08329379624894741, null], \"y\": [0.7649649597746262, 0.8623455340041781, null]}, {\"line\": {\"color\": \"Blue\", \"width\": 67}, \"mode\": \"lines\", \"type\": \"scatter\", \"x\": [-0.04908019149873204, 0.035691855751373965, null], \"y\": [0.16270756298709113, 0.16757270010641287, null]}, {\"line\": {\"color\": \"Blue\", \"width\": 36}, \"mode\": \"lines\", \"type\": \"scatter\", \"x\": [-0.04908019149873204, -0.01682486178410167, null], \"y\": [0.16270756298709113, 0.17892996454026328, null]}, {\"line\": {\"color\": \"Blue\", \"width\": 23}, \"mode\": \"lines\", \"type\": \"scatter\", \"x\": [-0.04908019149873204, 0.002741345740868338, null], \"y\": [0.16270756298709113, 0.1539725152023531, null]}, {\"line\": {\"color\": \"Blue\", \"width\": 14}, \"mode\": \"lines\", \"type\": \"scatter\", \"x\": [-0.04908019149873204, -0.0670395828736914, null], \"y\": [0.16270756298709113, 0.18980317571366767, null]}, {\"line\": {\"color\": \"Blue\", \"width\": 1}, \"mode\": \"lines\", \"type\": \"scatter\", \"x\": [-0.04908019149873204, 0.0024059578856886234, null], \"y\": [0.16270756298709113, 0.17406829874102506, null]}, {\"line\": {\"color\": \"Blue\", \"width\": 1}, \"mode\": \"lines\", \"type\": \"scatter\", \"x\": [-0.04908019149873204, -0.21285944404480917, null], \"y\": [0.16270756298709113, 0.1924659628020051, null]}, {\"line\": {\"color\": \"Blue\", \"width\": 1}, \"mode\": \"lines\", \"type\": \"scatter\", \"x\": [-0.04908019149873204, -0.08719302042766269, null], \"y\": [0.16270756298709113, 0.17268663861547398, null]}, {\"line\": {\"color\": \"Blue\", \"width\": 1}, \"mode\": \"lines\", \"type\": \"scatter\", \"x\": [-0.04908019149873204, -0.07439117854251275, null], \"y\": [0.16270756298709113, 0.2059812629930976, null]}, {\"line\": {\"color\": \"Blue\", \"width\": 1}, \"mode\": \"lines\", \"type\": \"scatter\", \"x\": [-0.04908019149873204, -0.16398925682830928, null], \"y\": [0.16270756298709113, 0.04864412631018406, null]}, {\"line\": {\"color\": \"Blue\", \"width\": 1}, \"mode\": \"lines\", \"type\": \"scatter\", \"x\": [-0.04908019149873204, 0.07147603950575829, null], \"y\": [0.16270756298709113, 0.2043694087507358, null]}, {\"line\": {\"color\": \"Blue\", \"width\": 1}, \"mode\": \"lines\", \"type\": \"scatter\", \"x\": [-0.04908019149873204, 0.0807022355929126, null], \"y\": [0.16270756298709113, 0.18348215583507624, null]}, {\"line\": {\"color\": \"Blue\", \"width\": 1}, \"mode\": \"lines\", \"type\": \"scatter\", \"x\": [-0.04908019149873204, -0.02837670642774834, null], \"y\": [0.16270756298709113, 0.20451485621911222, null]}, {\"line\": {\"color\": \"Blue\", \"width\": 75}, \"mode\": \"lines\", \"type\": \"scatter\", \"x\": [0.035691855751373965, -0.04908019149873204, null], \"y\": [0.16757270010641287, 0.16270756298709113, null]}, {\"line\": {\"color\": \"Blue\", \"width\": 4}, \"mode\": \"lines\", \"type\": \"scatter\", \"x\": [0.035691855751373965, 0.002741345740868338, null], \"y\": [0.16757270010641287, 0.1539725152023531, null]}, {\"line\": {\"color\": \"Blue\", \"width\": 1}, \"mode\": \"lines\", \"type\": \"scatter\", \"x\": [0.035691855751373965, 0.11118998287799486, null], \"y\": [0.16757270010641287, 0.18970145743801173, null]}, {\"line\": {\"color\": \"Blue\", \"width\": 2}, \"mode\": \"lines\", \"type\": \"scatter\", \"x\": [0.17080575425886763, 0.13497842458488654, null], \"y\": [-0.43559075285870014, -0.41824588307947747, null]}, {\"line\": {\"color\": \"Blue\", \"width\": 1}, \"mode\": \"lines\", \"type\": \"scatter\", \"x\": [0.13497842458488654, -0.6394649374936129, null], \"y\": [-0.41824588307947747, -0.4635387882937153, null]}, {\"line\": {\"color\": \"Blue\", \"width\": 1}, \"mode\": \"lines\", \"type\": \"scatter\", \"x\": [0.13497842458488654, 0.9033614240293831, null], \"y\": [-0.41824588307947747, -0.3671574521460968, null]}, {\"line\": {\"color\": \"Blue\", \"width\": 1}, \"mode\": \"lines\", \"type\": \"scatter\", \"x\": [0.13497842458488654, 0.2077244530915794, null], \"y\": [-0.41824588307947747, -0.46674567256366634, null]}, {\"line\": {\"color\": \"Blue\", \"width\": 1}, \"mode\": \"lines\", \"type\": \"scatter\", \"x\": [0.13497842458488654, 0.17080575425886763, null], \"y\": [-0.41824588307947747, -0.43559075285870014, null]}, {\"line\": {\"color\": \"Blue\", \"width\": 1}, \"mode\": \"lines\", \"type\": \"scatter\", \"x\": [0.15015548063234674, 0.13497842458488654, null], \"y\": [-0.4528732732262839, -0.41824588307947747, null]}, {\"line\": {\"color\": \"Blue\", \"width\": 1}, \"mode\": \"lines\", \"type\": \"scatter\", \"x\": [0.30328686285500395, 0.9094497709707767, null], \"y\": [-0.31511055544757094, 0.3398776971028099, null]}, {\"line\": {\"color\": \"Blue\", \"width\": 1}, \"mode\": \"lines\", \"type\": \"scatter\", \"x\": [0.30328686285500395, 0.3327540168450211, null], \"y\": [-0.31511055544757094, -0.3466713296682181, null]}, {\"line\": {\"color\": \"Blue\", \"width\": 1}, \"mode\": \"lines\", \"type\": \"scatter\", \"x\": [0.30328686285500395, 0.37139980468958833, null], \"y\": [-0.31511055544757094, -0.39683412651426175, null]}, {\"line\": {\"color\": \"Blue\", \"width\": 1}, \"mode\": \"lines\", \"type\": \"scatter\", \"x\": [0.30328686285500395, -0.6636051016320922, null], \"y\": [-0.31511055544757094, -0.5002919716369187, null]}, {\"line\": {\"color\": \"Blue\", \"width\": 1}, \"mode\": \"lines\", \"type\": \"scatter\", \"x\": [0.30328686285500395, 0.6348865288907681, null], \"y\": [-0.31511055544757094, -0.8056094965249054, null]}, {\"line\": {\"color\": \"Blue\", \"width\": 4}, \"mode\": \"lines\", \"type\": \"scatter\", \"x\": [0.30328686285500395, 0.34061786617404016, null], \"y\": [-0.31511055544757094, -0.30855064133928434, null]}, {\"line\": {\"color\": \"Blue\", \"width\": 1}, \"mode\": \"lines\", \"type\": \"scatter\", \"x\": [0.30328686285500395, 0.3562683737158679, null], \"y\": [-0.31511055544757094, -0.3211400393344005, null]}, {\"line\": {\"color\": \"Blue\", \"width\": 1}, \"mode\": \"lines\", \"type\": \"scatter\", \"x\": [0.30328686285500395, 0.009036278879675546, null], \"y\": [-0.31511055544757094, -0.4143408423256052, null]}, {\"line\": {\"color\": \"Blue\", \"width\": 1}, \"mode\": \"lines\", \"type\": \"scatter\", \"x\": [0.30328686285500395, 0.8399694446973339, null], \"y\": [-0.31511055544757094, -0.4419607468490175, null]}, {\"line\": {\"color\": \"Blue\", \"width\": 1}, \"mode\": \"lines\", \"type\": \"scatter\", \"x\": [0.9094497709707767, 0.9380696302137653, null], \"y\": [0.3398776971028099, 0.3413917478167076, null]}, {\"line\": {\"color\": \"Blue\", \"width\": 1}, \"mode\": \"lines\", \"type\": \"scatter\", \"x\": [0.34946367513741494, 0.30328686285500395, null], \"y\": [-0.340075231373567, -0.31511055544757094, null]}, {\"line\": {\"color\": \"Blue\", \"width\": 1}, \"mode\": \"lines\", \"type\": \"scatter\", \"x\": [0.3327540168450211, 0.30328686285500395, null], \"y\": [-0.3466713296682181, -0.31511055544757094, null]}, {\"line\": {\"color\": \"Blue\", \"width\": 1}, \"mode\": \"lines\", \"type\": \"scatter\", \"x\": [0.37139980468958833, 0.4134147573982766, null], \"y\": [-0.39683412651426175, -0.4268277957581614, null]}, {\"line\": {\"color\": \"Blue\", \"width\": 1}, \"mode\": \"lines\", \"type\": \"scatter\", \"x\": [0.37139980468958833, 0.31514246709436927, null], \"y\": [-0.39683412651426175, -0.35552818653263246, null]}, {\"line\": {\"color\": \"Blue\", \"width\": 1}, \"mode\": \"lines\", \"type\": \"scatter\", \"x\": [0.4134147573982766, 0.37139980468958833, null], \"y\": [-0.4268277957581614, -0.39683412651426175, null]}, {\"line\": {\"color\": \"Blue\", \"width\": 1}, \"mode\": \"lines\", \"type\": \"scatter\", \"x\": [0.31514246709436927, 0.30328686285500395, null], \"y\": [-0.35552818653263246, -0.31511055544757094, null]}, {\"line\": {\"color\": \"Blue\", \"width\": 1}, \"mode\": \"lines\", \"type\": \"scatter\", \"x\": [0.009036278879675546, -0.022890378890984022, null], \"y\": [-0.4143408423256052, -0.4063740409647636, null]}, {\"line\": {\"color\": \"Blue\", \"width\": 1}, \"mode\": \"lines\", \"type\": \"scatter\", \"x\": [0.009036278879675546, 0.021386745904991424, null], \"y\": [-0.4143408423256052, -0.4529638047212139, null]}, {\"line\": {\"color\": \"Blue\", \"width\": 2}, \"mode\": \"lines\", \"type\": \"scatter\", \"x\": [0.009036278879675546, 0.1691810176952496, null], \"y\": [-0.4143408423256052, -0.08525492989516041, null]}, {\"line\": {\"color\": \"Blue\", \"width\": 1}, \"mode\": \"lines\", \"type\": \"scatter\", \"x\": [0.009036278879675546, 0.30328686285500395, null], \"y\": [-0.4143408423256052, -0.31511055544757094, null]}, {\"line\": {\"color\": \"Blue\", \"width\": 1}, \"mode\": \"lines\", \"type\": \"scatter\", \"x\": [0.009036278879675546, 0.43922981708979875, null], \"y\": [-0.4143408423256052, -0.7942266401882156, null]}, {\"line\": {\"color\": \"Blue\", \"width\": 1}, \"mode\": \"lines\", \"type\": \"scatter\", \"x\": [0.009036278879675546, 0.06079221381861678, null], \"y\": [-0.4143408423256052, -0.639815906053597, null]}, {\"line\": {\"color\": \"Blue\", \"width\": 1}, \"mode\": \"lines\", \"type\": \"scatter\", \"x\": [0.009036278879675546, -0.6149073183505702, null], \"y\": [-0.4143408423256052, -0.1521805558209757, null]}, {\"line\": {\"color\": \"Blue\", \"width\": 1}, \"mode\": \"lines\", \"type\": \"scatter\", \"x\": [0.009036278879675546, 0.058172783359155864, null], \"y\": [-0.4143408423256052, -0.6582622511391186, null]}, {\"line\": {\"color\": \"Blue\", \"width\": 1}, \"mode\": \"lines\", \"type\": \"scatter\", \"x\": [-0.022890378890984022, 0.009036278879675546, null], \"y\": [-0.4063740409647636, -0.4143408423256052, null]}, {\"line\": {\"color\": \"Blue\", \"width\": 1}, \"mode\": \"lines\", \"type\": \"scatter\", \"x\": [0.8123979248436138, 0.7842726693969918, null], \"y\": [-0.5881455232886105, -0.5675888382098471, null]}, {\"line\": {\"color\": \"Blue\", \"width\": 32}, \"mode\": \"lines\", \"type\": \"scatter\", \"x\": [-0.01682486178410167, -0.04908019149873204, null], \"y\": [0.17892996454026328, 0.16270756298709113, null]}, {\"line\": {\"color\": \"Blue\", \"width\": 4}, \"mode\": \"lines\", \"type\": \"scatter\", \"x\": [-0.01682486178410167, 0.035691855751373965, null], \"y\": [0.17892996454026328, 0.16757270010641287, null]}, {\"line\": {\"color\": \"Blue\", \"width\": 1}, \"mode\": \"lines\", \"type\": \"scatter\", \"x\": [-0.01682486178410167, -0.0670395828736914, null], \"y\": [0.17892996454026328, 0.18980317571366767, null]}, {\"line\": {\"color\": \"Blue\", \"width\": 1}, \"mode\": \"lines\", \"type\": \"scatter\", \"x\": [-0.06904155988687091, -0.09764693884838213, null], \"y\": [0.4938826975997377, 0.5016702533942407, null]}, {\"line\": {\"color\": \"Blue\", \"width\": 1}, \"mode\": \"lines\", \"type\": \"scatter\", \"x\": [-0.06904155988687091, -0.07048074000654607, null], \"y\": [0.4938826975997377, 0.46988143562945806, null]}, {\"line\": {\"color\": \"Blue\", \"width\": 1}, \"mode\": \"lines\", \"type\": \"scatter\", \"x\": [-0.09764693884838213, -0.14069177639275085, null], \"y\": [0.5016702533942407, 0.4946212469640765, null]}, {\"line\": {\"color\": \"Blue\", \"width\": 4}, \"mode\": \"lines\", \"type\": \"scatter\", \"x\": [-0.09764693884838213, -0.09265140478962157, null], \"y\": [0.5016702533942407, 0.6244129743533, null]}, {\"line\": {\"color\": \"Blue\", \"width\": 14}, \"mode\": \"lines\", \"type\": \"scatter\", \"x\": [-0.09764693884838213, -0.07162247529415025, null], \"y\": [0.5016702533942407, 0.5355356238990059, null]}, {\"line\": {\"color\": \"Blue\", \"width\": 1}, \"mode\": \"lines\", \"type\": \"scatter\", \"x\": [-0.09764693884838213, -0.8124833418688296, null], \"y\": [0.5016702533942407, 0.2203245140597425, null]}, {\"line\": {\"color\": \"Blue\", \"width\": 1}, \"mode\": \"lines\", \"type\": \"scatter\", \"x\": [-0.09764693884838213, 0.671320441325179, null], \"y\": [0.5016702533942407, 0.6428499177391398, null]}, {\"line\": {\"color\": \"Blue\", \"width\": 8}, \"mode\": \"lines\", \"type\": \"scatter\", \"x\": [-0.09764693884838213, -0.07048074000654607, null], \"y\": [0.5016702533942407, 0.46988143562945806, null]}, {\"line\": {\"color\": \"Blue\", \"width\": 2}, \"mode\": \"lines\", \"type\": \"scatter\", \"x\": [-0.09764693884838213, -0.07779334866803736, null], \"y\": [0.5016702533942407, 0.47261184185219385, null]}, {\"line\": {\"color\": \"Blue\", \"width\": 3}, \"mode\": \"lines\", \"type\": \"scatter\", \"x\": [-0.09764693884838213, -0.053246629625470054, null], \"y\": [0.5016702533942407, 0.4886619593123064, null]}, {\"line\": {\"color\": \"Blue\", \"width\": 2}, \"mode\": \"lines\", \"type\": \"scatter\", \"x\": [-0.09764693884838213, -0.053597705367711405, null], \"y\": [0.5016702533942407, 0.46810781316661976, null]}, {\"line\": {\"color\": \"Blue\", \"width\": 3}, \"mode\": \"lines\", \"type\": \"scatter\", \"x\": [-0.09764693884838213, -0.0929944574155258, null], \"y\": [0.5016702533942407, 0.47267400411071453, null]}, {\"line\": {\"color\": \"Blue\", \"width\": 5}, \"mode\": \"lines\", \"type\": \"scatter\", \"x\": [-0.09764693884838213, 0.28734454356727346, null], \"y\": [0.5016702533942407, 0.5708575748613767, null]}, {\"line\": {\"color\": \"Blue\", \"width\": 4}, \"mode\": \"lines\", \"type\": \"scatter\", \"x\": [-0.09764693884838213, -0.08897810817095779, null], \"y\": [0.5016702533942407, 0.45562601708956985, null]}, {\"line\": {\"color\": \"Blue\", \"width\": 1}, \"mode\": \"lines\", \"type\": \"scatter\", \"x\": [-0.09764693884838213, -0.10342198349584059, null], \"y\": [0.5016702533942407, 0.44720286460074, null]}, {\"line\": {\"color\": \"Blue\", \"width\": 3}, \"mode\": \"lines\", \"type\": \"scatter\", \"x\": [-0.09764693884838213, -0.2016485211525135, null], \"y\": [0.5016702533942407, 0.5308098864535044, null]}, {\"line\": {\"color\": \"Blue\", \"width\": 1}, \"mode\": \"lines\", \"type\": \"scatter\", \"x\": [-0.09764693884838213, -0.5539419944205118, null], \"y\": [0.5016702533942407, 0.6533778484235168, null]}, {\"line\": {\"color\": \"Blue\", \"width\": 1}, \"mode\": \"lines\", \"type\": \"scatter\", \"x\": [-0.09764693884838213, -0.0391303889196032, null], \"y\": [0.5016702533942407, 0.48870928431681226, null]}, {\"line\": {\"color\": \"Blue\", \"width\": 1}, \"mode\": \"lines\", \"type\": \"scatter\", \"x\": [-0.09764693884838213, -0.005175642876471283, null], \"y\": [0.5016702533942407, 0.48633974473657615, null]}, {\"line\": {\"color\": \"Blue\", \"width\": 1}, \"mode\": \"lines\", \"type\": \"scatter\", \"x\": [-0.09764693884838213, -0.1226952364617204, null], \"y\": [0.5016702533942407, 0.5347007647032919, null]}, {\"line\": {\"color\": \"Blue\", \"width\": 3}, \"mode\": \"lines\", \"type\": \"scatter\", \"x\": [-0.09764693884838213, -0.1254032687063291, null], \"y\": [0.5016702533942407, 0.48562528747587247, null]}, {\"line\": {\"color\": \"Blue\", \"width\": 1}, \"mode\": \"lines\", \"type\": \"scatter\", \"x\": [-0.09764693884838213, 0.0013345273237045006, null], \"y\": [0.5016702533942407, 0.5036142005204512, null]}, {\"line\": {\"color\": \"Blue\", \"width\": 1}, \"mode\": \"lines\", \"type\": \"scatter\", \"x\": [-0.09764693884838213, -0.06904155988687091, null], \"y\": [0.5016702533942407, 0.4938826975997377, null]}, {\"line\": {\"color\": \"Blue\", \"width\": 1}, \"mode\": \"lines\", \"type\": \"scatter\", \"x\": [-0.14069177639275085, -0.09764693884838213, null], \"y\": [0.4946212469640765, 0.5016702533942407, null]}, {\"line\": {\"color\": \"Blue\", \"width\": 21}, \"mode\": \"lines\", \"type\": \"scatter\", \"x\": [0.002741345740868338, -0.04908019149873204, null], \"y\": [0.1539725152023531, 0.16270756298709113, null]}, {\"line\": {\"color\": \"Blue\", \"width\": 5}, \"mode\": \"lines\", \"type\": \"scatter\", \"x\": [0.002741345740868338, 0.035691855751373965, null], \"y\": [0.1539725152023531, 0.16757270010641287, null]}, {\"line\": {\"color\": \"Blue\", \"width\": 1}, \"mode\": \"lines\", \"type\": \"scatter\", \"x\": [0.079096240372851, -0.26190309058434397, null], \"y\": [-0.40429633731897463, -0.9085850464824472, null]}, {\"line\": {\"color\": \"Blue\", \"width\": 1}, \"mode\": \"lines\", \"type\": \"scatter\", \"x\": [0.079096240372851, 0.3507866032415688, null], \"y\": [-0.40429633731897463, -0.8700163676204544, null]}, {\"line\": {\"color\": \"Blue\", \"width\": 1}, \"mode\": \"lines\", \"type\": \"scatter\", \"x\": [0.079096240372851, 0.15797656165332316, null], \"y\": [-0.40429633731897463, 0.3409806356396478, null]}, {\"line\": {\"color\": \"Blue\", \"width\": 5}, \"mode\": \"lines\", \"type\": \"scatter\", \"x\": [-0.09265140478962157, -0.09764693884838213, null], \"y\": [0.6244129743533, 0.5016702533942407, null]}, {\"line\": {\"color\": \"Blue\", \"width\": 1}, \"mode\": \"lines\", \"type\": \"scatter\", \"x\": [-0.09265140478962157, -0.13553112684155927, null], \"y\": [0.6244129743533, 0.8382662395942693, null]}, {\"line\": {\"color\": \"Blue\", \"width\": 1}, \"mode\": \"lines\", \"type\": \"scatter\", \"x\": [-0.09265140478962157, -0.058013945507797975, null], \"y\": [0.6244129743533, 0.529500915411918, null]}, {\"line\": {\"color\": \"Blue\", \"width\": 16}, \"mode\": \"lines\", \"type\": \"scatter\", \"x\": [-0.07162247529415025, -0.09764693884838213, null], \"y\": [0.5355356238990059, 0.5016702533942407, null]}, {\"line\": {\"color\": \"Blue\", \"width\": 1}, \"mode\": \"lines\", \"type\": \"scatter\", \"x\": [-0.07162247529415025, -0.09265140478962157, null], \"y\": [0.5355356238990059, 0.6244129743533, null]}, {\"line\": {\"color\": \"Blue\", \"width\": 1}, \"mode\": \"lines\", \"type\": \"scatter\", \"x\": [0.19502359240396377, 0.15797656165332316, null], \"y\": [0.3712642350705524, 0.3409806356396478, null]}, {\"line\": {\"color\": \"Blue\", \"width\": 2}, \"mode\": \"lines\", \"type\": \"scatter\", \"x\": [0.15797656165332316, -0.6477636896413727, null], \"y\": [0.3409806356396478, 0.4646362218292611, null]}, {\"line\": {\"color\": \"Blue\", \"width\": 1}, \"mode\": \"lines\", \"type\": \"scatter\", \"x\": [0.15797656165332316, 0.9635866137462868, null], \"y\": [0.3409806356396478, 0.21687977801629363, null]}, {\"line\": {\"color\": \"Blue\", \"width\": 13}, \"mode\": \"lines\", \"type\": \"scatter\", \"x\": [-0.0670395828736914, -0.04908019149873204, null], \"y\": [0.18980317571366767, 0.16270756298709113, null]}, {\"line\": {\"color\": \"Blue\", \"width\": 1}, \"mode\": \"lines\", \"type\": \"scatter\", \"x\": [-0.0670395828736914, -0.048450155547228466, null], \"y\": [0.18980317571366767, 0.20992666428836335, null]}, {\"line\": {\"color\": \"Blue\", \"width\": 1}, \"mode\": \"lines\", \"type\": \"scatter\", \"x\": [-0.0670395828736914, -0.08719302042766269, null], \"y\": [0.18980317571366767, 0.17268663861547398, null]}, {\"line\": {\"color\": \"Blue\", \"width\": 1}, \"mode\": \"lines\", \"type\": \"scatter\", \"x\": [0.0024059578856886234, -0.04908019149873204, null], \"y\": [0.17406829874102506, 0.16270756298709113, null]}, {\"line\": {\"color\": \"Blue\", \"width\": 1}, \"mode\": \"lines\", \"type\": \"scatter\", \"x\": [0.0024059578856886234, 0.035691855751373965, null], \"y\": [0.17406829874102506, 0.16757270010641287, null]}, {\"line\": {\"color\": \"Blue\", \"width\": 1}, \"mode\": \"lines\", \"type\": \"scatter\", \"x\": [-0.07779334866803736, -0.09764693884838213, null], \"y\": [0.47261184185219385, 0.5016702533942407, null]}, {\"line\": {\"color\": \"Blue\", \"width\": 1}, \"mode\": \"lines\", \"type\": \"scatter\", \"x\": [-0.07779334866803736, -0.0929944574155258, null], \"y\": [0.47261184185219385, 0.47267400411071453, null]}, {\"line\": {\"color\": \"Blue\", \"width\": 1}, \"mode\": \"lines\", \"type\": \"scatter\", \"x\": [-0.07779334866803736, -0.053246629625470054, null], \"y\": [0.47261184185219385, 0.4886619593123064, null]}, {\"line\": {\"color\": \"Blue\", \"width\": 6}, \"mode\": \"lines\", \"type\": \"scatter\", \"x\": [-0.07048074000654607, -0.09764693884838213, null], \"y\": [0.46988143562945806, 0.5016702533942407, null]}, {\"line\": {\"color\": \"Blue\", \"width\": 1}, \"mode\": \"lines\", \"type\": \"scatter\", \"x\": [-0.07048074000654607, -0.053246629625470054, null], \"y\": [0.46988143562945806, 0.4886619593123064, null]}, {\"line\": {\"color\": \"Blue\", \"width\": 1}, \"mode\": \"lines\", \"type\": \"scatter\", \"x\": [-0.07048074000654607, -0.10342198349584059, null], \"y\": [0.46988143562945806, 0.44720286460074, null]}, {\"line\": {\"color\": \"Blue\", \"width\": 1}, \"mode\": \"lines\", \"type\": \"scatter\", \"x\": [-0.0929944574155258, -0.053246629625470054, null], \"y\": [0.47267400411071453, 0.4886619593123064, null]}, {\"line\": {\"color\": \"Blue\", \"width\": 2}, \"mode\": \"lines\", \"type\": \"scatter\", \"x\": [-0.0929944574155258, -0.09764693884838213, null], \"y\": [0.47267400411071453, 0.5016702533942407, null]}, {\"line\": {\"color\": \"Blue\", \"width\": 1}, \"mode\": \"lines\", \"type\": \"scatter\", \"x\": [-0.0929944574155258, -0.1254032687063291, null], \"y\": [0.47267400411071453, 0.48562528747587247, null]}, {\"line\": {\"color\": \"Blue\", \"width\": 5}, \"mode\": \"lines\", \"type\": \"scatter\", \"x\": [-0.053246629625470054, -0.09764693884838213, null], \"y\": [0.4886619593123064, 0.5016702533942407, null]}, {\"line\": {\"color\": \"Blue\", \"width\": 1}, \"mode\": \"lines\", \"type\": \"scatter\", \"x\": [-0.053246629625470054, -0.07162247529415025, null], \"y\": [0.4886619593123064, 0.5355356238990059, null]}, {\"line\": {\"color\": \"Blue\", \"width\": 1}, \"mode\": \"lines\", \"type\": \"scatter\", \"x\": [0.8678439890295059, 0.9999999999999999, null], \"y\": [0.0877178061421575, 0.10191372396632035, null]}, {\"line\": {\"color\": \"Blue\", \"width\": 1}, \"mode\": \"lines\", \"type\": \"scatter\", \"x\": [0.1577437251503278, 0.1736085731566625, null], \"y\": [-0.4784031416501545, -0.5190992829281893, null]}, {\"line\": {\"color\": \"Blue\", \"width\": 1}, \"mode\": \"lines\", \"type\": \"scatter\", \"x\": [0.1577437251503278, 0.13497842458488654, null], \"y\": [-0.4784031416501545, -0.41824588307947747, null]}, {\"line\": {\"color\": \"Blue\", \"width\": 1}, \"mode\": \"lines\", \"type\": \"scatter\", \"x\": [0.1736085731566625, 0.1577437251503278, null], \"y\": [-0.5190992829281893, -0.4784031416501545, null]}, {\"line\": {\"color\": \"Blue\", \"width\": 1}, \"mode\": \"lines\", \"type\": \"scatter\", \"x\": [0.2077244530915794, 0.17080575425886763, null], \"y\": [-0.46674567256366634, -0.43559075285870014, null]}, {\"line\": {\"color\": \"Blue\", \"width\": 1}, \"mode\": \"lines\", \"type\": \"scatter\", \"x\": [-0.053597705367711405, -0.09764693884838213, null], \"y\": [0.46810781316661976, 0.5016702533942407, null]}, {\"line\": {\"color\": \"Blue\", \"width\": 1}, \"mode\": \"lines\", \"type\": \"scatter\", \"x\": [-0.053597705367711405, -0.07048074000654607, null], \"y\": [0.46810781316661976, 0.46988143562945806, null]}, {\"line\": {\"color\": \"Blue\", \"width\": 3}, \"mode\": \"lines\", \"type\": \"scatter\", \"x\": [0.28734454356727346, -0.09764693884838213, null], \"y\": [0.5708575748613767, 0.5016702533942407, null]}, {\"line\": {\"color\": \"Blue\", \"width\": 1}, \"mode\": \"lines\", \"type\": \"scatter\", \"x\": [0.28734454356727346, 0.671320441325179, null], \"y\": [0.5708575748613767, 0.6428499177391398, null]}, {\"line\": {\"color\": \"Blue\", \"width\": 4}, \"mode\": \"lines\", \"type\": \"scatter\", \"x\": [-0.08897810817095779, -0.09764693884838213, null], \"y\": [0.45562601708956985, 0.5016702533942407, null]}, {\"line\": {\"color\": \"Blue\", \"width\": 1}, \"mode\": \"lines\", \"type\": \"scatter\", \"x\": [0.19415901671656216, 0.1555540594970832, null], \"y\": [-0.05617873800187494, -0.08068572650283731, null]}, {\"line\": {\"color\": \"Blue\", \"width\": 1}, \"mode\": \"lines\", \"type\": \"scatter\", \"x\": [0.1555540594970832, 0.3054939897433031, null], \"y\": [-0.08068572650283731, 0.27706032670315917, null]}, {\"line\": {\"color\": \"Blue\", \"width\": 1}, \"mode\": \"lines\", \"type\": \"scatter\", \"x\": [0.1555540594970832, 0.002973106317656575, null], \"y\": [-0.08068572650283731, -0.43999804993362923, null]}, {\"line\": {\"color\": \"Blue\", \"width\": 1}, \"mode\": \"lines\", \"type\": \"scatter\", \"x\": [0.3054939897433031, 0.4301583900773935, null], \"y\": [0.27706032670315917, 0.8008489579891518, null]}, {\"line\": {\"color\": \"Blue\", \"width\": 3}, \"mode\": \"lines\", \"type\": \"scatter\", \"x\": [0.3054939897433031, 0.1691810176952496, null], \"y\": [0.27706032670315917, -0.08525492989516041, null]}, {\"line\": {\"color\": \"Blue\", \"width\": 1}, \"mode\": \"lines\", \"type\": \"scatter\", \"x\": [0.3054939897433031, 0.26542564106246413, null], \"y\": [0.27706032670315917, -0.09961092879548651, null]}, {\"line\": {\"color\": \"Blue\", \"width\": 2}, \"mode\": \"lines\", \"type\": \"scatter\", \"x\": [0.1691810176952496, 0.002973106317656575, null], \"y\": [-0.08525492989516041, -0.43999804993362923, null]}, {\"line\": {\"color\": \"Blue\", \"width\": 2}, \"mode\": \"lines\", \"type\": \"scatter\", \"x\": [0.1691810176952496, 0.3054939897433031, null], \"y\": [-0.08525492989516041, 0.27706032670315917, null]}, {\"line\": {\"color\": \"Blue\", \"width\": 2}, \"mode\": \"lines\", \"type\": \"scatter\", \"x\": [0.1691810176952496, 0.1882751584428681, null], \"y\": [-0.08525492989516041, -0.10574103829791384, null]}, {\"line\": {\"color\": \"Blue\", \"width\": 1}, \"mode\": \"lines\", \"type\": \"scatter\", \"x\": [0.1691810176952496, 0.26542564106246413, null], \"y\": [-0.08525492989516041, -0.09961092879548651, null]}, {\"line\": {\"color\": \"Blue\", \"width\": 1}, \"mode\": \"lines\", \"type\": \"scatter\", \"x\": [0.002973106317656575, 0.009036278879675546, null], \"y\": [-0.43999804993362923, -0.4143408423256052, null]}, {\"line\": {\"color\": \"Blue\", \"width\": 1}, \"mode\": \"lines\", \"type\": \"scatter\", \"x\": [0.021386745904991424, 0.009036278879675546, null], \"y\": [-0.4529638047212139, -0.4143408423256052, null]}, {\"line\": {\"color\": \"Blue\", \"width\": 1}, \"mode\": \"lines\", \"type\": \"scatter\", \"x\": [0.1882751584428681, 0.1555540594970832, null], \"y\": [-0.10574103829791384, -0.08068572650283731, null]}, {\"line\": {\"color\": \"Blue\", \"width\": 1}, \"mode\": \"lines\", \"type\": \"scatter\", \"x\": [0.26542564106246413, 0.2150177106665685, null], \"y\": [-0.09961092879548651, -0.09931417736409508, null]}, {\"line\": {\"color\": \"Blue\", \"width\": 1}, \"mode\": \"lines\", \"type\": \"scatter\", \"x\": [0.21850172630124284, 0.1691810176952496, null], \"y\": [-0.07276381758366757, -0.08525492989516041, null]}, {\"line\": {\"color\": \"Blue\", \"width\": 1}, \"mode\": \"lines\", \"type\": \"scatter\", \"x\": [0.2150177106665685, 0.1691810176952496, null], \"y\": [-0.09931417736409508, -0.08525492989516041, null]}, {\"line\": {\"color\": \"Blue\", \"width\": 1}, \"mode\": \"lines\", \"type\": \"scatter\", \"x\": [0.6872875038694599, 0.7687847408517561, null], \"y\": [-0.11929175953574112, -0.1319981745712636, null]}, {\"line\": {\"color\": \"Blue\", \"width\": 1}, \"mode\": \"lines\", \"type\": \"scatter\", \"x\": [0.7687847408517561, 0.8531935554376425, null], \"y\": [-0.1319981745712636, -0.14829971404042905, null]}, {\"line\": {\"color\": \"Blue\", \"width\": 1}, \"mode\": \"lines\", \"type\": \"scatter\", \"x\": [0.8531935554376425, 0.8199944000191581, null], \"y\": [-0.14829971404042905, -0.1352727658755483, null]}, {\"line\": {\"color\": \"Blue\", \"width\": 1}, \"mode\": \"lines\", \"type\": \"scatter\", \"x\": [0.8531935554376425, 0.8887867264248402, null], \"y\": [-0.14829971404042905, -0.1663768554259321, null]}, {\"line\": {\"color\": \"Blue\", \"width\": 3}, \"mode\": \"lines\", \"type\": \"scatter\", \"x\": [0.34061786617404016, 0.30328686285500395, null], \"y\": [-0.30855064133928434, -0.31511055544757094, null]}, {\"line\": {\"color\": \"Blue\", \"width\": 1}, \"mode\": \"lines\", \"type\": \"scatter\", \"x\": [0.34061786617404016, 0.34506900925859535, null], \"y\": [-0.30855064133928434, -0.29265110189904614, null]}, {\"line\": {\"color\": \"Blue\", \"width\": 1}, \"mode\": \"lines\", \"type\": \"scatter\", \"x\": [0.8199944000191581, 0.8531935554376425, null], \"y\": [-0.1352727658755483, -0.14829971404042905, null]}, {\"line\": {\"color\": \"Blue\", \"width\": 1}, \"mode\": \"lines\", \"type\": \"scatter\", \"x\": [0.8887867264248402, 0.8735923397033063, null], \"y\": [-0.1663768554259321, -0.1888585924482965, null]}, {\"line\": {\"color\": \"Blue\", \"width\": 1}, \"mode\": \"lines\", \"type\": \"scatter\", \"x\": [0.8887867264248402, 0.8531935554376425, null], \"y\": [-0.1663768554259321, -0.14829971404042905, null]}, {\"line\": {\"color\": \"Blue\", \"width\": 1}, \"mode\": \"lines\", \"type\": \"scatter\", \"x\": [0.8735923397033063, 0.8887867264248402, null], \"y\": [-0.1888585924482965, -0.1663768554259321, null]}, {\"line\": {\"color\": \"Blue\", \"width\": 1}, \"mode\": \"lines\", \"type\": \"scatter\", \"x\": [0.3562683737158679, 0.30328686285500395, null], \"y\": [-0.3211400393344005, -0.31511055544757094, null]}, {\"line\": {\"color\": \"Blue\", \"width\": 1}, \"mode\": \"lines\", \"type\": \"scatter\", \"x\": [0.34506900925859535, 0.30328686285500395, null], \"y\": [-0.29265110189904614, -0.31511055544757094, null]}, {\"line\": {\"color\": \"Blue\", \"width\": 1}, \"mode\": \"lines\", \"type\": \"scatter\", \"x\": [-0.21285944404480917, -0.18401033401868663, null], \"y\": [0.1924659628020051, 0.16486763387346529, null]}, {\"line\": {\"color\": \"Blue\", \"width\": 1}, \"mode\": \"lines\", \"type\": \"scatter\", \"x\": [-0.18401033401868663, -0.2672644503890617, null], \"y\": [0.16486763387346529, 0.20076083488881463, null]}, {\"line\": {\"color\": \"Blue\", \"width\": 1}, \"mode\": \"lines\", \"type\": \"scatter\", \"x\": [-0.18401033401868663, -0.09808957619229611, null], \"y\": [0.16486763387346529, 0.12729770564028162, null]}, {\"line\": {\"color\": \"Blue\", \"width\": 6}, \"mode\": \"lines\", \"type\": \"scatter\", \"x\": [-0.2672644503890617, -0.29758252031611687, null], \"y\": [0.20076083488881463, 0.2293044463666181, null]}, {\"line\": {\"color\": \"Blue\", \"width\": 1}, \"mode\": \"lines\", \"type\": \"scatter\", \"x\": [-0.2672644503890617, -0.22414798181503548, null], \"y\": [0.20076083488881463, 0.16594114558282227, null]}, {\"line\": {\"color\": \"Blue\", \"width\": 1}, \"mode\": \"lines\", \"type\": \"scatter\", \"x\": [-0.2833122385236057, -0.12190384764613997, null], \"y\": [-0.13303777404451683, -0.8991861031432604, null]}, {\"line\": {\"color\": \"Blue\", \"width\": 1}, \"mode\": \"lines\", \"type\": \"scatter\", \"x\": [-0.2833122385236057, -0.4436690251928061, null], \"y\": [-0.13303777404451683, 0.6331602933290091, null]}, {\"line\": {\"color\": \"Blue\", \"width\": 7}, \"mode\": \"lines\", \"type\": \"scatter\", \"x\": [-0.29758252031611687, -0.2672644503890617, null], \"y\": [0.2293044463666181, 0.20076083488881463, null]}, {\"line\": {\"color\": \"Blue\", \"width\": 1}, \"mode\": \"lines\", \"type\": \"scatter\", \"x\": [0.21635135671837918, 0.23835910397184876, null], \"y\": [-0.9298556539923125, -0.9333613138021286, null]}, {\"line\": {\"color\": \"Blue\", \"width\": 1}, \"mode\": \"lines\", \"type\": \"scatter\", \"x\": [0.23835910397184876, 0.21635135671837918, null], \"y\": [-0.9333613138021286, -0.9298556539923125, null]}, {\"line\": {\"color\": \"Blue\", \"width\": 1}, \"mode\": \"lines\", \"type\": \"scatter\", \"x\": [-0.22414798181503548, -0.18401033401868663, null], \"y\": [0.16594114558282227, 0.16486763387346529, null]}, {\"line\": {\"color\": \"Blue\", \"width\": 1}, \"mode\": \"lines\", \"type\": \"scatter\", \"x\": [-0.09808957619229611, -0.06488217540218268, null], \"y\": [0.12729770564028162, 0.13849963175891297, null]}, {\"line\": {\"color\": \"Blue\", \"width\": 1}, \"mode\": \"lines\", \"type\": \"scatter\", \"x\": [-0.06488217540218268, -0.04908019149873204, null], \"y\": [0.13849963175891297, 0.16270756298709113, null]}, {\"line\": {\"color\": \"Blue\", \"width\": 1}, \"mode\": \"lines\", \"type\": \"scatter\", \"x\": [0.8454524425044823, 0.9303831255348312, null], \"y\": [0.0032370533358434487, 0.004806671213217423, null]}, {\"line\": {\"color\": \"Blue\", \"width\": 2}, \"mode\": \"lines\", \"type\": \"scatter\", \"x\": [-0.08719302042766269, -0.04908019149873204, null], \"y\": [0.17268663861547398, 0.16270756298709113, null]}, {\"line\": {\"color\": \"Blue\", \"width\": 1}, \"mode\": \"lines\", \"type\": \"scatter\", \"x\": [-0.10342198349584059, -0.09764693884838213, null], \"y\": [0.44720286460074, 0.5016702533942407, null]}, {\"line\": {\"color\": \"Blue\", \"width\": 5}, \"mode\": \"lines\", \"type\": \"scatter\", \"x\": [-0.1254032687063291, -0.09764693884838213, null], \"y\": [0.48562528747587247, 0.5016702533942407, null]}, {\"line\": {\"color\": \"Blue\", \"width\": 1}, \"mode\": \"lines\", \"type\": \"scatter\", \"x\": [0.5210351419586476, 0.5420995362377978, null], \"y\": [0.47464065342617107, 0.4914261820906469, null]}, {\"line\": {\"color\": \"Blue\", \"width\": 1}, \"mode\": \"lines\", \"type\": \"scatter\", \"x\": [0.5420995362377978, 0.5620118644519233, null], \"y\": [0.4914261820906469, 0.5058256975894705, null]}, {\"line\": {\"color\": \"Blue\", \"width\": 1}, \"mode\": \"lines\", \"type\": \"scatter\", \"x\": [0.5420995362377978, 0.5210351419586476, null], \"y\": [0.4914261820906469, 0.47464065342617107, null]}, {\"line\": {\"color\": \"Blue\", \"width\": 1}, \"mode\": \"lines\", \"type\": \"scatter\", \"x\": [0.5620118644519233, 0.5420995362377978, null], \"y\": [0.5058256975894705, 0.4914261820906469, null]}, {\"line\": {\"color\": \"Blue\", \"width\": 1}, \"mode\": \"lines\", \"type\": \"scatter\", \"x\": [-0.517348951520694, -0.5391931740407496, null], \"y\": [0.43917471817751774, 0.48447061593675167, null]}, {\"line\": {\"color\": \"Blue\", \"width\": 1}, \"mode\": \"lines\", \"type\": \"scatter\", \"x\": [-0.5391931740407496, -0.5163928632215928, null], \"y\": [0.48447061593675167, 0.45745345121873576, null]}, {\"line\": {\"color\": \"Blue\", \"width\": 1}, \"mode\": \"lines\", \"type\": \"scatter\", \"x\": [-0.5163928632215928, -0.517348951520694, null], \"y\": [0.45745345121873576, 0.43917471817751774, null]}, {\"line\": {\"color\": \"Blue\", \"width\": 1}, \"mode\": \"lines\", \"type\": \"scatter\", \"x\": [-0.02459932190412652, -0.07308850100976673, null], \"y\": [-0.05299073928114379, -0.15605036291845834, null]}, {\"line\": {\"color\": \"Blue\", \"width\": 1}, \"mode\": \"lines\", \"type\": \"scatter\", \"x\": [-0.02459932190412652, -0.003069014601904993, null], \"y\": [-0.05299073928114379, -0.00950799094622131, null]}, {\"line\": {\"color\": \"Blue\", \"width\": 4}, \"mode\": \"lines\", \"type\": \"scatter\", \"x\": [-0.02459932190412652, -0.023439027961164614, null], \"y\": [-0.05299073928114379, -0.03952335854165663, null]}, {\"line\": {\"color\": \"Blue\", \"width\": 2}, \"mode\": \"lines\", \"type\": \"scatter\", \"x\": [-0.02459932190412652, 0.01731241144811816, null], \"y\": [-0.05299073928114379, 0.04903077672744893, null]}, {\"line\": {\"color\": \"Blue\", \"width\": 1}, \"mode\": \"lines\", \"type\": \"scatter\", \"x\": [-0.07308850100976673, -0.046418000668419286, null], \"y\": [-0.15605036291845834, -0.154699973647475, null]}, {\"line\": {\"color\": \"Blue\", \"width\": 1}, \"mode\": \"lines\", \"type\": \"scatter\", \"x\": [-0.07308850100976673, -0.0553252058851067, null], \"y\": [-0.15605036291845834, -0.11037579651437297, null]}, {\"line\": {\"color\": \"Blue\", \"width\": 1}, \"mode\": \"lines\", \"type\": \"scatter\", \"x\": [-0.046418000668419286, -0.035301315717353135, null], \"y\": [-0.154699973647475, -0.10130861669483349, null]}, {\"line\": {\"color\": \"Blue\", \"width\": 1}, \"mode\": \"lines\", \"type\": \"scatter\", \"x\": [-0.035301315717353135, -0.0553252058851067, null], \"y\": [-0.10130861669483349, -0.11037579651437297, null]}, {\"line\": {\"color\": \"Blue\", \"width\": 1}, \"mode\": \"lines\", \"type\": \"scatter\", \"x\": [-0.035301315717353135, -0.02459932190412652, null], \"y\": [-0.10130861669483349, -0.05299073928114379, null]}, {\"line\": {\"color\": \"Blue\", \"width\": 1}, \"mode\": \"lines\", \"type\": \"scatter\", \"x\": [-0.0553252058851067, -0.035301315717353135, null], \"y\": [-0.11037579651437297, -0.10130861669483349, null]}, {\"line\": {\"color\": \"Blue\", \"width\": 1}, \"mode\": \"lines\", \"type\": \"scatter\", \"x\": [-0.0553252058851067, -0.07308850100976673, null], \"y\": [-0.11037579651437297, -0.15605036291845834, null]}, {\"line\": {\"color\": \"Blue\", \"width\": 1}, \"mode\": \"lines\", \"type\": \"scatter\", \"x\": [-0.0553252058851067, -0.023439027961164614, null], \"y\": [-0.11037579651437297, -0.03952335854165663, null]}, {\"line\": {\"color\": \"Blue\", \"width\": 1}, \"mode\": \"lines\", \"type\": \"scatter\", \"x\": [-0.07913157570487554, -0.40340584233711513, null], \"y\": [0.04826303302225522, -0.7463328668614766, null]}, {\"line\": {\"color\": \"Blue\", \"width\": 1}, \"mode\": \"lines\", \"type\": \"scatter\", \"x\": [-0.07913157570487554, 0.24575990075780044, null], \"y\": [0.04826303302225522, 0.844442511670928, null]}, {\"line\": {\"color\": \"Blue\", \"width\": 2}, \"mode\": \"lines\", \"type\": \"scatter\", \"x\": [-0.2016485211525135, -0.09764693884838213, null], \"y\": [0.5308098864535044, 0.5016702533942407, null]}, {\"line\": {\"color\": \"Blue\", \"width\": 1}, \"mode\": \"lines\", \"type\": \"scatter\", \"x\": [-0.2016485211525135, -0.3261499856488249, null], \"y\": [0.5308098864535044, 0.5766471478348255, null]}, {\"line\": {\"color\": \"Blue\", \"width\": 1}, \"mode\": \"lines\", \"type\": \"scatter\", \"x\": [-0.2016485211525135, -0.1254032687063291, null], \"y\": [0.5308098864535044, 0.48562528747587247, null]}, {\"line\": {\"color\": \"Blue\", \"width\": 1}, \"mode\": \"lines\", \"type\": \"scatter\", \"x\": [-0.3261499856488249, -0.5539419944205118, null], \"y\": [0.5766471478348255, 0.6533778484235168, null]}, {\"line\": {\"color\": \"Blue\", \"width\": 1}, \"mode\": \"lines\", \"type\": \"scatter\", \"x\": [-0.3261499856488249, -0.09764693884838213, null], \"y\": [0.5766471478348255, 0.5016702533942407, null]}, {\"line\": {\"color\": \"Blue\", \"width\": 1}, \"mode\": \"lines\", \"type\": \"scatter\", \"x\": [-0.14026198224605155, -0.1226952364617204, null], \"y\": [0.4603471330875702, 0.5347007647032919, null]}, {\"line\": {\"color\": \"Blue\", \"width\": 1}, \"mode\": \"lines\", \"type\": \"scatter\", \"x\": [-0.1226952364617204, -0.09764693884838213, null], \"y\": [0.5347007647032919, 0.5016702533942407, null]}, {\"line\": {\"color\": \"Blue\", \"width\": 2}, \"mode\": \"lines\", \"type\": \"scatter\", \"x\": [-0.1151846168673674, -0.13553112684155927, null], \"y\": [0.7412319538767186, 0.8382662395942693, null]}, {\"line\": {\"color\": \"Blue\", \"width\": 1}, \"mode\": \"lines\", \"type\": \"scatter\", \"x\": [-0.6048349652012899, -0.6834093479930266, null], \"y\": [-0.5534793185698882, -0.6180149319941272, null]}, {\"line\": {\"color\": \"Blue\", \"width\": 1}, \"mode\": \"lines\", \"type\": \"scatter\", \"x\": [-0.06015214130290608, -0.06899691242650213, null], \"y\": [0.6853965282361031, 0.78046574576276, null]}, {\"line\": {\"color\": \"Blue\", \"width\": 1}, \"mode\": \"lines\", \"type\": \"scatter\", \"x\": [-0.3580800934475545, -0.3899754228898792, null], \"y\": [-0.5036847534507536, -0.5474594679598284, null]}, {\"line\": {\"color\": \"Blue\", \"width\": 1}, \"mode\": \"lines\", \"type\": \"scatter\", \"x\": [-0.3899754228898792, -0.42041483537231344, null], \"y\": [-0.5474594679598284, -0.579069412137249, null]}, {\"line\": {\"color\": \"Blue\", \"width\": 1}, \"mode\": \"lines\", \"type\": \"scatter\", \"x\": [-0.42041483537231344, -0.4509609104466379, null], \"y\": [-0.579069412137249, -0.6120067345582608, null]}, {\"line\": {\"color\": \"Blue\", \"width\": 1}, \"mode\": \"lines\", \"type\": \"scatter\", \"x\": [-0.4509609104466379, -0.5861882119961276, null], \"y\": [-0.6120067345582608, -0.7790879355589496, null]}, {\"line\": {\"color\": \"Blue\", \"width\": 2}, \"mode\": \"lines\", \"type\": \"scatter\", \"x\": [0.01731241144811816, -0.003069014601904993, null], \"y\": [0.04903077672744893, -0.00950799094622131, null]}, {\"line\": {\"color\": \"Blue\", \"width\": 1}, \"mode\": \"lines\", \"type\": \"scatter\", \"x\": [0.01731241144811816, 0.07147603950575829, null], \"y\": [0.04903077672744893, 0.2043694087507358, null]}, {\"line\": {\"color\": \"Blue\", \"width\": 2}, \"mode\": \"lines\", \"type\": \"scatter\", \"x\": [0.01731241144811816, -0.02459932190412652, null], \"y\": [0.04903077672744893, -0.05299073928114379, null]}, {\"line\": {\"color\": \"Blue\", \"width\": 2}, \"mode\": \"lines\", \"type\": \"scatter\", \"x\": [0.01731241144811816, -0.023439027961164614, null], \"y\": [0.04903077672744893, -0.03952335854165663, null]}, {\"line\": {\"color\": \"Blue\", \"width\": 6}, \"mode\": \"lines\", \"type\": \"scatter\", \"x\": [-0.003069014601904993, -0.023439027961164614, null], \"y\": [-0.00950799094622131, -0.03952335854165663, null]}, {\"line\": {\"color\": \"Blue\", \"width\": 1}, \"mode\": \"lines\", \"type\": \"scatter\", \"x\": [-0.003069014601904993, -0.02459932190412652, null], \"y\": [-0.00950799094622131, -0.05299073928114379, null]}, {\"line\": {\"color\": \"Blue\", \"width\": 3}, \"mode\": \"lines\", \"type\": \"scatter\", \"x\": [-0.003069014601904993, 0.01731241144811816, null], \"y\": [-0.00950799094622131, 0.04903077672744893, null]}, {\"line\": {\"color\": \"Blue\", \"width\": 3}, \"mode\": \"lines\", \"type\": \"scatter\", \"x\": [-0.023439027961164614, 0.01731241144811816, null], \"y\": [-0.03952335854165663, 0.04903077672744893, null]}, {\"line\": {\"color\": \"Blue\", \"width\": 5}, \"mode\": \"lines\", \"type\": \"scatter\", \"x\": [-0.023439027961164614, -0.003069014601904993, null], \"y\": [-0.03952335854165663, -0.00950799094622131, null]}, {\"line\": {\"color\": \"Blue\", \"width\": 1}, \"mode\": \"lines\", \"type\": \"scatter\", \"x\": [-0.023439027961164614, 0.008682001596456069, null], \"y\": [-0.03952335854165663, -0.0571081168919628, null]}, {\"line\": {\"color\": \"Blue\", \"width\": 4}, \"mode\": \"lines\", \"type\": \"scatter\", \"x\": [-0.023439027961164614, -0.02459932190412652, null], \"y\": [-0.03952335854165663, -0.05299073928114379, null]}, {\"line\": {\"color\": \"Blue\", \"width\": 1}, \"mode\": \"lines\", \"type\": \"scatter\", \"x\": [-0.023439027961164614, -0.0553252058851067, null], \"y\": [-0.03952335854165663, -0.11037579651437297, null]}, {\"line\": {\"color\": \"Blue\", \"width\": 1}, \"mode\": \"lines\", \"type\": \"scatter\", \"x\": [-0.023439027961164614, -0.05370145088919802, null], \"y\": [-0.03952335854165663, -0.0748227847424707, null]}, {\"line\": {\"color\": \"Blue\", \"width\": 1}, \"mode\": \"lines\", \"type\": \"scatter\", \"x\": [-0.023439027961164614, -0.06095413137793801, null], \"y\": [-0.03952335854165663, -0.051207150316049235, null]}, {\"line\": {\"color\": \"Blue\", \"width\": 1}, \"mode\": \"lines\", \"type\": \"scatter\", \"x\": [0.07147603950575829, 0.035691855751373965, null], \"y\": [0.2043694087507358, 0.16757270010641287, null]}, {\"line\": {\"color\": \"Blue\", \"width\": 8}, \"mode\": \"lines\", \"type\": \"scatter\", \"x\": [-0.6174161701205725, -0.5880501532052904, null], \"y\": [0.06781144109597384, 0.04970963428061751, null]}, {\"line\": {\"color\": \"Blue\", \"width\": 1}, \"mode\": \"lines\", \"type\": \"scatter\", \"x\": [-0.6174161701205725, -0.6253885387742535, null], \"y\": [0.06781144109597384, 0.050837847634827064, null]}, {\"line\": {\"color\": \"Blue\", \"width\": 2}, \"mode\": \"lines\", \"type\": \"scatter\", \"x\": [-0.5880501532052904, -0.6253885387742535, null], \"y\": [0.04970963428061751, 0.050837847634827064, null]}, {\"line\": {\"color\": \"Blue\", \"width\": 6}, \"mode\": \"lines\", \"type\": \"scatter\", \"x\": [-0.5880501532052904, -0.6174161701205725, null], \"y\": [0.04970963428061751, 0.06781144109597384, null]}, {\"line\": {\"color\": \"Blue\", \"width\": 1}, \"mode\": \"lines\", \"type\": \"scatter\", \"x\": [-0.5880501532052904, -0.6175896744613898, null], \"y\": [0.04970963428061751, 0.021148997930401807, null]}, {\"line\": {\"color\": \"Blue\", \"width\": 1}, \"mode\": \"lines\", \"type\": \"scatter\", \"x\": [-0.5880501532052904, -0.5353490931032268, null], \"y\": [0.04970963428061751, 0.06208257746872151, null]}, {\"line\": {\"color\": \"Blue\", \"width\": 1}, \"mode\": \"lines\", \"type\": \"scatter\", \"x\": [0.04911065722684002, -0.44595844949309255, null], \"y\": [-0.2769118335347219, 0.21564492758586284, null]}, {\"line\": {\"color\": \"Blue\", \"width\": 1}, \"mode\": \"lines\", \"type\": \"scatter\", \"x\": [0.04911065722684002, 0.5431540994669339, null], \"y\": [-0.2769118335347219, -0.7680043153550679, null]}, {\"line\": {\"color\": \"Blue\", \"width\": 1}, \"mode\": \"lines\", \"type\": \"scatter\", \"x\": [0.04911065722684002, 0.047976515713276574, null], \"y\": [-0.2769118335347219, -0.3094974004854091, null]}, {\"line\": {\"color\": \"Blue\", \"width\": 1}, \"mode\": \"lines\", \"type\": \"scatter\", \"x\": [0.04911065722684002, 0.07731175888388413, null], \"y\": [-0.2769118335347219, -0.2944560928774086, null]}, {\"line\": {\"color\": \"Blue\", \"width\": 1}, \"mode\": \"lines\", \"type\": \"scatter\", \"x\": [-0.44595844949309255, -0.5029126718343728, null], \"y\": [0.21564492758586284, 0.2320197530553772, null]}, {\"line\": {\"color\": \"Blue\", \"width\": 1}, \"mode\": \"lines\", \"type\": \"scatter\", \"x\": [-0.5029126718343728, -0.5942287273508917, null], \"y\": [0.2320197530553772, 0.2667241938454782, null]}, {\"line\": {\"color\": \"Blue\", \"width\": 1}, \"mode\": \"lines\", \"type\": \"scatter\", \"x\": [-0.5942287273508917, -0.781610821315294, null], \"y\": [0.2667241938454782, 0.3406766899713077, null]}, {\"line\": {\"color\": \"Blue\", \"width\": 1}, \"mode\": \"lines\", \"type\": \"scatter\", \"x\": [-0.5942287273508917, -0.4631799148741318, null], \"y\": [0.2667241938454782, 0.21242006156809692, null]}, {\"line\": {\"color\": \"Blue\", \"width\": 2}, \"mode\": \"lines\", \"type\": \"scatter\", \"x\": [-0.6253885387742535, -0.6174161701205725, null], \"y\": [0.050837847634827064, 0.06781144109597384, null]}, {\"line\": {\"color\": \"Blue\", \"width\": 2}, \"mode\": \"lines\", \"type\": \"scatter\", \"x\": [-0.6253885387742535, -0.5880501532052904, null], \"y\": [0.050837847634827064, 0.04970963428061751, null]}, {\"line\": {\"color\": \"Blue\", \"width\": 1}, \"mode\": \"lines\", \"type\": \"scatter\", \"x\": [-0.6175896744613898, -0.672241757733102, null], \"y\": [0.021148997930401807, 0.038560743891465396, null]}, {\"line\": {\"color\": \"Blue\", \"width\": 1}, \"mode\": \"lines\", \"type\": \"scatter\", \"x\": [-0.672241757733102, -0.6253885387742535, null], \"y\": [0.038560743891465396, 0.050837847634827064, null]}, {\"line\": {\"color\": \"Blue\", \"width\": 1}, \"mode\": \"lines\", \"type\": \"scatter\", \"x\": [-0.4631799148741318, -0.5942287273508917, null], \"y\": [0.21242006156809692, 0.2667241938454782, null]}, {\"line\": {\"color\": \"Blue\", \"width\": 1}, \"mode\": \"lines\", \"type\": \"scatter\", \"x\": [-0.5353490931032268, -0.6712583027072868, null], \"y\": [0.06208257746872151, 0.06292191673832061, null]}, {\"line\": {\"color\": \"Blue\", \"width\": 1}, \"mode\": \"lines\", \"type\": \"scatter\", \"x\": [-0.6712583027072868, -0.6253885387742535, null], \"y\": [0.06292191673832061, 0.050837847634827064, null]}, {\"line\": {\"color\": \"Blue\", \"width\": 1}, \"mode\": \"lines\", \"type\": \"scatter\", \"x\": [-0.0391303889196032, -0.09764693884838213, null], \"y\": [0.48870928431681226, 0.5016702533942407, null]}, {\"line\": {\"color\": \"Blue\", \"width\": 1}, \"mode\": \"lines\", \"type\": \"scatter\", \"x\": [0.047976515713276574, 0.04911065722684002, null], \"y\": [-0.3094974004854091, -0.2769118335347219, null]}, {\"line\": {\"color\": \"Blue\", \"width\": 1}, \"mode\": \"lines\", \"type\": \"scatter\", \"x\": [0.07731175888388413, 0.04911065722684002, null], \"y\": [-0.2944560928774086, -0.2769118335347219, null]}, {\"line\": {\"color\": \"Blue\", \"width\": 1}, \"mode\": \"lines\", \"type\": \"scatter\", \"x\": [0.11118998287799486, 0.1632109061317881, null], \"y\": [0.18970145743801173, 0.20093198256179218, null]}, {\"line\": {\"color\": \"Blue\", \"width\": 1}, \"mode\": \"lines\", \"type\": \"scatter\", \"x\": [0.11118998287799486, 0.08813704891148683, null], \"y\": [0.18970145743801173, 0.16971314685548167, null]}, {\"line\": {\"color\": \"Blue\", \"width\": 1}, \"mode\": \"lines\", \"type\": \"scatter\", \"x\": [0.11118998287799486, 0.038240818900413004, null], \"y\": [0.18970145743801173, 0.18144211209755204, null]}, {\"line\": {\"color\": \"Blue\", \"width\": 1}, \"mode\": \"lines\", \"type\": \"scatter\", \"x\": [0.1632109061317881, 0.11118998287799486, null], \"y\": [0.20093198256179218, 0.18970145743801173, null]}, {\"line\": {\"color\": \"Blue\", \"width\": 1}, \"mode\": \"lines\", \"type\": \"scatter\", \"x\": [0.08813704891148683, 0.038240818900413004, null], \"y\": [0.16971314685548167, 0.18144211209755204, null]}, {\"line\": {\"color\": \"Blue\", \"width\": 1}, \"mode\": \"lines\", \"type\": \"scatter\", \"x\": [0.038240818900413004, 0.11118998287799486, null], \"y\": [0.18144211209755204, 0.18970145743801173, null]}, {\"line\": {\"color\": \"Blue\", \"width\": 1}, \"mode\": \"lines\", \"type\": \"scatter\", \"x\": [0.038240818900413004, -0.04908019149873204, null], \"y\": [0.18144211209755204, 0.16270756298709113, null]}, {\"line\": {\"color\": \"Blue\", \"width\": 1}, \"mode\": \"lines\", \"type\": \"scatter\", \"x\": [-0.005175642876471283, -0.058013945507797975, null], \"y\": [0.48633974473657615, 0.529500915411918, null]}, {\"line\": {\"color\": \"Blue\", \"width\": 1}, \"mode\": \"lines\", \"type\": \"scatter\", \"x\": [-0.058013945507797975, -0.09764693884838213, null], \"y\": [0.529500915411918, 0.5016702533942407, null]}, {\"line\": {\"color\": \"Blue\", \"width\": 1}, \"mode\": \"lines\", \"type\": \"scatter\", \"x\": [-0.058013945507797975, -0.07162247529415025, null], \"y\": [0.529500915411918, 0.5355356238990059, null]}, {\"line\": {\"color\": \"Blue\", \"width\": 1}, \"mode\": \"lines\", \"type\": \"scatter\", \"x\": [0.0013345273237045006, -0.058013945507797975, null], \"y\": [0.5036142005204512, 0.529500915411918, null]}, {\"line\": {\"color\": \"Blue\", \"width\": 1}, \"mode\": \"lines\", \"type\": \"scatter\", \"x\": [-0.6826175407313329, -0.6725758453005127, null], \"y\": [-0.3000476821508133, -0.28054697359233693, null]}, {\"line\": {\"color\": \"Blue\", \"width\": 1}, \"mode\": \"lines\", \"type\": \"scatter\", \"x\": [-0.6725758453005127, -0.6826175407313329, null], \"y\": [-0.28054697359233693, -0.3000476821508133, null]}, {\"line\": {\"color\": \"Blue\", \"width\": 1}, \"mode\": \"lines\", \"type\": \"scatter\", \"x\": [-0.0196973465790689, -0.047189249181779025, null], \"y\": [-0.4791678980738531, -0.5176547023660161, null]}, {\"line\": {\"color\": \"Blue\", \"width\": 1}, \"mode\": \"lines\", \"type\": \"scatter\", \"x\": [-0.0196973465790689, 0.009036278879675546, null], \"y\": [-0.4791678980738531, -0.4143408423256052, null]}, {\"line\": {\"color\": \"Blue\", \"width\": 1}, \"mode\": \"lines\", \"type\": \"scatter\", \"x\": [-0.0196973465790689, -0.01436477579971314, null], \"y\": [-0.4791678980738531, -0.5161277306509644, null]}, {\"line\": {\"color\": \"Blue\", \"width\": 2}, \"mode\": \"lines\", \"type\": \"scatter\", \"x\": [-0.047189249181779025, -0.0196973465790689, null], \"y\": [-0.5176547023660161, -0.4791678980738531, null]}, {\"line\": {\"color\": \"Blue\", \"width\": 1}, \"mode\": \"lines\", \"type\": \"scatter\", \"x\": [-0.8547724489824731, -0.8300373398510426, null], \"y\": [-0.08213958073365835, -0.09556299526511743, null]}, {\"line\": {\"color\": \"Blue\", \"width\": 1}, \"mode\": \"lines\", \"type\": \"scatter\", \"x\": [0.007940448702270796, -0.0196973465790689, null], \"y\": [-0.5055481690527555, -0.4791678980738531, null]}, {\"line\": {\"color\": \"Blue\", \"width\": 1}, \"mode\": \"lines\", \"type\": \"scatter\", \"x\": [-0.01436477579971314, -0.0196973465790689, null], \"y\": [-0.5161277306509644, -0.4791678980738531, null]}, {\"line\": {\"color\": \"Blue\", \"width\": 1}, \"mode\": \"lines\", \"type\": \"scatter\", \"x\": [-0.07439117854251275, -0.04908019149873204, null], \"y\": [0.2059812629930976, 0.16270756298709113, null]}, {\"line\": {\"color\": \"Blue\", \"width\": 1}, \"mode\": \"lines\", \"type\": \"scatter\", \"x\": [0.6686298992432086, 0.7902282418593893, null], \"y\": [0.5100580399778469, 0.6057585985112519, null]}, {\"line\": {\"color\": \"Blue\", \"width\": 1}, \"mode\": \"lines\", \"type\": \"scatter\", \"x\": [0.6686298992432086, 0.6389265773387081, null], \"y\": [0.5100580399778469, 0.4775876074344473, null]}, {\"line\": {\"color\": \"Blue\", \"width\": 1}, \"mode\": \"lines\", \"type\": \"scatter\", \"x\": [0.06079221381861678, 0.10635657477326475, null], \"y\": [-0.639815906053597, -0.5806226381772889, null]}, {\"line\": {\"color\": \"Blue\", \"width\": 2}, \"mode\": \"lines\", \"type\": \"scatter\", \"x\": [0.06079221381861678, 0.058172783359155864, null], \"y\": [-0.639815906053597, -0.6582622511391186, null]}, {\"line\": {\"color\": \"Blue\", \"width\": 1}, \"mode\": \"lines\", \"type\": \"scatter\", \"x\": [0.06079221381861678, 0.005960935036350367, null], \"y\": [-0.639815906053597, -0.6787388757929279, null]}, {\"line\": {\"color\": \"Blue\", \"width\": 1}, \"mode\": \"lines\", \"type\": \"scatter\", \"x\": [0.06079221381861678, 0.07180618619830854, null], \"y\": [-0.639815906053597, -0.6268916273796611, null]}, {\"line\": {\"color\": \"Blue\", \"width\": 1}, \"mode\": \"lines\", \"type\": \"scatter\", \"x\": [0.10635657477326475, 0.07180618619830854, null], \"y\": [-0.5806226381772889, -0.6268916273796611, null]}, {\"line\": {\"color\": \"Blue\", \"width\": 1}, \"mode\": \"lines\", \"type\": \"scatter\", \"x\": [0.07180618619830854, 0.06079221381861678, null], \"y\": [-0.6268916273796611, -0.639815906053597, null]}, {\"line\": {\"color\": \"Blue\", \"width\": 1}, \"mode\": \"lines\", \"type\": \"scatter\", \"x\": [0.07180618619830854, 0.045506661803517465, null], \"y\": [-0.6268916273796611, -0.6256271708688853, null]}, {\"line\": {\"color\": \"Blue\", \"width\": 2}, \"mode\": \"lines\", \"type\": \"scatter\", \"x\": [0.07180618619830854, 0.058172783359155864, null], \"y\": [-0.6268916273796611, -0.6582622511391186, null]}, {\"line\": {\"color\": \"Blue\", \"width\": 1}, \"mode\": \"lines\", \"type\": \"scatter\", \"x\": [0.008682001596456069, -0.003069014601904993, null], \"y\": [-0.0571081168919628, -0.00950799094622131, null]}, {\"line\": {\"color\": \"Blue\", \"width\": 1}, \"mode\": \"lines\", \"type\": \"scatter\", \"x\": [0.008682001596456069, -0.011437160317893373, null], \"y\": [-0.0571081168919628, -0.08460311634860279, null]}, {\"line\": {\"color\": \"Blue\", \"width\": 1}, \"mode\": \"lines\", \"type\": \"scatter\", \"x\": [-0.048450155547228466, -0.04908019149873204, null], \"y\": [0.20992666428836335, 0.16270756298709113, null]}, {\"line\": {\"color\": \"Blue\", \"width\": 1}, \"mode\": \"lines\", \"type\": \"scatter\", \"x\": [-0.16398925682830928, -0.1298503935055875, null], \"y\": [0.04864412631018406, 0.05653678811349668, null]}, {\"line\": {\"color\": \"Blue\", \"width\": 1}, \"mode\": \"lines\", \"type\": \"scatter\", \"x\": [-0.1298503935055875, -0.22663810185730904, null], \"y\": [0.05653678811349668, -0.017406900556508342, null]}, {\"line\": {\"color\": \"Blue\", \"width\": 1}, \"mode\": \"lines\", \"type\": \"scatter\", \"x\": [-0.1298503935055875, -0.03289051250433525, null], \"y\": [0.05653678811349668, 0.135329755244657, null]}, {\"line\": {\"color\": \"Blue\", \"width\": 1}, \"mode\": \"lines\", \"type\": \"scatter\", \"x\": [-0.22663810185730904, -0.26207990433106443, null], \"y\": [-0.017406900556508342, -0.04801475716732559, null]}, {\"line\": {\"color\": \"Blue\", \"width\": 1}, \"mode\": \"lines\", \"type\": \"scatter\", \"x\": [-0.22663810185730904, -0.18092540164173412, null], \"y\": [-0.017406900556508342, 0.028465092116590124, null]}, {\"line\": {\"color\": \"Blue\", \"width\": 1}, \"mode\": \"lines\", \"type\": \"scatter\", \"x\": [-0.26207990433106443, -0.22663810185730904, null], \"y\": [-0.04801475716732559, -0.017406900556508342, null]}, {\"line\": {\"color\": \"Blue\", \"width\": 1}, \"mode\": \"lines\", \"type\": \"scatter\", \"x\": [-0.18092540164173412, -0.22230151468661424, null], \"y\": [0.028465092116590124, 0.016760073656244, null]}, {\"line\": {\"color\": \"Blue\", \"width\": 1}, \"mode\": \"lines\", \"type\": \"scatter\", \"x\": [-0.18092540164173412, -0.1298503935055875, null], \"y\": [0.028465092116590124, 0.05653678811349668, null]}, {\"line\": {\"color\": \"Blue\", \"width\": 1}, \"mode\": \"lines\", \"type\": \"scatter\", \"x\": [-0.22230151468661424, -0.18092540164173412, null], \"y\": [0.016760073656244, 0.028465092116590124, null]}, {\"line\": {\"color\": \"Blue\", \"width\": 1}, \"mode\": \"lines\", \"type\": \"scatter\", \"x\": [-0.03289051250433525, -0.04908019149873204, null], \"y\": [0.135329755244657, 0.16270756298709113, null]}, {\"line\": {\"color\": \"Blue\", \"width\": 1}, \"mode\": \"lines\", \"type\": \"scatter\", \"x\": [-0.011437160317893373, -0.023439027961164614, null], \"y\": [-0.08460311634860279, -0.03952335854165663, null]}, {\"line\": {\"color\": \"Blue\", \"width\": 1}, \"mode\": \"lines\", \"type\": \"scatter\", \"x\": [-0.6292199772858222, -0.6550621863962435, null], \"y\": [0.4738087578584034, 0.45032184047086843, null]}, {\"line\": {\"color\": \"Blue\", \"width\": 2}, \"mode\": \"lines\", \"type\": \"scatter\", \"x\": [-0.6292199772858222, -0.6033728872355688, null], \"y\": [0.4738087578584034, 0.4876500898930741, null]}, {\"line\": {\"color\": \"Blue\", \"width\": 1}, \"mode\": \"lines\", \"type\": \"scatter\", \"x\": [-0.6550621863962435, -0.6292199772858222, null], \"y\": [0.45032184047086843, 0.4738087578584034, null]}, {\"line\": {\"color\": \"Blue\", \"width\": 2}, \"mode\": \"lines\", \"type\": \"scatter\", \"x\": [-0.6033728872355688, -0.6292199772858222, null], \"y\": [0.4876500898930741, 0.4738087578584034, null]}, {\"line\": {\"color\": \"Blue\", \"width\": 1}, \"mode\": \"lines\", \"type\": \"scatter\", \"x\": [0.058172783359155864, 0.10128521115270984, null], \"y\": [-0.6582622511391186, -0.6353950789067436, null]}, {\"line\": {\"color\": \"Blue\", \"width\": 1}, \"mode\": \"lines\", \"type\": \"scatter\", \"x\": [0.058172783359155864, 0.005960935036350367, null], \"y\": [-0.6582622511391186, -0.6787388757929279, null]}, {\"line\": {\"color\": \"Blue\", \"width\": 1}, \"mode\": \"lines\", \"type\": \"scatter\", \"x\": [0.058172783359155864, 0.06079221381861678, null], \"y\": [-0.6582622511391186, -0.639815906053597, null]}, {\"line\": {\"color\": \"Blue\", \"width\": 2}, \"mode\": \"lines\", \"type\": \"scatter\", \"x\": [0.058172783359155864, 0.07180618619830854, null], \"y\": [-0.6582622511391186, -0.6268916273796611, null]}, {\"line\": {\"color\": \"Blue\", \"width\": 1}, \"mode\": \"lines\", \"type\": \"scatter\", \"x\": [-0.027005549617427124, 0.009036278879675546, null], \"y\": [-0.43994226235311, -0.4143408423256052, null]}, {\"line\": {\"color\": \"Blue\", \"width\": 1}, \"mode\": \"lines\", \"type\": \"scatter\", \"x\": [-0.6149073183505702, -0.7945653919862568, null], \"y\": [-0.1521805558209757, -0.19107323285395536, null]}, {\"line\": {\"color\": \"Blue\", \"width\": 1}, \"mode\": \"lines\", \"type\": \"scatter\", \"x\": [-0.7945653919862568, -0.8498925337270594, null], \"y\": [-0.19107323285395536, -0.20769410125638882, null]}, {\"line\": {\"color\": \"Blue\", \"width\": 1}, \"mode\": \"lines\", \"type\": \"scatter\", \"x\": [0.6389265773387081, 0.6686298992432086, null], \"y\": [0.4775876074344473, 0.5100580399778469, null]}, {\"line\": {\"color\": \"Blue\", \"width\": 1}, \"mode\": \"lines\", \"type\": \"scatter\", \"x\": [0.10128521115270984, 0.058172783359155864, null], \"y\": [-0.6353950789067436, -0.6582622511391186, null]}, {\"line\": {\"color\": \"Blue\", \"width\": 1}, \"mode\": \"lines\", \"type\": \"scatter\", \"x\": [0.005960935036350367, 0.009036278879675546, null], \"y\": [-0.6787388757929279, -0.4143408423256052, null]}, {\"line\": {\"color\": \"Blue\", \"width\": 1}, \"mode\": \"lines\", \"type\": \"scatter\", \"x\": [0.005960935036350367, 0.005050394732645239, null], \"y\": [-0.6787388757929279, -0.9403998614087599, null]}, {\"line\": {\"color\": \"Blue\", \"width\": 1}, \"mode\": \"lines\", \"type\": \"scatter\", \"x\": [0.045506661803517465, 0.07180618619830854, null], \"y\": [-0.6256271708688853, -0.6268916273796611, null]}, {\"line\": {\"color\": \"Blue\", \"width\": 1}, \"mode\": \"lines\", \"type\": \"scatter\", \"x\": [-0.05370145088919802, -0.023439027961164614, null], \"y\": [-0.0748227847424707, -0.03952335854165663, null]}, {\"line\": {\"color\": \"Blue\", \"width\": 1}, \"mode\": \"lines\", \"type\": \"scatter\", \"x\": [-0.06095413137793801, -0.023439027961164614, null], \"y\": [-0.051207150316049235, -0.03952335854165663, null]}, {\"line\": {\"color\": \"Blue\", \"width\": 1}, \"mode\": \"lines\", \"type\": \"scatter\", \"x\": [-0.11951033763527903, -0.09764693884838213, null], \"y\": [0.45330036455154243, 0.5016702533942407, null]}, {\"line\": {\"color\": \"Blue\", \"width\": 1}, \"mode\": \"lines\", \"type\": \"scatter\", \"x\": [0.0807022355929126, 0.035691855751373965, null], \"y\": [0.18348215583507624, 0.16757270010641287, null]}, {\"line\": {\"color\": \"Blue\", \"width\": 1}, \"mode\": \"lines\", \"type\": \"scatter\", \"x\": [-0.02837670642774834, -0.04908019149873204, null], \"y\": [0.20451485621911222, 0.16270756298709113, null]}],\n",
       "                        {\"hovermode\": \"closest\", \"showlegend\": false, \"template\": {\"data\": {\"bar\": [{\"error_x\": {\"color\": \"#2a3f5f\"}, \"error_y\": {\"color\": \"#2a3f5f\"}, \"marker\": {\"line\": {\"color\": \"#E5ECF6\", \"width\": 0.5}}, \"type\": \"bar\"}], \"barpolar\": [{\"marker\": {\"line\": {\"color\": \"#E5ECF6\", \"width\": 0.5}}, \"type\": \"barpolar\"}], \"carpet\": [{\"aaxis\": {\"endlinecolor\": \"#2a3f5f\", \"gridcolor\": \"white\", \"linecolor\": \"white\", \"minorgridcolor\": \"white\", \"startlinecolor\": \"#2a3f5f\"}, \"baxis\": {\"endlinecolor\": \"#2a3f5f\", \"gridcolor\": \"white\", \"linecolor\": \"white\", \"minorgridcolor\": \"white\", \"startlinecolor\": \"#2a3f5f\"}, \"type\": \"carpet\"}], \"choropleth\": [{\"colorbar\": {\"outlinewidth\": 0, \"ticks\": \"\"}, \"type\": \"choropleth\"}], \"contour\": [{\"colorbar\": {\"outlinewidth\": 0, \"ticks\": \"\"}, \"colorscale\": [[0.0, \"#0d0887\"], [0.1111111111111111, \"#46039f\"], [0.2222222222222222, \"#7201a8\"], [0.3333333333333333, \"#9c179e\"], [0.4444444444444444, \"#bd3786\"], [0.5555555555555556, \"#d8576b\"], [0.6666666666666666, \"#ed7953\"], [0.7777777777777778, \"#fb9f3a\"], [0.8888888888888888, \"#fdca26\"], [1.0, \"#f0f921\"]], \"type\": \"contour\"}], \"contourcarpet\": [{\"colorbar\": {\"outlinewidth\": 0, \"ticks\": \"\"}, \"type\": \"contourcarpet\"}], \"heatmap\": [{\"colorbar\": {\"outlinewidth\": 0, \"ticks\": \"\"}, \"colorscale\": [[0.0, \"#0d0887\"], [0.1111111111111111, \"#46039f\"], [0.2222222222222222, \"#7201a8\"], [0.3333333333333333, \"#9c179e\"], [0.4444444444444444, \"#bd3786\"], [0.5555555555555556, \"#d8576b\"], [0.6666666666666666, \"#ed7953\"], [0.7777777777777778, \"#fb9f3a\"], [0.8888888888888888, \"#fdca26\"], [1.0, \"#f0f921\"]], \"type\": \"heatmap\"}], \"heatmapgl\": [{\"colorbar\": {\"outlinewidth\": 0, \"ticks\": \"\"}, \"colorscale\": [[0.0, \"#0d0887\"], [0.1111111111111111, \"#46039f\"], [0.2222222222222222, \"#7201a8\"], [0.3333333333333333, \"#9c179e\"], [0.4444444444444444, \"#bd3786\"], [0.5555555555555556, \"#d8576b\"], [0.6666666666666666, \"#ed7953\"], [0.7777777777777778, \"#fb9f3a\"], [0.8888888888888888, \"#fdca26\"], [1.0, \"#f0f921\"]], \"type\": \"heatmapgl\"}], \"histogram\": [{\"marker\": {\"colorbar\": {\"outlinewidth\": 0, \"ticks\": \"\"}}, \"type\": \"histogram\"}], \"histogram2d\": [{\"colorbar\": {\"outlinewidth\": 0, \"ticks\": \"\"}, \"colorscale\": [[0.0, \"#0d0887\"], [0.1111111111111111, \"#46039f\"], [0.2222222222222222, \"#7201a8\"], [0.3333333333333333, \"#9c179e\"], [0.4444444444444444, \"#bd3786\"], [0.5555555555555556, \"#d8576b\"], [0.6666666666666666, \"#ed7953\"], [0.7777777777777778, \"#fb9f3a\"], [0.8888888888888888, \"#fdca26\"], [1.0, \"#f0f921\"]], \"type\": \"histogram2d\"}], \"histogram2dcontour\": [{\"colorbar\": {\"outlinewidth\": 0, \"ticks\": \"\"}, \"colorscale\": [[0.0, \"#0d0887\"], [0.1111111111111111, \"#46039f\"], [0.2222222222222222, \"#7201a8\"], [0.3333333333333333, \"#9c179e\"], [0.4444444444444444, \"#bd3786\"], [0.5555555555555556, \"#d8576b\"], [0.6666666666666666, \"#ed7953\"], [0.7777777777777778, \"#fb9f3a\"], [0.8888888888888888, \"#fdca26\"], [1.0, \"#f0f921\"]], \"type\": \"histogram2dcontour\"}], \"mesh3d\": [{\"colorbar\": {\"outlinewidth\": 0, \"ticks\": \"\"}, \"type\": \"mesh3d\"}], \"parcoords\": [{\"line\": {\"colorbar\": {\"outlinewidth\": 0, \"ticks\": \"\"}}, \"type\": \"parcoords\"}], \"pie\": [{\"automargin\": true, \"type\": \"pie\"}], \"scatter\": [{\"marker\": {\"colorbar\": {\"outlinewidth\": 0, \"ticks\": \"\"}}, \"type\": \"scatter\"}], \"scatter3d\": [{\"line\": {\"colorbar\": {\"outlinewidth\": 0, \"ticks\": \"\"}}, \"marker\": {\"colorbar\": {\"outlinewidth\": 0, \"ticks\": \"\"}}, \"type\": \"scatter3d\"}], \"scattercarpet\": [{\"marker\": {\"colorbar\": {\"outlinewidth\": 0, \"ticks\": \"\"}}, \"type\": \"scattercarpet\"}], \"scattergeo\": [{\"marker\": {\"colorbar\": {\"outlinewidth\": 0, \"ticks\": \"\"}}, \"type\": \"scattergeo\"}], \"scattergl\": [{\"marker\": {\"colorbar\": {\"outlinewidth\": 0, \"ticks\": \"\"}}, \"type\": \"scattergl\"}], \"scattermapbox\": [{\"marker\": {\"colorbar\": {\"outlinewidth\": 0, \"ticks\": \"\"}}, \"type\": \"scattermapbox\"}], \"scatterpolar\": [{\"marker\": {\"colorbar\": {\"outlinewidth\": 0, \"ticks\": \"\"}}, \"type\": \"scatterpolar\"}], \"scatterpolargl\": [{\"marker\": {\"colorbar\": {\"outlinewidth\": 0, \"ticks\": \"\"}}, \"type\": \"scatterpolargl\"}], \"scatterternary\": [{\"marker\": {\"colorbar\": {\"outlinewidth\": 0, \"ticks\": \"\"}}, \"type\": \"scatterternary\"}], \"surface\": [{\"colorbar\": {\"outlinewidth\": 0, \"ticks\": \"\"}, \"colorscale\": [[0.0, \"#0d0887\"], [0.1111111111111111, \"#46039f\"], [0.2222222222222222, \"#7201a8\"], [0.3333333333333333, \"#9c179e\"], [0.4444444444444444, \"#bd3786\"], [0.5555555555555556, \"#d8576b\"], [0.6666666666666666, \"#ed7953\"], [0.7777777777777778, \"#fb9f3a\"], [0.8888888888888888, \"#fdca26\"], [1.0, \"#f0f921\"]], \"type\": \"surface\"}], \"table\": [{\"cells\": {\"fill\": {\"color\": \"#EBF0F8\"}, \"line\": {\"color\": \"white\"}}, \"header\": {\"fill\": {\"color\": \"#C8D4E3\"}, \"line\": {\"color\": \"white\"}}, \"type\": \"table\"}]}, \"layout\": {\"annotationdefaults\": {\"arrowcolor\": \"#2a3f5f\", \"arrowhead\": 0, \"arrowwidth\": 1}, \"coloraxis\": {\"colorbar\": {\"outlinewidth\": 0, \"ticks\": \"\"}}, \"colorscale\": {\"diverging\": [[0, \"#8e0152\"], [0.1, \"#c51b7d\"], [0.2, \"#de77ae\"], [0.3, \"#f1b6da\"], [0.4, \"#fde0ef\"], [0.5, \"#f7f7f7\"], [0.6, \"#e6f5d0\"], [0.7, \"#b8e186\"], [0.8, \"#7fbc41\"], [0.9, \"#4d9221\"], [1, \"#276419\"]], \"sequential\": [[0.0, \"#0d0887\"], [0.1111111111111111, \"#46039f\"], [0.2222222222222222, \"#7201a8\"], [0.3333333333333333, \"#9c179e\"], [0.4444444444444444, \"#bd3786\"], [0.5555555555555556, \"#d8576b\"], [0.6666666666666666, \"#ed7953\"], [0.7777777777777778, \"#fb9f3a\"], [0.8888888888888888, \"#fdca26\"], [1.0, \"#f0f921\"]], \"sequentialminus\": [[0.0, \"#0d0887\"], [0.1111111111111111, \"#46039f\"], [0.2222222222222222, \"#7201a8\"], [0.3333333333333333, \"#9c179e\"], [0.4444444444444444, \"#bd3786\"], [0.5555555555555556, \"#d8576b\"], [0.6666666666666666, \"#ed7953\"], [0.7777777777777778, \"#fb9f3a\"], [0.8888888888888888, \"#fdca26\"], [1.0, \"#f0f921\"]]}, \"colorway\": [\"#636efa\", \"#EF553B\", \"#00cc96\", \"#ab63fa\", \"#FFA15A\", \"#19d3f3\", \"#FF6692\", \"#B6E880\", \"#FF97FF\", \"#FECB52\"], \"font\": {\"color\": \"#2a3f5f\"}, \"geo\": {\"bgcolor\": \"white\", \"lakecolor\": \"white\", \"landcolor\": \"#E5ECF6\", \"showlakes\": true, \"showland\": true, \"subunitcolor\": \"white\"}, \"hoverlabel\": {\"align\": \"left\"}, \"hovermode\": \"closest\", \"mapbox\": {\"style\": \"light\"}, \"paper_bgcolor\": \"white\", \"plot_bgcolor\": \"#E5ECF6\", \"polar\": {\"angularaxis\": {\"gridcolor\": \"white\", \"linecolor\": \"white\", \"ticks\": \"\"}, \"bgcolor\": \"#E5ECF6\", \"radialaxis\": {\"gridcolor\": \"white\", \"linecolor\": \"white\", \"ticks\": \"\"}}, \"scene\": {\"xaxis\": {\"backgroundcolor\": \"#E5ECF6\", \"gridcolor\": \"white\", \"gridwidth\": 2, \"linecolor\": \"white\", \"showbackground\": true, \"ticks\": \"\", \"zerolinecolor\": \"white\"}, \"yaxis\": {\"backgroundcolor\": \"#E5ECF6\", \"gridcolor\": \"white\", \"gridwidth\": 2, \"linecolor\": \"white\", \"showbackground\": true, \"ticks\": \"\", \"zerolinecolor\": \"white\"}, \"zaxis\": {\"backgroundcolor\": \"#E5ECF6\", \"gridcolor\": \"white\", \"gridwidth\": 2, \"linecolor\": \"white\", \"showbackground\": true, \"ticks\": \"\", \"zerolinecolor\": \"white\"}}, \"shapedefaults\": {\"line\": {\"color\": \"#2a3f5f\"}}, \"ternary\": {\"aaxis\": {\"gridcolor\": \"white\", \"linecolor\": \"white\", \"ticks\": \"\"}, \"baxis\": {\"gridcolor\": \"white\", \"linecolor\": \"white\", \"ticks\": \"\"}, \"bgcolor\": \"#E5ECF6\", \"caxis\": {\"gridcolor\": \"white\", \"linecolor\": \"white\", \"ticks\": \"\"}}, \"title\": {\"x\": 0.05}, \"xaxis\": {\"automargin\": true, \"gridcolor\": \"white\", \"linecolor\": \"white\", \"ticks\": \"\", \"title\": {\"standoff\": 15}, \"zerolinecolor\": \"white\", \"zerolinewidth\": 2}, \"yaxis\": {\"automargin\": true, \"gridcolor\": \"white\", \"linecolor\": \"white\", \"ticks\": \"\", \"title\": {\"standoff\": 15}, \"zerolinecolor\": \"white\", \"zerolinewidth\": 2}}}, \"title\": {\"text\": \"Network of Trips\"}},\n",
       "                        {\"responsive\": true}\n",
       "                    ).then(function(){\n",
       "                            \n",
       "var gd = document.getElementById('68e6b5bc-718f-44f6-a67c-0ebcf52d5814');\n",
       "var x = new MutationObserver(function (mutations, observer) {{\n",
       "        var display = window.getComputedStyle(gd).display;\n",
       "        if (!display || display === 'none') {{\n",
       "            console.log([gd, 'removed!']);\n",
       "            Plotly.purge(gd);\n",
       "            observer.disconnect();\n",
       "        }}\n",
       "}});\n",
       "\n",
       "// Listen for the removal of the full notebook cells\n",
       "var notebookContainer = gd.closest('#notebook-container');\n",
       "if (notebookContainer) {{\n",
       "    x.observe(notebookContainer, {childList: true});\n",
       "}}\n",
       "\n",
       "// Listen for the clearing of the current output cell\n",
       "var outputEl = gd.closest('.output');\n",
       "if (outputEl) {{\n",
       "    x.observe(outputEl, {childList: true});\n",
       "}}\n",
       "\n",
       "                        })\n",
       "                };\n",
       "                });\n",
       "            </script>\n",
       "        </div>"
      ]
     },
     "metadata": {},
     "output_type": "display_data"
    }
   ],
   "source": [
    "#x"
   ]
  },
  {
   "cell_type": "markdown",
   "metadata": {},
   "source": [
    "On hovering over the nodes, one can see the name of the location it refers to. There are few thick lines but the majority edges are thin, signifying that very few trips are made between the two nodes. \n",
    "\n",
    "There are two clusters with very thick lines in between. These can be analysed by zooming into the plot. \n",
    "\n",
    "Cary and Morriville have the maximum no. of trips whereas the most locations are travelled to and from Whitebridge. "
   ]
  },
  {
   "cell_type": "markdown",
   "metadata": {},
   "source": [
    "This was the network for all the locations present in the dataset. Now one can study the network considering the most frequent starting locations. For that purpose, a filtered dataframe is made where the start locations are the top 10 most frequented ones."
   ]
  },
  {
   "cell_type": "code",
   "execution_count": 25,
   "metadata": {},
   "outputs": [],
   "source": [
    "# filtered dataframe\n",
    "most_frequent_starts = df['START*'].value_counts().nlargest(10).index\n",
    "\n",
    "df_filtered = df[df['START*'].isin(most_frequent_starts)]"
   ]
  },
  {
   "cell_type": "markdown",
   "metadata": {},
   "source": [
    "A directed graph is made. The no. of trips are added as edge attributes. The circular layout is used this time to define the positions of the nodes. "
   ]
  },
  {
   "cell_type": "code",
   "execution_count": 35,
   "metadata": {},
   "outputs": [],
   "source": [
    "# making the graph/network\n",
    "G = nx.from_pandas_edgelist(df_filtered, source='START*', target='STOP*', \n",
    "                            create_using=nx.DiGraph())"
   ]
  },
  {
   "cell_type": "code",
   "execution_count": 36,
   "metadata": {},
   "outputs": [],
   "source": [
    "# making the edge attributes dataframe\n",
    "df_edge = df_filtered.groupby(['START*', 'STOP*'], as_index=False)['MILES*'].count()"
   ]
  },
  {
   "cell_type": "code",
   "execution_count": 37,
   "metadata": {},
   "outputs": [],
   "source": [
    "# adding the trip_loc column\n",
    "trip_loc = [tuple([df_edge.loc[i]['START*'], df_edge.loc[i]['STOP*']]) for i in range(len(df_edge))]\n",
    "\n",
    "df_edge['trip_loc'] = trip_loc"
   ]
  },
  {
   "cell_type": "code",
   "execution_count": 38,
   "metadata": {},
   "outputs": [],
   "source": [
    "# loop to iterate over the edges\n",
    "for i in range(len(df_edge)):\n",
    "    \n",
    "    edge = df_edge.iloc[i]['trip_loc']                   # extracting the edge\n",
    "    d = {'Trips':df_edge.iloc[i]['MILES*']}              # dictionary to store the count of trips for that edge\n",
    "    G.edges()[edge].update(d)                            # adding the attribute"
   ]
  },
  {
   "cell_type": "code",
   "execution_count": 30,
   "metadata": {},
   "outputs": [],
   "source": [
    "# defining the position of the nodes\n",
    "pos = nx.circular_layout(G)\n",
    "\n",
    "# adding the position in the form of a dictionary to the nodes\n",
    "for node in G.nodes:\n",
    "    G.nodes[node]['pos'] = list(pos[node])"
   ]
  },
  {
   "cell_type": "code",
   "execution_count": 31,
   "metadata": {},
   "outputs": [],
   "source": [
    "# Make a node trace\n",
    "\n",
    "traceRecode = []                    # list to store all the traces\n",
    "\n",
    "# initialise a node trace\n",
    "node_trace = go.Scatter(x=[], y=[], hovertext=[], mode='markers', hoverinfo=\"text\", \n",
    "                        marker=dict(showscale=True, reversescale=True,\n",
    "                                    color=[], size=5, colorbar=dict(thickness=10, title='No. of unique locations travelled to or from',\n",
    "                                                                    xanchor='left', titleside='right'),\n",
    "                                    colorscale=\"rdylbu\"))\n",
    "\n",
    "# adding the coordinate position of the nodes\n",
    "for node in G.nodes():\n",
    "    x, y = G.nodes()[node]['pos']\n",
    "    hovertext = node\n",
    "    node_trace['x'] += tuple([x])\n",
    "    node_trace['y'] += tuple([y])\n",
    "    node_trace['hovertext'] += tuple([hovertext])          # add the hovertext (name of the location)\n",
    "\n",
    "# specify the color of the node\n",
    "for node, adjacencies in enumerate(G.adjacency()):\n",
    "    try:\n",
    "        node_trace['marker']['color']+=tuple([len(adjacencies[1])])\n",
    "    except:\n",
    "        pass\n",
    "    \n",
    "traceRecode.append(node_trace)                     # adding the node trace"
   ]
  },
  {
   "cell_type": "markdown",
   "metadata": {},
   "source": [
    "In this case, the width of the edges is constant."
   ]
  },
  {
   "cell_type": "code",
   "execution_count": 32,
   "metadata": {},
   "outputs": [],
   "source": [
    "# Make an edge trace\n",
    "\n",
    "for edge in G.edges:\n",
    "    x0, y0 = G.nodes()[edge[0]]['pos']\n",
    "    x1, y1 = G.nodes()[edge[1]]['pos']\n",
    "    \n",
    "    trace = go.Scatter(x=tuple([x0, x1, None]), y=tuple([y0, y1, None]),    # defining the edge trace\n",
    "                       mode='lines',\n",
    "                       line=dict(width=0.5,color='Blue'))\n",
    "    traceRecode.append(trace)                         # adding the edge trace"
   ]
  },
  {
   "cell_type": "code",
   "execution_count": 33,
   "metadata": {},
   "outputs": [],
   "source": [
    "figure = {\n",
    "    \"data\": traceRecode,\n",
    "    \"layout\": go.Layout(title='Network of Trips for most frequent start locations', showlegend=False, hovermode='closest')}"
   ]
  },
  {
   "cell_type": "code",
   "execution_count": 39,
   "metadata": {},
   "outputs": [
    {
     "data": {
      "application/vnd.jupyter.widget-view+json": {
       "model_id": "e12a3ade7b4947909cb228f5705525a2",
       "version_major": 2,
       "version_minor": 0
      },
      "text/plain": [
       "FigureWidget({\n",
       "    'data': [{'hoverinfo': 'text',\n",
       "              'hovertext': [Cary, Morrisville, Midtown, East…"
      ]
     },
     "metadata": {},
     "output_type": "display_data"
    }
   ],
   "source": [
    "go.FigureWidget(figure)"
   ]
  },
  {
   "cell_type": "markdown",
   "metadata": {},
   "source": [
    "This plot shows which places are travelled to or from each location. Whitebridge, Midtown and Cary can be considered to be the most frequent location/junction for the rider."
   ]
  }
 ],
 "metadata": {
  "kernelspec": {
   "display_name": "Python 3",
   "language": "python",
   "name": "python3"
  },
  "language_info": {
   "codemirror_mode": {
    "name": "ipython",
    "version": 3
   },
   "file_extension": ".py",
   "mimetype": "text/x-python",
   "name": "python",
   "nbconvert_exporter": "python",
   "pygments_lexer": "ipython3",
   "version": "3.7.6"
  }
 },
 "nbformat": 4,
 "nbformat_minor": 4
}
